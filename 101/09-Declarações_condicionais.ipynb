{
 "cells": [
  {
   "cell_type": "code",
   "execution_count": null,
   "metadata": {},
   "outputs": [],
   "source": [
    "# Versão da Linguagem Python\n",
    "from platform import python_version\n",
    "print('Versão de Python Neste Jupyter Notebook:', python_version())\n",
    "\n",
    "# usaremos o filtro 'warning' para deixar mais limpo.\n",
    "import warnings\n",
    "warnings.filterwarnings('ignore')"
   ]
  },
  {
   "attachments": {},
   "cell_type": "markdown",
   "metadata": {},
   "source": [
    "### Declarações condicionais"
   ]
  },
  {
   "attachments": {},
   "cell_type": "markdown",
   "metadata": {},
   "source": [
    "Ddesenvolvedores precisam tomar decisões o tempo todo. Como você aborda esse problema? Você usa tecnologia X ou tecnologia Y? Quais linguagens de programação você pode usar para resolver isso? Às vezes, seu código também precisa tomar uma decisão."
   ]
  },
  {
   "attachments": {},
   "cell_type": "markdown",
   "metadata": {},
   "source": [
    "algumas coisas comuns que o código verifica todos os dias:\n",
    "\n",
    "- Você está autorizado a fazer isso ?\n",
    "- Esse é um endereço de email válido ?\n",
    "- Esse valor é válido nesse campo ?"
   ]
  },
  {
   "attachments": {},
   "cell_type": "markdown",
   "metadata": {},
   "source": [
    "Esses tipos de coisas são controlados usando declarações condicionais. Este tópico é geralmente chamado de fluxo de controle. Em Python, você pode controlar o fluxo do seu programa usando instruções `if`, `elif` e `else`."
   ]
  },
  {
   "attachments": {},
   "cell_type": "markdown",
   "metadata": {},
   "source": [
    "- Operadores de comparações\n",
    "- Criando uma condicional simples\n",
    "- Declarações condicionais de ramificação\n",
    "- Condicionais de aninhamento\n",
    "- Operadores lógicos\n",
    "- Operadores especiais"
   ]
  },
  {
   "attachments": {},
   "cell_type": "markdown",
   "metadata": {},
   "source": [
    "#### Operadores de Comparação"
   ]
  },
  {
   "attachments": {},
   "cell_type": "markdown",
   "metadata": {},
   "source": [
    "Antes de começar a usar condicionais, será útil aprender sobre os operadores de comparação. Os operadores de comparação permitem que você pergunte se algo é igual a outra coisa ou se é maior ou menor que um valor, etc."
   ]
  },
  {
   "attachments": {},
   "cell_type": "markdown",
   "metadata": {},
   "source": [
    "Os operadores de comparação do Python são mostrados na tabela a seguir:"
   ]
  },
  {
   "attachments": {},
   "cell_type": "markdown",
   "metadata": {},
   "source": [
    "Operador | Significado\n",
    "---|---\n",
    "\\> | Maior que - Isso é verdadeiro se o operando esquerdo for maior que o direito\n",
    "< |  Menor que - Isso é verdadeiro se o operando esquerdo for menor que o direito\n",
    "== | Igual a - Isso é verdadeiro somente quando ambos os operandos são iguais\n",
    "!= | Diferente de - Isso é verdadeiro se os operandos não forem iguais\n",
    "\\>= | Maior ou igual a - Isso é verdadeiro quando o operando esquerdo é maior ou igual ao direito\n",
    "<= | Menor ou igual a - Isso é verdadeiro quando o operando esquerdo é menor ou igual ao direito"
   ]
  },
  {
   "attachments": {},
   "cell_type": "markdown",
   "metadata": {},
   "source": [
    "estão alguns exemplos:"
   ]
  },
  {
   "cell_type": "code",
   "execution_count": null,
   "metadata": {},
   "outputs": [],
   "source": [
    "a = 1\n",
    "b = 2"
   ]
  },
  {
   "cell_type": "code",
   "execution_count": null,
   "metadata": {},
   "outputs": [],
   "source": [
    "print(a == b)\n",
    "print(a > b)\n",
    "print(a < b)\n",
    "print(a != b)\n",
    "print(a >= b)\n",
    "print(a <= b)"
   ]
  },
  {
   "attachments": {},
   "cell_type": "markdown",
   "metadata": {},
   "source": [
    "#### Criando uma condicional simples"
   ]
  },
  {
   "attachments": {},
   "cell_type": "markdown",
   "metadata": {},
   "source": [
    "A criação de uma instrução condicional permite que seu código se ramifique em dois ou mais caminhos diferentes. Vamos usar a autenticação como exemplo. Se você acessar sua conta de webmail em um novo computador, precisará fazer login para visualizar seu e-mail."
   ]
  },
  {
   "attachments": {},
   "cell_type": "markdown",
   "metadata": {},
   "source": [
    "Você pode apostar com segurança que o código está usando uma declaração condicional para verificar e ver se você está autenticado/autorizado para visualizar o e-mail. Se estiver, ele carrega seu e-mail."
   ]
  },
  {
   "attachments": {},
   "cell_type": "markdown",
   "metadata": {},
   "source": [
    "um exemplo de autenticação simulada:"
   ]
  },
  {
   "cell_type": "code",
   "execution_count": null,
   "metadata": {},
   "outputs": [],
   "source": [
    "autenticado = True\n",
    "\n",
    "if autenticado:\n",
    "    print('Você está logado!')"
   ]
  },
  {
   "attachments": {},
   "cell_type": "markdown",
   "metadata": {},
   "source": [
    "Neste exemplo, você cria uma variável chamada autenticada e a define como `True`. Em seguida, você cria uma instrução condicional usando a palavra-chave `if` do Python. Uma instrução condicional em Python assume esta forma:"
   ]
  },
  {
   "cell_type": "code",
   "execution_count": null,
   "metadata": {},
   "outputs": [],
   "source": [
    "# if <expressão>:\n",
    "#   faça alguma coisa aqui"
   ]
  },
  {
   "attachments": {},
   "cell_type": "markdown",
   "metadata": {},
   "source": [
    "Para criar uma condicional, você começa com a palavra `if`, seguida por uma expressão que termina com dois pontos. Quando essa expressão for avaliada como `True`, o código abaixo da condicional será executado."
   ]
  },
  {
   "attachments": {},
   "cell_type": "markdown",
   "metadata": {},
   "source": [
    "Se autenticado tivesse sido definido como `False`, nada teria sido impresso."
   ]
  },
  {
   "attachments": {},
   "cell_type": "markdown",
   "metadata": {},
   "source": [
    "##### A indentação é importante em Python"
   ]
  },
  {
   "attachments": {},
   "cell_type": "markdown",
   "metadata": {},
   "source": [
    "Python se preocupa com indentação. Um bloco de código é uma série de linhas de código com recuo uniforme. Python determina onde um bloco de código começa e termina por esse recuo."
   ]
  },
  {
   "attachments": {},
   "cell_type": "markdown",
   "metadata": {},
   "source": [
    "Recuar seu código uniformemente é necessário em Python. Se você não fizer isso corretamente, seu código não será executado conforme o esperado."
   ]
  },
  {
   "attachments": {},
   "cell_type": "markdown",
   "metadata": {},
   "source": [
    "#### Declarações condicionais de ramificação"
   ]
  },
  {
   "attachments": {},
   "cell_type": "markdown",
   "metadata": {},
   "source": [
    "Muitas vezes, você precisará fazer coisas diferentes, dependendo da resposta a uma pergunta. Você deseja que o usuário saiba quando ele não foi autenticado para que ele faça o login."
   ]
  },
  {
   "attachments": {},
   "cell_type": "markdown",
   "metadata": {},
   "source": [
    "Para fazer isso funcionar, você pode usar a palavra-chave `else`:"
   ]
  },
  {
   "cell_type": "code",
   "execution_count": null,
   "metadata": {},
   "outputs": [],
   "source": [
    "autenticado = False\n",
    "\n",
    "if autenticado:\n",
    "    print('Você está logado!')\n",
    "\n",
    "else:\n",
    "    print('Por favor faça o login.')"
   ]
  },
  {
   "attachments": {},
   "cell_type": "markdown",
   "metadata": {},
   "source": [
    "O que este código está fazendo é verificar o valor de autenticado: se for verdadeiro , imprimirá “Você está logado”, caso contrário, imprimirá “Por favor, faça o login”."
   ]
  },
  {
   "attachments": {},
   "cell_type": "markdown",
   "metadata": {},
   "source": [
    "Em um programa real, você teria mais do que apenas uma instrução `print()`. Você teria um código que redirecionaria o usuário para a página de login ou, se ele fosse autenticado, executaria um código para carregar sua caixa de entrada."
   ]
  },
  {
   "attachments": {},
   "cell_type": "markdown",
   "metadata": {},
   "source": [
    "No trecho de código a seguir, você criará uma declaração condicional que verificará sua idade e informará como você pode participar das eleições dependendo desse fator:"
   ]
  },
  {
   "cell_type": "code",
   "execution_count": 4,
   "metadata": {},
   "outputs": [
    {
     "name": "stdout",
     "output_type": "stream",
     "text": [
      "Você pode beber qualquer bebida.\n"
     ]
    }
   ],
   "source": [
    "idade = 10\n",
    "\n",
    "if idade < 18:\n",
    "    print('Você pode acompanhar as eleições nas notícias.')\n",
    "\n",
    "elif idade < 35:\n",
    "    print('Você pode votar em todas as eleições.')\n",
    "\n",
    "elif idade >= 35:\n",
    "    print('Você pode concorrer a qualquer eleição.')"
   ]
  },
  {
   "attachments": {},
   "cell_type": "markdown",
   "metadata": {},
   "source": [
    "Neste exemplo, você usa `if` e `elif`. A palavra-chave elif é a abreviação de “`else if`”. Portanto, o código aqui está verificando a idade em relação a diferentes valores embutidos no código. Se a idade for menor que 18 anos, o cidadão pode acompanhar as eleições pelo noticiário."
   ]
  },
  {
   "attachments": {},
   "cell_type": "markdown",
   "metadata": {},
   "source": [
    "Se tiverem mais de 18 anos, mas menos de 35, podem votar em todas as eleições. Em seguida, você verifica se a idade do cidadão é maior ou igual a 35 anos. Assim, ele pode concorrer a qualquer cargo e participar de sua democracia como político."
   ]
  },
  {
   "attachments": {},
   "cell_type": "markdown",
   "metadata": {},
   "source": [
    "Você poderia alterar o último `elif` para ser simplesmente uma cláusula else se quisesse, mas o Python encoraja os desenvolvedores a serem explícitos em seu código e é mais fácil de entender usando `elif` neste caso."
   ]
  },
  {
   "attachments": {},
   "cell_type": "markdown",
   "metadata": {},
   "source": [
    "Você pode usar quantas instruções elif forem necessárias, embora geralmente seja recomendado ter apenas um punhado - uma instrução `if/elif` longa provavelmente precisa ser retrabalhada."
   ]
  },
  {
   "attachments": {},
   "cell_type": "markdown",
   "metadata": {},
   "source": [
    "#### Condições de aninhamento"
   ]
  },
  {
   "attachments": {},
   "cell_type": "markdown",
   "metadata": {},
   "source": [
    "Você pode colocar uma instrução if dentro de outra instrução `if`. Isso é conhecido como aninhamento."
   ]
  },
  {
   "attachments": {},
   "cell_type": "markdown",
   "metadata": {},
   "source": [
    "um exemplo:"
   ]
  },
  {
   "cell_type": "code",
   "execution_count": null,
   "metadata": {},
   "outputs": [],
   "source": [
    "idade = 18\n",
    "carro = 'Ford'\n",
    "\n",
    "if idade>= 18:\n",
    "\n",
    "    if carro in ['Honda', 'Toyota']:\n",
    "        print('Você compra carros Japoneses')\n",
    "\n",
    "    elif carro in ['Ford', 'Chevrolet']:\n",
    "        print('Você compra carros Americanos')\n",
    "\n",
    "else:\n",
    "    print('Você é muito jovem para comprar carros!')"
   ]
  },
  {
   "attachments": {},
   "cell_type": "markdown",
   "metadata": {},
   "source": [
    "Este código tem vários caminhos que pode seguir porque depende de duas variáveis: idade e carro. Se a idade for maior que um determinado valor, ele cairá no primeiro bloco de código e executará a instrução `if` aninhada , que verifica o tipo de carro. Se a idade for menor que um valor arbitrário, ele simplesmente imprimirá uma mensagem."
   ]
  },
  {
   "attachments": {},
   "cell_type": "markdown",
   "metadata": {},
   "source": [
    "Você pode aninhar condicionais quantas vezes quiser. No entanto, quanto mais aninhamento você fizer, mais complicado será depurar posteriormente. Você deve manter o aninhamento em apenas um ou dois níveis de profundidade na maioria dos casos."
   ]
  },
  {
   "attachments": {},
   "cell_type": "markdown",
   "metadata": {},
   "source": [
    "os operadores lógicos podem ajudar a aliviar esse problema!"
   ]
  },
  {
   "attachments": {},
   "cell_type": "markdown",
   "metadata": {},
   "source": [
    "#### Operadores lógicos"
   ]
  },
  {
   "attachments": {},
   "cell_type": "markdown",
   "metadata": {},
   "source": [
    "Os operadores lógicos permitem encadear várias expressões usando palavras-chave especiais."
   ]
  },
  {
   "attachments": {},
   "cell_type": "markdown",
   "metadata": {},
   "source": [
    "Aqui estão os três operadores lógicos que o Python suporta:\n",
    "\n",
    "- `and` - Somente `verdadeiro` se ambos os operandos forem verdadeiros.\n",
    "- `or` - `Verdadeiro` se qualquer um dos operandos for verdadeiro.\n",
    "- `not` - `Verdadeiro` se o operando for falso."
   ]
  },
  {
   "cell_type": "code",
   "execution_count": null,
   "metadata": {},
   "outputs": [],
   "source": [
    "idade = 18\n",
    "carro = 'Ford'\n",
    "\n",
    "if idade >= 18 and carro in ['Honda', 'Toyota']:\n",
    "    print('Você compra carros Japoneses.')\n",
    "\n",
    "elif idade >= 18 and carro in ['Ford', 'Chevrolet']:\n",
    "    print('Você compra carros Americanos.')\n",
    "\n",
    "else:\n",
    "    print('Você é muito jovem para comprar carros!')"
   ]
  },
  {
   "attachments": {},
   "cell_type": "markdown",
   "metadata": {},
   "source": [
    "Quando você usa e, ambas as expressões devem ser avaliadas como `True` para que o código abaixo delas seja executado. Portanto, a primeira condicional verifica se a idade é maior ou igual a 18 E o carro está na lista de carros japoneses. Como não são as duas coisas, você desce para o primeiro `elif` e verifica essas condições. Desta vez, ambas as condições são verdadeiras, então ele imprime sua preferência de carro."
   ]
  },
  {
   "attachments": {},
   "cell_type": "markdown",
   "metadata": {},
   "source": [
    "Vamos ver o que acontece se você mudar o `and` para um `or`:"
   ]
  },
  {
   "cell_type": "code",
   "execution_count": null,
   "metadata": {},
   "outputs": [],
   "source": [
    "idade = 19\n",
    "carro = 'Ford'\n",
    "\n",
    "if idade >= 18 or carro in ['Honda', 'Toyota']:\n",
    "    print('Voceê compra carros Japoneses.')\n",
    "\n",
    "elif idade >= 18 or carro in ['Ford', 'Chevrolet']:\n",
    "    print('Você compra carros Americanos.')\n",
    "\n",
    "else:\n",
    "    print('Você é muito jovem para comprar carros!')"
   ]
  },
  {
   "attachments": {},
   "cell_type": "markdown",
   "metadata": {},
   "source": [
    "quando você usa um lógico ou o código nesse bloco de código será executado se qualquer uma das declarações for verdadeira."
   ]
  },
  {
   "attachments": {},
   "cell_type": "markdown",
   "metadata": {},
   "source": [
    "Existem duas expressões em:\n",
    "\n",
    "`if idade >= 21 or carro in ['Honda', 'Toyota']:`\n",
    "\n",
    "O primeiro é `idade >= 21`. Isso é avaliado como Verdadeiro."
   ]
  },
  {
   "attachments": {},
   "cell_type": "markdown",
   "metadata": {},
   "source": [
    "Assim que o Python vê o ou e que a primeira instrução é True, ele avalia tudo como `True`. Ou sua idade é maior ou igual a 21 anos ou seu carro é Ford. De qualquer forma, é verdade e esse código é executado."
   ]
  },
  {
   "attachments": {},
   "cell_type": "markdown",
   "metadata": {},
   "source": [
    "Usar not é um pouco diferente."
   ]
  },
  {
   "cell_type": "code",
   "execution_count": 5,
   "metadata": {},
   "outputs": [
    {
     "name": "stdout",
     "output_type": "stream",
     "text": [
      "Por favor faça login.\n"
     ]
    }
   ],
   "source": [
    "autenticado = False\n",
    "\n",
    "if not autenticado:\n",
    "    print('Por favor faça login.')\n",
    "\n",
    "else:\n",
    "    print('Você está logado.')"
   ]
  },
  {
   "attachments": {},
   "cell_type": "markdown",
   "metadata": {},
   "source": [
    "Ao usar not, trocamos os blocos de sucesso e falha – isso pode ser útil quando o código de tratamento de falha é curto."
   ]
  },
  {
   "attachments": {},
   "cell_type": "markdown",
   "metadata": {},
   "source": [
    "Você pode combinar operadores lógicos em uma instrução condicional. Aqui está um exemplo:"
   ]
  },
  {
   "cell_type": "code",
   "execution_count": 8,
   "metadata": {},
   "outputs": [
    {
     "name": "stdout",
     "output_type": "stream",
     "text": [
      "Esse leite tem 10 dias e parece branco\n"
     ]
    }
   ],
   "source": [
    "cor = 'branco'\n",
    "idade = 10\n",
    "\n",
    "if idade <= 14 and (cor == 'branco' or cor == 'verde'):\n",
    "    print(f'Esse leite tem {idade} dias e parece {cor}')\n",
    "\n",
    "else:\n",
    "    print(f'Você não deve beber esse leite com {idade} dias...')"
   ]
  },
  {
   "attachments": {},
   "cell_type": "markdown",
   "metadata": {},
   "source": [
    "Desta vez, você executará o código na primeira metade da instrução `if` se a idade for menor ou igual a 14 anos e a cor do leite for branca ou verde."
   ]
  },
  {
   "attachments": {},
   "cell_type": "markdown",
   "metadata": {},
   "source": [
    "Os parênteses em torno da 2ª e 3ª expressões são muito importantes por causa da precedência, o que significa a importância de um determinado operador. e é mais importante que ou, portanto, sem os parênteses, o Python interpreta o código acima como se você tivesse digitado `if (idade <= 14 e cor == 'branco') ou cor == 'verde':`."
   ]
  },
  {
   "attachments": {},
   "cell_type": "markdown",
   "metadata": {},
   "source": [
    "#### operadores especiais"
   ]
  },
  {
   "cell_type": "markdown",
   "metadata": {},
   "source": []
  },
  {
   "cell_type": "markdown",
   "metadata": {},
   "source": []
  },
  {
   "cell_type": "markdown",
   "metadata": {},
   "source": []
  },
  {
   "cell_type": "markdown",
   "metadata": {},
   "source": []
  },
  {
   "cell_type": "markdown",
   "metadata": {},
   "source": []
  },
  {
   "cell_type": "code",
   "execution_count": null,
   "metadata": {},
   "outputs": [],
   "source": [
    "%reload_ext watermark\n",
    "%watermark -a \"Caique Miranda\" -gu \"caiquemiranda\" -iv"
   ]
  },
  {
   "attachments": {},
   "cell_type": "markdown",
   "metadata": {},
   "source": [
    "### End."
   ]
  }
 ],
 "metadata": {
  "kernelspec": {
   "display_name": "Python 3",
   "language": "python",
   "name": "python3"
  },
  "language_info": {
   "codemirror_mode": {
    "name": "ipython",
    "version": 3
   },
   "file_extension": ".py",
   "mimetype": "text/x-python",
   "name": "python",
   "nbconvert_exporter": "python",
   "pygments_lexer": "ipython3",
   "version": "3.10.5"
  },
  "orig_nbformat": 4
 },
 "nbformat": 4,
 "nbformat_minor": 2
}
