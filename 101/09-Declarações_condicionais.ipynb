{
 "cells": [
  {
   "cell_type": "code",
   "execution_count": null,
   "metadata": {},
   "outputs": [],
   "source": [
    "# Versão da Linguagem Python\n",
    "from platform import python_version\n",
    "print('Versão de Python Neste Jupyter Notebook:', python_version())\n",
    "\n",
    "# usaremos o filtro 'warning' para deixar mais limpo.\n",
    "import warnings\n",
    "warnings.filterwarnings('ignore')"
   ]
  },
  {
   "attachments": {},
   "cell_type": "markdown",
   "metadata": {},
   "source": [
    "### Declarações condicionais"
   ]
  },
  {
   "attachments": {},
   "cell_type": "markdown",
   "metadata": {},
   "source": [
    "Ddesenvolvedores precisam tomar decisões o tempo todo. Como você aborda esse problema? Você usa tecnologia X ou tecnologia Y? Quais linguagens de programação você pode usar para resolver isso? Às vezes, seu código também precisa tomar uma decisão."
   ]
  },
  {
   "attachments": {},
   "cell_type": "markdown",
   "metadata": {},
   "source": [
    "algumas coisas comuns que o código verifica todos os dias:\n",
    "\n",
    "- Você está autorizado a fazer isso ?\n",
    "- Esse é um endereço de email válido ?\n",
    "- Esse valor é válido nesse campo ?"
   ]
  },
  {
   "attachments": {},
   "cell_type": "markdown",
   "metadata": {},
   "source": [
    "Esses tipos de coisas são controlados usando declarações condicionais. Este tópico é geralmente chamado de fluxo de controle. Em Python, você pode controlar o fluxo do seu programa usando instruções `if`, `elif` e `else`."
   ]
  },
  {
   "attachments": {},
   "cell_type": "markdown",
   "metadata": {},
   "source": [
    "- Operadores de comparações\n",
    "- Criando uma condicional simples\n",
    "- Declarações condicionais de ramificação\n",
    "- Condicionais de aninhamento\n",
    "- Operadores lógicos\n",
    "- Operadores especiais"
   ]
  },
  {
   "attachments": {},
   "cell_type": "markdown",
   "metadata": {},
   "source": [
    "#### Operadores de Comparação"
   ]
  },
  {
   "attachments": {},
   "cell_type": "markdown",
   "metadata": {},
   "source": [
    "Antes de começar a usar condicionais, será útil aprender sobre os operadores de comparação. Os operadores de comparação permitem que você pergunte se algo é igual a outra coisa ou se é maior ou menor que um valor, etc."
   ]
  },
  {
   "attachments": {},
   "cell_type": "markdown",
   "metadata": {},
   "source": [
    "Os operadores de comparação do Python são mostrados na tabela a seguir:"
   ]
  },
  {
   "attachments": {},
   "cell_type": "markdown",
   "metadata": {},
   "source": [
    "Operador | Significado\n",
    "---|---\n",
    "\\> | Maior que - Isso é verdadeiro se o operando esquerdo for maior que o direito\n",
    "< |  Menor que - Isso é verdadeiro se o operando esquerdo for menor que o direito\n",
    "== | Igual a - Isso é verdadeiro somente quando ambos os operandos são iguais\n",
    "!= | Diferente de - Isso é verdadeiro se os operandos não forem iguais\n",
    "\\>= | Maior ou igual a - Isso é verdadeiro quando o operando esquerdo é maior ou igual ao direito\n",
    "<= | Menor ou igual a - Isso é verdadeiro quando o operando esquerdo é menor ou igual ao direito"
   ]
  },
  {
   "attachments": {},
   "cell_type": "markdown",
   "metadata": {},
   "source": [
    "estão alguns exemplos:"
   ]
  },
  {
   "cell_type": "code",
   "execution_count": null,
   "metadata": {},
   "outputs": [],
   "source": [
    "a = 1\n",
    "b = 2"
   ]
  },
  {
   "cell_type": "code",
   "execution_count": null,
   "metadata": {},
   "outputs": [],
   "source": [
    "print(a == b)\n",
    "print(a > b)\n",
    "print(a < b)\n",
    "print(a != b)\n",
    "print(a >= b)\n",
    "print(a <= b)"
   ]
  },
  {
   "attachments": {},
   "cell_type": "markdown",
   "metadata": {},
   "source": [
    "#### Criando uma condicional simples"
   ]
  },
  {
   "attachments": {},
   "cell_type": "markdown",
   "metadata": {},
   "source": [
    "A criação de uma instrução condicional permite que seu código se ramifique em dois ou mais caminhos diferentes. Vamos usar a autenticação como exemplo. Se você acessar sua conta de webmail em um novo computador, precisará fazer login para visualizar seu e-mail."
   ]
  },
  {
   "attachments": {},
   "cell_type": "markdown",
   "metadata": {},
   "source": [
    "Você pode apostar com segurança que o código está usando uma declaração condicional para verificar e ver se você está autenticado/autorizado para visualizar o e-mail. Se estiver, ele carrega seu e-mail."
   ]
  },
  {
   "attachments": {},
   "cell_type": "markdown",
   "metadata": {},
   "source": [
    "um exemplo de autenticação simulada:"
   ]
  },
  {
   "cell_type": "code",
   "execution_count": null,
   "metadata": {},
   "outputs": [],
   "source": [
    "autenticado = True\n",
    "if autenticado:\n",
    "    print('Você está logado!')"
   ]
  },
  {
   "attachments": {},
   "cell_type": "markdown",
   "metadata": {},
   "source": [
    "Neste exemplo, você cria uma variável chamada autenticada e a define como `True`. Em seguida, você cria uma instrução condicional usando a palavra-chave `if` do Python. Uma instrução condicional em Python assume esta forma:"
   ]
  },
  {
   "cell_type": "code",
   "execution_count": null,
   "metadata": {},
   "outputs": [],
   "source": [
    "# if <expressão>:\n",
    "#   faça alguma coisa aqui"
   ]
  },
  {
   "attachments": {},
   "cell_type": "markdown",
   "metadata": {},
   "source": [
    "Para criar uma condicional, você começa com a palavra `if`, seguida por uma expressão que termina com dois pontos. Quando essa expressão for avaliada como `True`, o código abaixo da condicional será executado."
   ]
  },
  {
   "attachments": {},
   "cell_type": "markdown",
   "metadata": {},
   "source": [
    "Se autenticado tivesse sido definido como `False`, nada teria sido impresso."
   ]
  },
  {
   "attachments": {},
   "cell_type": "markdown",
   "metadata": {},
   "source": [
    "##### A indentação é importante em Python"
   ]
  },
  {
   "attachments": {},
   "cell_type": "markdown",
   "metadata": {},
   "source": [
    "Python se preocupa com indentação. Um bloco de código é uma série de linhas de código com recuo uniforme. Python determina onde um bloco de código começa e termina por esse recuo."
   ]
  },
  {
   "attachments": {},
   "cell_type": "markdown",
   "metadata": {},
   "source": [
    "Recuar seu código uniformemente é necessário em Python. Se você não fizer isso corretamente, seu código não será executado conforme o esperado."
   ]
  },
  {
   "attachments": {},
   "cell_type": "markdown",
   "metadata": {},
   "source": [
    "#### Declarações condicionais de ramificação"
   ]
  },
  {
   "attachments": {},
   "cell_type": "markdown",
   "metadata": {},
   "source": [
    "Muitas vezes, você precisará fazer coisas diferentes, dependendo da resposta a uma pergunta. Você deseja que o usuário saiba quando ele não foi autenticado para que ele faça o login."
   ]
  },
  {
   "attachments": {},
   "cell_type": "markdown",
   "metadata": {},
   "source": [
    "Para fazer isso funcionar, você pode usar a palavra-chave `else`:"
   ]
  },
  {
   "cell_type": "code",
   "execution_count": null,
   "metadata": {},
   "outputs": [],
   "source": [
    "autenticado = False\n",
    "if autenticado:\n",
    "    print('Você está logado!')\n",
    "else:\n",
    "    print('Por favor faça o login.')"
   ]
  },
  {
   "attachments": {},
   "cell_type": "markdown",
   "metadata": {},
   "source": [
    "O que este código está fazendo é verificar o valor de autenticado: se for verdadeiro , imprimirá “Você está logado”, caso contrário, imprimirá “Por favor, faça o login”."
   ]
  },
  {
   "attachments": {},
   "cell_type": "markdown",
   "metadata": {},
   "source": [
    "Em um programa real, você teria mais do que apenas uma instrução `print()`. Você teria um código que redirecionaria o usuário para a página de login ou, se ele fosse autenticado, executaria um código para carregar sua caixa de entrada."
   ]
  },
  {
   "attachments": {},
   "cell_type": "markdown",
   "metadata": {},
   "source": [
    "No trecho de código a seguir, você criará uma declaração condicional que verificará sua idade e informará como você pode participar das eleições dependendo desse fator:"
   ]
  },
  {
   "cell_type": "code",
   "execution_count": 4,
   "metadata": {},
   "outputs": [
    {
     "name": "stdout",
     "output_type": "stream",
     "text": [
      "Você pode beber qualquer bebida.\n"
     ]
    }
   ],
   "source": [
    "idade = 10\n",
    "if idade < 18:\n",
    "    print('Você pode acompanhar as eleições nas notícias.')\n",
    "elif idade < 35:\n",
    "    print('Você pode votar em todas as eleições.')\n",
    "elif idade >= 35:\n",
    "    print('Você pode concorrer a qualquer eleição.')"
   ]
  },
  {
   "attachments": {},
   "cell_type": "markdown",
   "metadata": {},
   "source": [
    "Neste exemplo, você usa `if` e `elif`. A palavra-chave elif é a abreviação de “`else if`”. Portanto, o código aqui está verificando a idade em relação a diferentes valores embutidos no código. Se a idade for menor que 18 anos, o cidadão pode acompanhar as eleições pelo noticiário."
   ]
  },
  {
   "attachments": {},
   "cell_type": "markdown",
   "metadata": {},
   "source": [
    "Se tiverem mais de 18 anos, mas menos de 35, podem votar em todas as eleições. Em seguida, você verifica se a idade do cidadão é maior ou igual a 35 anos. Assim, ele pode concorrer a qualquer cargo e participar de sua democracia como político."
   ]
  },
  {
   "attachments": {},
   "cell_type": "markdown",
   "metadata": {},
   "source": [
    "Você poderia alterar o último `elif` para ser simplesmente uma cláusula else se quisesse, mas o Python encoraja os desenvolvedores a serem explícitos em seu código e é mais fácil de entender usando `elif` neste caso."
   ]
  },
  {
   "attachments": {},
   "cell_type": "markdown",
   "metadata": {},
   "source": [
    "Você pode usar quantas instruções elif forem necessárias, embora geralmente seja recomendado ter apenas um punhado - uma instrução `if/elif` longa provavelmente precisa ser retrabalhada."
   ]
  },
  {
   "attachments": {},
   "cell_type": "markdown",
   "metadata": {},
   "source": [
    "#### Condições de aninhamento"
   ]
  },
  {
   "cell_type": "markdown",
   "metadata": {},
   "source": []
  },
  {
   "cell_type": "markdown",
   "metadata": {},
   "source": []
  },
  {
   "cell_type": "code",
   "execution_count": null,
   "metadata": {},
   "outputs": [],
   "source": [
    "%reload_ext watermark\n",
    "%watermark -a \"Caique Miranda\" -gu \"caiquemiranda\" -iv"
   ]
  },
  {
   "attachments": {},
   "cell_type": "markdown",
   "metadata": {},
   "source": [
    "### End."
   ]
  }
 ],
 "metadata": {
  "kernelspec": {
   "display_name": "Python 3",
   "language": "python",
   "name": "python3"
  },
  "language_info": {
   "codemirror_mode": {
    "name": "ipython",
    "version": 3
   },
   "file_extension": ".py",
   "mimetype": "text/x-python",
   "name": "python",
   "nbconvert_exporter": "python",
   "pygments_lexer": "ipython3",
   "version": "3.10.5"
  },
  "orig_nbformat": 4
 },
 "nbformat": 4,
 "nbformat_minor": 2
}
