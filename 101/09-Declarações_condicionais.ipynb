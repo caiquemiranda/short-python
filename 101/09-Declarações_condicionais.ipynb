{
 "cells": [
  {
   "cell_type": "code",
   "execution_count": null,
   "metadata": {},
   "outputs": [],
   "source": [
    "# Versão da Linguagem Python\n",
    "from platform import python_version\n",
    "print('Versão de Python Neste Jupyter Notebook:', python_version())\n",
    "\n",
    "# usaremos o filtro 'warning' para deixar mais limpo.\n",
    "import warnings\n",
    "warnings.filterwarnings('ignore')"
   ]
  },
  {
   "attachments": {},
   "cell_type": "markdown",
   "metadata": {},
   "source": [
    "### Declarações condicionais"
   ]
  },
  {
   "attachments": {},
   "cell_type": "markdown",
   "metadata": {},
   "source": [
    "Ddesenvolvedores precisam tomar decisões o tempo todo. Como você aborda esse problema? Você usa tecnologia X ou tecnologia Y? Quais linguagens de programação você pode usar para resolver isso? Às vezes, seu código também precisa tomar uma decisão."
   ]
  },
  {
   "attachments": {},
   "cell_type": "markdown",
   "metadata": {},
   "source": [
    "algumas coisas comuns que o código verifica todos os dias:\n",
    "\n",
    "- Você está autorizado a fazer isso ?\n",
    "- Esse é um endereço de email válido ?\n",
    "- Esse valor é válido nesse campo ?"
   ]
  },
  {
   "attachments": {},
   "cell_type": "markdown",
   "metadata": {},
   "source": [
    "Esses tipos de coisas são controlados usando declarações condicionais. Este tópico é geralmente chamado de fluxo de controle. Em Python, você pode controlar o fluxo do seu programa usando instruções `if`, `elif` e `else`."
   ]
  },
  {
   "attachments": {},
   "cell_type": "markdown",
   "metadata": {},
   "source": [
    "- Operadores de comparações\n",
    "- Criando uma condicional simples\n",
    "- Declarações condicionais de ramificação\n",
    "- Condicionais de aninhamento\n",
    "- Operadores lógicos\n",
    "- Operadores especiais"
   ]
  },
  {
   "attachments": {},
   "cell_type": "markdown",
   "metadata": {},
   "source": [
    "#### Operadores de Comparação"
   ]
  },
  {
   "attachments": {},
   "cell_type": "markdown",
   "metadata": {},
   "source": [
    "Antes de começar a usar condicionais, será útil aprender sobre os operadores de comparação. Os operadores de comparação permitem que você pergunte se algo é igual a outra coisa ou se é maior ou menor que um valor, etc."
   ]
  },
  {
   "attachments": {},
   "cell_type": "markdown",
   "metadata": {},
   "source": [
    "Os operadores de comparação do Python são mostrados na tabela a seguir:"
   ]
  },
  {
   "attachments": {},
   "cell_type": "markdown",
   "metadata": {},
   "source": [
    "Operador | Significado\n",
    "---|---\n",
    "\\> | Maior que - Isso é verdadeiro se o operando esquerdo for maior que o direito\n",
    "< |  Menor que - Isso é verdadeiro se o operando esquerdo for menor que o direito\n",
    "== | Igual a - Isso é verdadeiro somente quando ambos os operandos são iguais\n",
    "!= | Diferente de - Isso é verdadeiro se os operandos não forem iguais\n",
    "\\>= | Maior ou igual a - Isso é verdadeiro quando o operando esquerdo é maior ou igual ao direito\n",
    "<= | Menor ou igual a - Isso é verdadeiro quando o operando esquerdo é menor ou igual ao direito"
   ]
  },
  {
   "attachments": {},
   "cell_type": "markdown",
   "metadata": {},
   "source": [
    "estão alguns exemplos:"
   ]
  },
  {
   "cell_type": "code",
   "execution_count": null,
   "metadata": {},
   "outputs": [],
   "source": [
    "a = 1\n",
    "b = 2"
   ]
  },
  {
   "cell_type": "code",
   "execution_count": null,
   "metadata": {},
   "outputs": [],
   "source": [
    "print(a == b)\n",
    "print(a > b)\n",
    "print(a < b)\n",
    "print(a != b)\n",
    "print(a >= b)\n",
    "print(a <= b)"
   ]
  },
  {
   "attachments": {},
   "cell_type": "markdown",
   "metadata": {},
   "source": [
    "#### Criando uma condicional simples"
   ]
  },
  {
   "attachments": {},
   "cell_type": "markdown",
   "metadata": {},
   "source": [
    "A criação de uma instrução condicional permite que seu código se ramifique em dois ou mais caminhos diferentes. Vamos usar a autenticação como exemplo. Se você acessar sua conta de webmail em um novo computador, precisará fazer login para visualizar seu e-mail."
   ]
  },
  {
   "attachments": {},
   "cell_type": "markdown",
   "metadata": {},
   "source": [
    "Você pode apostar com segurança que o código está usando uma declaração condicional para verificar e ver se você está autenticado/autorizado para visualizar o e-mail. Se estiver, ele carrega seu e-mail."
   ]
  },
  {
   "attachments": {},
   "cell_type": "markdown",
   "metadata": {},
   "source": [
    "um exemplo de autenticação simulada:"
   ]
  },
  {
   "cell_type": "code",
   "execution_count": null,
   "metadata": {},
   "outputs": [],
   "source": [
    "autenticado = True\n",
    "if autenticado:\n",
    "    print('Você está logado!')"
   ]
  },
  {
   "attachments": {},
   "cell_type": "markdown",
   "metadata": {},
   "source": [
    "Neste exemplo, você cria uma variável chamada autenticada e a define como `True`. Em seguida, você cria uma instrução condicional usando a palavra-chave `if` do Python. Uma instrução condicional em Python assume esta forma:"
   ]
  },
  {
   "cell_type": "code",
   "execution_count": null,
   "metadata": {},
   "outputs": [],
   "source": [
    "# if <expressão>:\n",
    "#   faça alguma coisa aqui"
   ]
  },
  {
   "attachments": {},
   "cell_type": "markdown",
   "metadata": {},
   "source": [
    "Para criar uma condicional, você começa com a palavra `if`, seguida por uma expressão que termina com dois pontos. Quando essa expressão for avaliada como `True`, o código abaixo da condicional será executado."
   ]
  },
  {
   "attachments": {},
   "cell_type": "markdown",
   "metadata": {},
   "source": [
    "Se autenticado tivesse sido definido como `False`, nada teria sido impresso."
   ]
  },
  {
   "attachments": {},
   "cell_type": "markdown",
   "metadata": {},
   "source": [
    "##### A indentação é importante em Python"
   ]
  },
  {
   "attachments": {},
   "cell_type": "markdown",
   "metadata": {},
   "source": [
    "Python se preocupa com indentação. Um bloco de código é uma série de linhas de código com recuo uniforme. Python determina onde um bloco de código começa e termina por esse recuo."
   ]
  },
  {
   "attachments": {},
   "cell_type": "markdown",
   "metadata": {},
   "source": [
    "Recuar seu código uniformemente é necessário em Python. Se você não fizer isso corretamente, seu código não será executado conforme o esperado."
   ]
  },
  {
   "cell_type": "code",
   "execution_count": null,
   "metadata": {},
   "outputs": [],
   "source": []
  },
  {
   "cell_type": "markdown",
   "metadata": {},
   "source": []
  },
  {
   "cell_type": "markdown",
   "metadata": {},
   "source": []
  },
  {
   "cell_type": "markdown",
   "metadata": {},
   "source": []
  },
  {
   "cell_type": "markdown",
   "metadata": {},
   "source": []
  },
  {
   "cell_type": "markdown",
   "metadata": {},
   "source": []
  },
  {
   "cell_type": "markdown",
   "metadata": {},
   "source": []
  },
  {
   "cell_type": "markdown",
   "metadata": {},
   "source": []
  },
  {
   "cell_type": "markdown",
   "metadata": {},
   "source": []
  },
  {
   "cell_type": "markdown",
   "metadata": {},
   "source": []
  },
  {
   "cell_type": "markdown",
   "metadata": {},
   "source": []
  },
  {
   "cell_type": "code",
   "execution_count": null,
   "metadata": {},
   "outputs": [],
   "source": [
    "%reload_ext watermark\n",
    "%watermark -a \"Caique Miranda\" -gu \"caiquemiranda\" -iv"
   ]
  },
  {
   "attachments": {},
   "cell_type": "markdown",
   "metadata": {},
   "source": [
    "### End."
   ]
  }
 ],
 "metadata": {
  "language_info": {
   "name": "python"
  },
  "orig_nbformat": 4
 },
 "nbformat": 4,
 "nbformat_minor": 2
}
