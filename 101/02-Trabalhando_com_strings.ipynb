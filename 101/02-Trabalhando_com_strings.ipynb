{
 "cells": [
  {
   "cell_type": "code",
   "execution_count": 1,
   "metadata": {},
   "outputs": [
    {
     "name": "stdout",
     "output_type": "stream",
     "text": [
      "Versão de Python Neste Jupyter Notebook: 3.10.5\n"
     ]
    }
   ],
   "source": [
    "# Versão da Linguagem Python\n",
    "from platform import python_version\n",
    "print('Versão de Python Neste Jupyter Notebook:', python_version())"
   ]
  },
  {
   "attachments": {},
   "cell_type": "markdown",
   "metadata": {},
   "source": [
    "### Trabalhando com Strings"
   ]
  },
  {
   "attachments": {},
   "cell_type": "markdown",
   "metadata": {},
   "source": [
    "Você usará strings com muita frequência ao programar. Uma string é uma série de letras cercadas por aspas simples, duplas ou triplas. Python 3 define string como um “tipo de sequência de texto”. Você pode converter outros tipos em uma string usando a função integrada str()."
   ]
  },
  {
   "attachments": {},
   "cell_type": "markdown",
   "metadata": {},
   "source": [
    "Vamos falar sobre os seguintes topicos:\n",
    "\n",
    "- Criando strings\n",
    "- Métodos de strings\n",
    "- Fomatação de string\n",
    "- Concatenação de strings\n",
    "- Fatiamento de strings"
   ]
  },
  {
   "attachments": {},
   "cell_type": "markdown",
   "metadata": {},
   "source": [
    "#### Criando Strings"
   ]
  },
  {
   "attachments": {},
   "cell_type": "markdown",
   "metadata": {},
   "source": [
    "Aqui estão alguns exemplos de criação de strings:"
   ]
  },
  {
   "cell_type": "code",
   "execution_count": 2,
   "metadata": {},
   "outputs": [],
   "source": [
    "nome = 'Caique'\n",
    "primeiro_nome = 'Caique'\n",
    "ultimo_nome = \"Miranda\" \n",
    "multi_comment =\"\"\"\n",
    "Temos aqui\n",
    "mais de uma linha\n",
    "\"\"\""
   ]
  },
  {
   "attachments": {},
   "cell_type": "markdown",
   "metadata": {},
   "source": [
    "Ao usar aspas triplas, você pode usar três aspas duplas no início e no final da string ou três aspas simples. Além disso, observe que o uso de aspas triplas permite criar strings de várias linhas. Qualquer espaço em branco dentro da string também será incluído."
   ]
  },
  {
   "attachments": {},
   "cell_type": "markdown",
   "metadata": {},
   "source": [
    "Aqui está um exemplo de conversão de um inteiro em uma string:"
   ]
  },
  {
   "cell_type": "code",
   "execution_count": 3,
   "metadata": {},
   "outputs": [
    {
     "data": {
      "text/plain": [
       "'5'"
      ]
     },
     "execution_count": 3,
     "metadata": {},
     "output_type": "execute_result"
    }
   ],
   "source": [
    "numero = 5\n",
    "str(numero)"
   ]
  },
  {
   "attachments": {},
   "cell_type": "markdown",
   "metadata": {},
   "source": [
    "Em Python, as barras invertidas podem ser usadas para criar sequências de escape. Aqui estão alguns exemplos:"
   ]
  },
  {
   "attachments": {},
   "cell_type": "markdown",
   "metadata": {},
   "source": [
    "- \\b - backspace \n",
    "- \\n - próxima linha \n",
    "- \\r - retorno de linha ASCII\n",
    "- \\t - tabulação"
   ]
  },
  {
   "attachments": {},
   "cell_type": "markdown",
   "metadata": {},
   "source": [
    "Existem vários outros que você pode conhecer se ler a documentação do Python."
   ]
  },
  {
   "attachments": {},
   "cell_type": "markdown",
   "metadata": {},
   "source": [
    "Você também pode usar barras invertidas para escapar das aspas:"
   ]
  },
  {
   "cell_type": "code",
   "execution_count": 4,
   "metadata": {},
   "outputs": [
    {
     "data": {
      "text/plain": [
       "\"Esta string tem uma aspa simples, ', no meio\""
      ]
     },
     "execution_count": 4,
     "metadata": {},
     "output_type": "execute_result"
    }
   ],
   "source": [
    "'Esta string tem uma aspa simples, \\', no meio'\n",
    "\"Esta string tem uma aspa simples, ', no meio\""
   ]
  },
  {
   "attachments": {},
   "cell_type": "markdown",
   "metadata": {},
   "source": [
    "vamos em frente e ver quais métodos você pode usar com strings!"
   ]
  },
  {
   "attachments": {},
   "cell_type": "markdown",
   "metadata": {},
   "source": [
    "Aqui estão três exemplos:"
   ]
  },
  {
   "cell_type": "code",
   "execution_count": 5,
   "metadata": {},
   "outputs": [
    {
     "name": "stdout",
     "output_type": "stream",
     "text": [
      "Caique\n"
     ]
    }
   ],
   "source": [
    "nome = 'caique'\n",
    "print(nome.capitalize())"
   ]
  },
  {
   "cell_type": "code",
   "execution_count": 6,
   "metadata": {},
   "outputs": [
    {
     "name": "stdout",
     "output_type": "stream",
     "text": [
      "CAIQUE\n"
     ]
    }
   ],
   "source": [
    "print(nome.upper())"
   ]
  },
  {
   "cell_type": "code",
   "execution_count": 7,
   "metadata": {},
   "outputs": [
    {
     "name": "stdout",
     "output_type": "stream",
     "text": [
      "caique\n"
     ]
    }
   ],
   "source": [
    "print(nome.lower())"
   ]
  },
  {
   "attachments": {},
   "cell_type": "markdown",
   "metadata": {},
   "source": [
    "Os nomes dos métodos fornecem uma pista sobre o que eles fazem. Por exemplo, .capitalize() mudará a primeira letra da string para maiúscula."
   ]
  },
  {
   "attachments": {},
   "cell_type": "markdown",
   "metadata": {},
   "source": [
    "Para obter uma lista completa dos métodos e atributos que você pode acessar, você pode usar a função dir() integrada do Python :"
   ]
  },
  {
   "cell_type": "code",
   "execution_count": 8,
   "metadata": {},
   "outputs": [
    {
     "data": {
      "text/plain": [
       "['__add__',\n",
       " '__class__',\n",
       " '__contains__',\n",
       " '__delattr__',\n",
       " '__dir__',\n",
       " '__doc__',\n",
       " '__eq__',\n",
       " '__format__',\n",
       " '__ge__',\n",
       " '__getattribute__',\n",
       " '__getitem__',\n",
       " '__getnewargs__',\n",
       " '__gt__',\n",
       " '__hash__',\n",
       " '__init__',\n",
       " '__init_subclass__',\n",
       " '__iter__',\n",
       " '__le__',\n",
       " '__len__',\n",
       " '__lt__',\n",
       " '__mod__',\n",
       " '__mul__',\n",
       " '__ne__',\n",
       " '__new__',\n",
       " '__reduce__',\n",
       " '__reduce_ex__',\n",
       " '__repr__',\n",
       " '__rmod__',\n",
       " '__rmul__',\n",
       " '__setattr__',\n",
       " '__sizeof__',\n",
       " '__str__',\n",
       " '__subclasshook__',\n",
       " 'capitalize',\n",
       " 'casefold',\n",
       " 'center',\n",
       " 'count',\n",
       " 'encode',\n",
       " 'endswith',\n",
       " 'expandtabs',\n",
       " 'find',\n",
       " 'format',\n",
       " 'format_map',\n",
       " 'index',\n",
       " 'isalnum',\n",
       " 'isalpha',\n",
       " 'isascii',\n",
       " 'isdecimal',\n",
       " 'isdigit',\n",
       " 'isidentifier',\n",
       " 'islower',\n",
       " 'isnumeric',\n",
       " 'isprintable',\n",
       " 'isspace',\n",
       " 'istitle',\n",
       " 'isupper',\n",
       " 'join',\n",
       " 'ljust',\n",
       " 'lower',\n",
       " 'lstrip',\n",
       " 'maketrans',\n",
       " 'partition',\n",
       " 'removeprefix',\n",
       " 'removesuffix',\n",
       " 'replace',\n",
       " 'rfind',\n",
       " 'rindex',\n",
       " 'rjust',\n",
       " 'rpartition',\n",
       " 'rsplit',\n",
       " 'rstrip',\n",
       " 'split',\n",
       " 'splitlines',\n",
       " 'startswith',\n",
       " 'strip',\n",
       " 'swapcase',\n",
       " 'title',\n",
       " 'translate',\n",
       " 'upper',\n",
       " 'zfill']"
      ]
     },
     "execution_count": 8,
     "metadata": {},
     "output_type": "execute_result"
    }
   ],
   "source": [
    "dir(nome)"
   ]
  },
  {
   "attachments": {},
   "cell_type": "markdown",
   "metadata": {},
   "source": [
    "O primeiro terço da lista são métodos especiais que às vezes são chamados de “métodos dunder” (métodos de sublinhado duplo) ou “métodos mágicos”. Aqui estão três exemplos: maioria. Os nomes dos métodos fornecem uma pista sobre o que eles fazem. Por exemplo, `.capitalize()` mudará a primeira letra da string para maiúscula."
   ]
  },
  {
   "attachments": {},
   "cell_type": "markdown",
   "metadata": {},
   "source": [
    "Você descobrirá que os métodos `.strip()` e `.split()` são especialmente úteis ao analisar ou manipular texto."
   ]
  },
  {
   "attachments": {},
   "cell_type": "markdown",
   "metadata": {},
   "source": [
    "Você pode usar `.strip()` e suas variantes, `.rstrip()` e `.lstrip()` para retirar o espaço em branco da string, incluindo tabulação e caracteres de nova linha. Isso é especialmente útil quando você está lendo um arquivo de texto que precisa analisar."
   ]
  },
  {
   "attachments": {},
   "cell_type": "markdown",
   "metadata": {},
   "source": [
    "Na verdade, muitas vezes você acabará removendo caracteres de fim de linha de strings e, em seguida, usando `.split()` no resultado para analisar substrings."
   ]
  },
  {
   "attachments": {},
   "cell_type": "markdown",
   "metadata": {},
   "source": [
    "vamos ver como analisar a 2ª palavra em uma string"
   ]
  },
  {
   "attachments": {},
   "cell_type": "markdown",
   "metadata": {},
   "source": [
    "Para começar, aqui está uma string:"
   ]
  },
  {
   "cell_type": "code",
   "execution_count": 9,
   "metadata": {},
   "outputs": [
    {
     "data": {
      "text/plain": [
       "'Esta é uma sequencia de palavras'"
      ]
     },
     "execution_count": 9,
     "metadata": {},
     "output_type": "execute_result"
    }
   ],
   "source": [
    "string = 'Esta é uma string de palavras'\n",
    "'Esta é uma sequencia de palavras'"
   ]
  },
  {
   "attachments": {},
   "cell_type": "markdown",
   "metadata": {},
   "source": [
    "Agora, para obter as partes de uma string, você pode chamar `.split()`, assim:"
   ]
  },
  {
   "cell_type": "code",
   "execution_count": 10,
   "metadata": {},
   "outputs": [
    {
     "data": {
      "text/plain": [
       "['Esta', 'é', 'uma', 'string', 'de', 'palavras']"
      ]
     },
     "execution_count": 10,
     "metadata": {},
     "output_type": "execute_result"
    }
   ],
   "source": [
    "string.split()"
   ]
  },
  {
   "attachments": {},
   "cell_type": "markdown",
   "metadata": {},
   "source": [
    "O resultado é uma lista de strings. Normalmente, você atribuiria esse resultado a uma variável."
   ]
  },
  {
   "attachments": {},
   "cell_type": "markdown",
   "metadata": {},
   "source": [
    "Agora você sabe que o resultado é uma string, pode usar a indexação de lista para obter o segundo elemento:"
   ]
  },
  {
   "cell_type": "code",
   "execution_count": 11,
   "metadata": {},
   "outputs": [
    {
     "data": {
      "text/plain": [
       "'uma'"
      ]
     },
     "execution_count": 11,
     "metadata": {},
     "output_type": "execute_result"
    }
   ],
   "source": [
    "'Esta é uma string de palavras'.split()[2]"
   ]
  },
  {
   "attachments": {},
   "cell_type": "markdown",
   "metadata": {},
   "source": [
    "Lembre-se, em Python, os elementos das listas começam em 0 (zero), então quando você diz que quer o elemento 1 (um), esse é o segundo elemento da lista."
   ]
  },
  {
   "attachments": {},
   "cell_type": "markdown",
   "metadata": {},
   "source": [
    "Você pode usar os métodos `.strip()` e `.split()` de forma bastante eficaz para obter quase todos os dados necessários. Ocasionalmente, você descobrirá que também pode precisar use Expressões Regulares (regex), mas na maioria das vezes esses dois métodos são suficientes."
   ]
  },
  {
   "attachments": {},
   "cell_type": "markdown",
   "metadata": {},
   "source": [
    "#### Formatação de string"
   ]
  },
  {
   "attachments": {},
   "cell_type": "markdown",
   "metadata": {},
   "source": [
    "A formatação de string ou substituição de string é onde você tem uma string que gostaria de inserir em outra string. Isso é especialmente útil quando você precisa criar um modelo, como uma carta modelo. Mas você usará muito a substituição de string para saída de depuração, impressão para padrão e muito mais."
   ]
  },
  {
   "attachments": {},
   "cell_type": "markdown",
   "metadata": {},
   "source": [
    "Standard out (ou stdout) é um termo usado para imprimir no terminal. Quando você executa seu programa a partir do terminal e vê a saída de seu programa, é porque seu programa “imprime” para padrão ou erro padrão (stderr)."
   ]
  },
  {
   "attachments": {},
   "cell_type": "markdown",
   "metadata": {},
   "source": [
    "O Python tem três maneiras diferentes de realizar a formatação de strings:\n",
    "\n",
    "- Usando o método %\n",
    "- Usando `.format()`\n",
    "- Usando liteais de string formatada(f-strings)"
   ]
  },
  {
   "attachments": {},
   "cell_type": "markdown",
   "metadata": {},
   "source": [
    "#### Formatando Strings Usando %s (estilo printf)"
   ]
  },
  {
   "attachments": {},
   "cell_type": "markdown",
   "metadata": {},
   "source": [
    "Usar o método % é o método mais antigo do Python de formatação de string. Às vezes, é referido como “formatação de string no estilo printf”. Se você já usou C ou C++ no passado, talvez já esteja familiarizado com esse tipo de substituição de string. Para resumir, você aprenderá o básico sobre o uso de % aqui."
   ]
  },
  {
   "attachments": {},
   "cell_type": "markdown",
   "metadata": {},
   "source": [
    "O uso mais comum do sinal % é quando você usaria `%s`, o que significa converter qualquer objeto Python em uma string usando `str().`"
   ]
  },
  {
   "attachments": {},
   "cell_type": "markdown",
   "metadata": {},
   "source": [
    "Aqui está um exemplo:"
   ]
  },
  {
   "cell_type": "code",
   "execution_count": 12,
   "metadata": {},
   "outputs": [
    {
     "name": "stdout",
     "output_type": "stream",
     "text": [
      "Meu nome é caique\n"
     ]
    }
   ],
   "source": [
    "nome = 'caique'\n",
    "\n",
    "print('Meu nome é %s'%nome)"
   ]
  },
  {
   "attachments": {},
   "cell_type": "markdown",
   "metadata": {},
   "source": [
    "Nesse código, você pega o nome da variável e o insere em outra string usando a sintaxe especial `%s` . Para que funcione, você precisa usar % fora da string seguido da string ou variável que deseja inserir."
   ]
  },
  {
   "attachments": {},
   "cell_type": "markdown",
   "metadata": {},
   "source": [
    "Aqui está um segundo exemplo que mostra que você pode passar um `int` para uma `string` e convertê-lo automaticamente para você:"
   ]
  },
  {
   "cell_type": "code",
   "execution_count": 13,
   "metadata": {},
   "outputs": [
    {
     "name": "stdout",
     "output_type": "stream",
     "text": [
      "Você deve ter pelo menos 21 para continuar\n"
     ]
    }
   ],
   "source": [
    "idade = 21\n",
    "\n",
    "print('Você deve ter pelo menos %s para continuar' %idade)"
   ]
  },
  {
   "attachments": {},
   "cell_type": "markdown",
   "metadata": {},
   "source": [
    "Esse tipo de coisa é especialmente útil quando você precisa converter um objeto, mas não sabe de que tipo é."
   ]
  },
  {
   "attachments": {},
   "cell_type": "markdown",
   "metadata": {},
   "source": [
    "Você também pode formatar strings com múltiplas variáveis."
   ]
  },
  {
   "attachments": {},
   "cell_type": "markdown",
   "metadata": {},
   "source": [
    "Aqui está o primeiro:"
   ]
  },
  {
   "cell_type": "code",
   "execution_count": 14,
   "metadata": {},
   "outputs": [
    {
     "name": "stdout",
     "output_type": "stream",
     "text": [
      "Olá caique. Você deve ter pelo menos 21 para continuar!\n"
     ]
    }
   ],
   "source": [
    "nome = 'caique'\n",
    "idade = 21\n",
    "\n",
    "print('Olá %s. Você deve ter pelo menos %i para continuar!' %(nome, idade))"
   ]
  },
  {
   "attachments": {},
   "cell_type": "markdown",
   "metadata": {},
   "source": [
    "Neste exemplo, você cria duas variáveis e usa `%s` e `%i`. O `%i` indica que você vai passar um inteiro. Para passar vários itens, você usa o sinal de porcentagem seguido por uma tupla dos itens a serem inseridos."
   ]
  },
  {
   "attachments": {},
   "cell_type": "markdown",
   "metadata": {},
   "source": [
    "Você pode tornar isso mais claro usando nomes, como este:"
   ]
  },
  {
   "cell_type": "code",
   "execution_count": 15,
   "metadata": {},
   "outputs": [],
   "source": [
    "primeiro_nome = 'Caique'\n",
    "idade = 21"
   ]
  },
  {
   "cell_type": "code",
   "execution_count": 16,
   "metadata": {},
   "outputs": [
    {
     "name": "stdout",
     "output_type": "stream",
     "text": [
      "Olá caique. Você deve ter pelo menos 21 para continuar!\n"
     ]
    }
   ],
   "source": [
    "print('Olá %(primeiro_nome)s. Você deve ter pelo menos %(idade)i para continuar!' %{'primeiro_nome': nome,\n",
    "                                                                                    'idade': idade})"
   ]
  },
  {
   "attachments": {},
   "cell_type": "markdown",
   "metadata": {},
   "source": [
    "Quando o argumento no lado direito do sinal % é um dicionário (ou outro tipo de mapeamento), os formatos entre parênteses na string devem se referir às chaves no dicionário. Em outras palavras, se você vir %(nome)s, então o dicionário à direita de % deve ter uma chave de nome."
   ]
  },
  {
   "attachments": {},
   "cell_type": "markdown",
   "metadata": {},
   "source": [
    "Se você não incluir todas as chaves necessárias, receberá um erro: "
   ]
  },
  {
   "cell_type": "code",
   "execution_count": 17,
   "metadata": {},
   "outputs": [
    {
     "ename": "KeyError",
     "evalue": "'primeiro_nome'",
     "output_type": "error",
     "traceback": [
      "\u001b[1;31m---------------------------------------------------------------------------\u001b[0m",
      "\u001b[1;31mKeyError\u001b[0m                                  Traceback (most recent call last)",
      "\u001b[1;32md:\\GIT-repository\\github-short-python\\short-python\\101\\Trabalhando_com_strings.ipynb Cell 60\u001b[0m in \u001b[0;36m<cell line: 1>\u001b[1;34m()\u001b[0m\n\u001b[1;32m----> <a href='vscode-notebook-cell:/d%3A/GIT-repository/github-short-python/short-python/101/Trabalhando_com_strings.ipynb#Y113sZmlsZQ%3D%3D?line=0'>1</a>\u001b[0m \u001b[39mprint\u001b[39m(\u001b[39m'\u001b[39;49m\u001b[39mOlá \u001b[39;49m\u001b[39m%(primeiro_nome)s\u001b[39;49;00m\u001b[39m. Você deve ter pelo menos \u001b[39;49m\u001b[39m%(idade)i\u001b[39;49;00m\u001b[39m para continuar!\u001b[39;49m\u001b[39m'\u001b[39;49m \u001b[39m%\u001b[39;49m {\u001b[39m'\u001b[39;49m\u001b[39midade\u001b[39;49m\u001b[39m'\u001b[39;49m: idade})\n",
      "\u001b[1;31mKeyError\u001b[0m: 'primeiro_nome'"
     ]
    }
   ],
   "source": [
    "print('Olá %(primeiro_nome)s. Você deve ter pelo menos %(idade)i para continuar!' % {'idade': idade})"
   ]
  },
  {
   "attachments": {},
   "cell_type": "markdown",
   "metadata": {},
   "source": [
    "Para obter mais informações sobre como usar a formatação de string no estilo printf, consulte o seguinte link:"
   ]
  },
  {
   "attachments": {},
   "cell_type": "markdown",
   "metadata": {},
   "source": [
    "Agora vamos passar a usar o método `.format()`."
   ]
  },
  {
   "attachments": {},
   "cell_type": "markdown",
   "metadata": {},
   "source": [
    "#### Strings de formatação usando `.format()`"
   ]
  },
  {
   "attachments": {},
   "cell_type": "markdown",
   "metadata": {},
   "source": [
    "As strings do Python suportam o método `.format()` há muito tempo. Embora este livro se concentre no uso de f-strings, você descobrirá que `.format()` ainda é bastante popular."
   ]
  },
  {
   "attachments": {},
   "cell_type": "markdown",
   "metadata": {},
   "source": [
    "a obter detalhes completos sobre como a formatação funciona, consulte o seguinte:"
   ]
  },
  {
   "attachments": {},
   "cell_type": "markdown",
   "metadata": {},
   "source": [
    "https://docs.python.org/3/library/stdtypes.html#printf-style-stringformatting"
   ]
  },
  {
   "attachments": {},
   "cell_type": "markdown",
   "metadata": {},
   "source": [
    "Vamos dar uma olhada em alguns exemplos curtos para ver como `.format()` funciona:"
   ]
  },
  {
   "cell_type": "code",
   "execution_count": 18,
   "metadata": {},
   "outputs": [
    {
     "name": "stdout",
     "output_type": "stream",
     "text": [
      "Olá Caique, Você deve ter pelo menos 18 para continuar!\n"
     ]
    }
   ],
   "source": [
    "idade = 18\n",
    "nome = 'Caique'\n",
    "\n",
    "print('Olá {}, Você deve ter pelo menos {} para continuar!'.format(nome, idade))"
   ]
  },
  {
   "attachments": {},
   "cell_type": "markdown",
   "metadata": {},
   "source": [
    "Este exemplo usa argumentos posicionais. O Python procura duas instâncias de {} e insere as variáveis de acordo. Se você não passar argumentos suficientes, receberá um erro como este:"
   ]
  },
  {
   "cell_type": "code",
   "execution_count": 19,
   "metadata": {},
   "outputs": [
    {
     "ename": "IndexError",
     "evalue": "Replacement index 1 out of range for positional args tuple",
     "output_type": "error",
     "traceback": [
      "\u001b[1;31m---------------------------------------------------------------------------\u001b[0m",
      "\u001b[1;31mIndexError\u001b[0m                                Traceback (most recent call last)",
      "\u001b[1;32md:\\GIT-repository\\github-short-python\\short-python\\101\\Trabalhando_com_strings.ipynb Cell 70\u001b[0m in \u001b[0;36m<cell line: 1>\u001b[1;34m()\u001b[0m\n\u001b[1;32m----> <a href='vscode-notebook-cell:/d%3A/GIT-repository/github-short-python/short-python/101/Trabalhando_com_strings.ipynb#Y126sZmlsZQ%3D%3D?line=0'>1</a>\u001b[0m \u001b[39mprint\u001b[39m(\u001b[39m'\u001b[39;49m\u001b[39mOlá \u001b[39;49m\u001b[39m{}\u001b[39;49;00m\u001b[39m, Você deve ter pelo menos \u001b[39;49m\u001b[39m{}\u001b[39;49;00m\u001b[39m para continuar!\u001b[39;49m\u001b[39m'\u001b[39;49m\u001b[39m.\u001b[39;49mformat(nome))\n",
      "\u001b[1;31mIndexError\u001b[0m: Replacement index 1 out of range for positional args tuple"
     ]
    }
   ],
   "source": [
    "print('Olá {}, Você deve ter pelo menos {} para continuar!'.format(nome))"
   ]
  },
  {
   "attachments": {},
   "cell_type": "markdown",
   "metadata": {},
   "source": [
    "Este erro indica que você não tem itens suficientes dentro da chamada `.format()`."
   ]
  },
  {
   "attachments": {},
   "cell_type": "markdown",
   "metadata": {},
   "source": [
    "Você também pode usar argumentos nomeados de maneira semelhante à seção anterior:"
   ]
  },
  {
   "cell_type": "code",
   "execution_count": 20,
   "metadata": {},
   "outputs": [
    {
     "name": "stdout",
     "output_type": "stream",
     "text": [
      "Olá Caique, Você deve ter pelo menos 18 para continuar!\n"
     ]
    }
   ],
   "source": [
    "idade = 18\n",
    "nome = 'Caique'\n",
    "\n",
    "print('Olá {primeiro_nome}, Você deve ter pelo menos {idade} para continuar!'.format(primeiro_nome = nome,\n",
    "                                                                                     idade = idade))"
   ]
  },
  {
   "attachments": {},
   "cell_type": "markdown",
   "metadata": {},
   "source": [
    "Em vez de passar um dicionário para .format(), você pode passar os parâmetros pelo nome. Na verdade, se você tentar passar em um dicionário, receberá um erro:"
   ]
  },
  {
   "cell_type": "code",
   "execution_count": 21,
   "metadata": {},
   "outputs": [
    {
     "ename": "KeyError",
     "evalue": "'primeiro_nome'",
     "output_type": "error",
     "traceback": [
      "\u001b[1;31m---------------------------------------------------------------------------\u001b[0m",
      "\u001b[1;31mKeyError\u001b[0m                                  Traceback (most recent call last)",
      "\u001b[1;32md:\\GIT-repository\\github-short-python\\short-python\\101\\Trabalhando_com_strings.ipynb Cell 75\u001b[0m in \u001b[0;36m<cell line: 1>\u001b[1;34m()\u001b[0m\n\u001b[1;32m----> <a href='vscode-notebook-cell:/d%3A/GIT-repository/github-short-python/short-python/101/Trabalhando_com_strings.ipynb#Y134sZmlsZQ%3D%3D?line=0'>1</a>\u001b[0m \u001b[39mprint\u001b[39m(\u001b[39m'\u001b[39;49m\u001b[39mOlá \u001b[39;49m\u001b[39m{primeiro_nome}\u001b[39;49;00m\u001b[39m, Você deve ter pelo menos \u001b[39;49m\u001b[39m{idade}\u001b[39;49;00m\u001b[39m para continuar!\u001b[39;49m\u001b[39m'\u001b[39;49m\u001b[39m.\u001b[39;49mformat({\u001b[39m'\u001b[39;49m\u001b[39mprimeiro_nome\u001b[39;49m\u001b[39m'\u001b[39;49m: nome,\n\u001b[0;32m      <a href='vscode-notebook-cell:/d%3A/GIT-repository/github-short-python/short-python/101/Trabalhando_com_strings.ipynb#Y134sZmlsZQ%3D%3D?line=1'>2</a>\u001b[0m                                                                                       \u001b[39m'\u001b[39;49m\u001b[39midade\u001b[39;49m\u001b[39m'\u001b[39;49m: idade}))\n",
      "\u001b[1;31mKeyError\u001b[0m: 'primeiro_nome'"
     ]
    }
   ],
   "source": [
    "print('Olá {primeiro_nome}, Você deve ter pelo menos {idade} para continuar!'.format({'primeiro_nome': nome,\n",
    "                                                                                      'idade': idade}))"
   ]
  },
  {
   "attachments": {},
   "cell_type": "markdown",
   "metadata": {},
   "source": [
    "Existe uma solução alternativa para isso:"
   ]
  },
  {
   "cell_type": "code",
   "execution_count": 22,
   "metadata": {},
   "outputs": [
    {
     "name": "stdout",
     "output_type": "stream",
     "text": [
      "Olá Caique, Você deve ter pelo menos 18 para continuar!\n"
     ]
    }
   ],
   "source": [
    "print('Olá {primeiro_nome}, Você deve ter pelo menos {idade} para continuar!'.format(**{'primeiro_nome': nome,\n",
    "                                                                                      'idade': idade}))"
   ]
  },
  {
   "attachments": {},
   "cell_type": "markdown",
   "metadata": {},
   "source": [
    "Em Python quando você vê um asterisco duplo (**) usado dessa forma, significa que você está passando parâmetros nomeados para a função. Então Python está convertendo o dicionário para `primeiro_nome = nome`, `idade = idade` para você."
   ]
  },
  {
   "attachments": {},
   "cell_type": "markdown",
   "metadata": {},
   "source": [
    "Você também pode repetir uma variável várias vezes na string ao usar `.format()`"
   ]
  },
  {
   "cell_type": "code",
   "execution_count": 23,
   "metadata": {},
   "outputs": [
    {
     "name": "stdout",
     "output_type": "stream",
     "text": [
      "Olá Caique. Porque eles te chamam de Caique?\n"
     ]
    }
   ],
   "source": [
    "primeiro_nome = 'Caique'\n",
    "\n",
    "print('Olá {primeiro_nome}. Porque eles te chamam de {primeiro_nome}?'.format(primeiro_nome = primeiro_nome))"
   ]
  },
  {
   "attachments": {},
   "cell_type": "markdown",
   "metadata": {},
   "source": [
    "Aqui você se refere a `{primeiro_nome}` duas vezes na string e o Python substitui ambas pela variável `primeiro_nome`, você também pode interpolar valores usando números:"
   ]
  },
  {
   "cell_type": "code",
   "execution_count": 24,
   "metadata": {},
   "outputs": [
    {
     "name": "stdout",
     "output_type": "stream",
     "text": [
      "Olá 18, Você deve ter pelo menos Caique para continuar!\n"
     ]
    }
   ],
   "source": [
    "print('Olá {1}, Você deve ter pelo menos {0} para continuar!'.format(primeiro_nome, idade))"
   ]
  },
  {
   "attachments": {},
   "cell_type": "markdown",
   "metadata": {},
   "source": [
    "Como a maioria das coisas em Python começa em 0 (zero), neste exemplo você acabou passando a idade para `{1}` e o nome para `{0}`."
   ]
  },
  {
   "attachments": {},
   "cell_type": "markdown",
   "metadata": {},
   "source": [
    "Um estilo de codificação comum ao trabalhar com `.format()` é criar uma string formatada e salvá-la em uma variável para ser usada posteriormente:"
   ]
  },
  {
   "cell_type": "code",
   "execution_count": 25,
   "metadata": {},
   "outputs": [
    {
     "data": {
      "text/plain": [
       "'Olá Caique. Você deve ter pelo menos 21 para continuar!'"
      ]
     },
     "execution_count": 25,
     "metadata": {},
     "output_type": "execute_result"
    }
   ],
   "source": [
    "idade = 21\n",
    "primeiro_nome = 'Caique'\n",
    "\n",
    "saudacoes = 'Olá {primeiro_nome}. Você deve ter pelo menos {idade} para continuar!'\n",
    "\n",
    "saudacoes.format(primeiro_nome = primeiro_nome,\n",
    "                 idade = idade)"
   ]
  },
  {
   "attachments": {},
   "cell_type": "markdown",
   "metadata": {},
   "source": [
    "Isso permite que você reutilize saudações e passe valores atualizados para `primeiro_nome` e idade posteriormente em seu programa Você também pode especificar a largura e o alinhamento da string:"
   ]
  },
  {
   "attachments": {},
   "cell_type": "markdown",
   "metadata": {},
   "source": [
    "Você também pode especificar a largura e o alinhamento da string:"
   ]
  },
  {
   "cell_type": "code",
   "execution_count": 26,
   "metadata": {},
   "outputs": [
    {
     "data": {
      "text/plain": [
       "'Alinhado à esquerda '"
      ]
     },
     "execution_count": 26,
     "metadata": {},
     "output_type": "execute_result"
    }
   ],
   "source": [
    "'{:<20}'.format('Alinhado à esquerda')"
   ]
  },
  {
   "cell_type": "code",
   "execution_count": 27,
   "metadata": {},
   "outputs": [
    {
     "data": {
      "text/plain": [
       "'  Alinhado à direita'"
      ]
     },
     "execution_count": 27,
     "metadata": {},
     "output_type": "execute_result"
    }
   ],
   "source": [
    "'{:>20}'.format('Alinhado à direita')"
   ]
  },
  {
   "cell_type": "code",
   "execution_count": 28,
   "metadata": {},
   "outputs": [
    {
     "data": {
      "text/plain": [
       "'    Centralizado    '"
      ]
     },
     "execution_count": 28,
     "metadata": {},
     "output_type": "execute_result"
    }
   ],
   "source": [
    "'{:^20}'.format('Centralizado')"
   ]
  },
  {
   "attachments": {},
   "cell_type": "markdown",
   "metadata": {},
   "source": [
    "Alinhado à esquerda é o padrão. Os dois pontos `(:)` informam ao Python que você aplicará algum tipo de formatação. No primeiro exemplo, você está especificando que a string seja alinhada à esquerda e com 20 caracteres de largura. O segundo exemplo também tem 20 caracteres de largura, mas está alinhado à direita. Por fim, o `^` diz ao Python para centralizar a string nos 20 caracteres."
   ]
  },
  {
   "attachments": {},
   "cell_type": "markdown",
   "metadata": {},
   "source": [
    "Se você quiser passar uma variável como nos exemplos anteriores, veja como você faria isso:"
   ]
  },
  {
   "cell_type": "code",
   "execution_count": 29,
   "metadata": {},
   "outputs": [
    {
     "data": {
      "text/plain": [
       "'    Centralizado    '"
      ]
     },
     "execution_count": 29,
     "metadata": {},
     "output_type": "execute_result"
    }
   ],
   "source": [
    "'{exemplo:^20}'.format(exemplo = 'Centralizado')"
   ]
  },
  {
   "attachments": {},
   "cell_type": "markdown",
   "metadata": {},
   "source": [
    "Observe que o exemplo deve vir antes do `:` dentro do `{}`."
   ]
  },
  {
   "attachments": {},
   "cell_type": "markdown",
   "metadata": {},
   "source": [
    "#### Strings de formatação com `f-strings`"
   ]
  },
  {
   "attachments": {},
   "cell_type": "markdown",
   "metadata": {},
   "source": [
    "`f-strings` são strings que possuem um “`f`” no início e chaves dentro delas que contêm expressões. Essas expressões informam a `f-strings` sobre qualquer processamento especial que precisa ser feito na string inserida, como justificação, precisão de flutuação, etc."
   ]
  },
  {
   "attachments": {},
   "cell_type": "markdown",
   "metadata": {},
   "source": [
    "um exemplo simples:"
   ]
  },
  {
   "cell_type": "code",
   "execution_count": 30,
   "metadata": {},
   "outputs": [
    {
     "data": {
      "text/plain": [
       "'Olá Caique. Você tem 21 anos'"
      ]
     },
     "execution_count": 30,
     "metadata": {},
     "output_type": "execute_result"
    }
   ],
   "source": [
    "nome = 'Caique'\n",
    "idade = 21\n",
    "\n",
    "f'Olá {nome}. Você tem {idade} anos'"
   ]
  },
  {
   "attachments": {},
   "cell_type": "markdown",
   "metadata": {},
   "source": [
    "Aqui você cria a `f-strings` colocando um “'f'” logo antes da aspa simples, dupla ou tripla que inicia sua string. Em seguida, dentro da string, você usa as chaves, `{}`, para inserir variáveis em sua string."
   ]
  },
  {
   "attachments": {},
   "cell_type": "markdown",
   "metadata": {},
   "source": [
    "No entanto, suas chaves devem incluir algo. Se você criar uma `f-strings` com chaves vazias, receberá um erro:"
   ]
  },
  {
   "cell_type": "code",
   "execution_count": 31,
   "metadata": {},
   "outputs": [
    {
     "ename": "SyntaxError",
     "evalue": "f-string: empty expression not allowed (1497380273.py, line 1)",
     "output_type": "error",
     "traceback": [
      "\u001b[1;36m  Input \u001b[1;32mIn [31]\u001b[1;36m\u001b[0m\n\u001b[1;33m    f'Olá {}. Você tem {} anos'\u001b[0m\n\u001b[1;37m                               ^\u001b[0m\n\u001b[1;31mSyntaxError\u001b[0m\u001b[1;31m:\u001b[0m f-string: empty expression not allowed\n"
     ]
    }
   ],
   "source": [
    "f'Olá {}. Você tem {} anos'"
   ]
  },
  {
   "attachments": {},
   "cell_type": "markdown",
   "metadata": {},
   "source": [
    "A `f-strings` pode fazer coisas que nem `%s` nem `.format()` podem fazer. Devido ao fato de que f-strings são avaliadas em tempo de execução, você pode colocar qualquer expressão Python válida dentro delas."
   ]
  },
  {
   "attachments": {},
   "cell_type": "markdown",
   "metadata": {},
   "source": [
    "Por exemplo, você pode aumentar o valor exibido da variável age :"
   ]
  },
  {
   "cell_type": "code",
   "execution_count": 32,
   "metadata": {},
   "outputs": [
    {
     "data": {
      "text/plain": [
       "'22'"
      ]
     },
     "execution_count": 32,
     "metadata": {},
     "output_type": "execute_result"
    }
   ],
   "source": [
    "idade = 20\n",
    "\n",
    "f'{idade + 2}'"
   ]
  },
  {
   "attachments": {},
   "cell_type": "markdown",
   "metadata": {},
   "source": [
    "Ou chame um método ou função:"
   ]
  },
  {
   "cell_type": "code",
   "execution_count": 33,
   "metadata": {},
   "outputs": [
    {
     "data": {
      "text/plain": [
       "'caique'"
      ]
     },
     "execution_count": 33,
     "metadata": {},
     "output_type": "execute_result"
    }
   ],
   "source": [
    "nome = 'Caique'\n",
    "\n",
    "f'{nome.lower()}'"
   ]
  },
  {
   "attachments": {},
   "cell_type": "markdown",
   "metadata": {},
   "source": [
    "Você também pode acessar os valores do dicionário diretamente dentro de uma `f-string`:"
   ]
  },
  {
   "cell_type": "code",
   "execution_count": 34,
   "metadata": {},
   "outputs": [
    {
     "data": {
      "text/plain": [
       "'Olá Caique, Você tem 30'"
      ]
     },
     "execution_count": 34,
     "metadata": {},
     "output_type": "execute_result"
    }
   ],
   "source": [
    "dicionario = {'nome': 'Caique',\n",
    "              'idade': 30}\n",
    "\n",
    "f'Olá {dicionario[\"nome\"]}, Você tem {dicionario[\"idade\"]}'"
   ]
  },
  {
   "attachments": {},
   "cell_type": "markdown",
   "metadata": {},
   "source": [
    "No entanto, barras invertidas não são permitidas em expressões `f-string`:"
   ]
  },
  {
   "cell_type": "code",
   "execution_count": 35,
   "metadata": {},
   "outputs": [
    {
     "ename": "SyntaxError",
     "evalue": "f-string expression part cannot include a backslash (655124700.py, line 1)",
     "output_type": "error",
     "traceback": [
      "\u001b[1;36m  Input \u001b[1;32mIn [35]\u001b[1;36m\u001b[0m\n\u001b[1;33m    print(f'Meu nome é {nome\\n}')\u001b[0m\n\u001b[1;37m                                ^\u001b[0m\n\u001b[1;31mSyntaxError\u001b[0m\u001b[1;31m:\u001b[0m f-string expression part cannot include a backslash\n"
     ]
    }
   ],
   "source": [
    "print(f'Meu nome é {nome\\n}')"
   ]
  },
  {
   "attachments": {},
   "cell_type": "markdown",
   "metadata": {},
   "source": [
    "Mas você pode usar barras invertidas fora da expressão em uma `f-string`:"
   ]
  },
  {
   "cell_type": "code",
   "execution_count": 36,
   "metadata": {},
   "outputs": [
    {
     "name": "stdout",
     "output_type": "stream",
     "text": [
      "Meu nome é Caique\n",
      "\n"
     ]
    }
   ],
   "source": [
    "nome = 'Caique'\n",
    "\n",
    "print(f'Meu nome é {nome}\\n')"
   ]
  },
  {
   "attachments": {},
   "cell_type": "markdown",
   "metadata": {},
   "source": [
    "Outra coisa que você não pode fazer é adicionar um comentário dentro de uma expressão em uma `f-string`:"
   ]
  },
  {
   "cell_type": "code",
   "execution_count": 37,
   "metadata": {},
   "outputs": [
    {
     "ename": "SyntaxError",
     "evalue": "f-string expression part cannot include '#' (542733316.py, line 1)",
     "output_type": "error",
     "traceback": [
      "\u001b[1;36m  Input \u001b[1;32mIn [37]\u001b[1;36m\u001b[0m\n\u001b[1;33m    f'Meu nome é {nome # nome da pessoa}'\u001b[0m\n\u001b[1;37m                                         ^\u001b[0m\n\u001b[1;31mSyntaxError\u001b[0m\u001b[1;31m:\u001b[0m f-string expression part cannot include '#'\n"
     ]
    }
   ],
   "source": [
    "f'Meu nome é {nome # nome da pessoa}'"
   ]
  },
  {
   "attachments": {},
   "cell_type": "markdown",
   "metadata": {},
   "source": [
    "No Python 3.8, `f-strings` adicionou suporte para a = ,\n",
    "expressão incluir o texto da expressão mais o sinal de igual e, em seguida, a expressão avaliada."
   ]
  },
  {
   "cell_type": "code",
   "execution_count": 38,
   "metadata": {},
   "outputs": [
    {
     "data": {
      "text/plain": [
       "\"Seu nome_do_usuario='Caio'\""
      ]
     },
     "execution_count": 38,
     "metadata": {},
     "output_type": "execute_result"
    }
   ],
   "source": [
    "nome_do_usuario = 'Caio'\n",
    "\n",
    "f'Seu {nome_do_usuario=}'"
   ]
  },
  {
   "attachments": {},
   "cell_type": "markdown",
   "metadata": {},
   "source": [
    "Este exemplo demonstra que o texto dentro da expressão, `nome_do_usuario=` é adicionado à saída seguido pelo valor real do usuário entre aspas."
   ]
  },
  {
   "attachments": {},
   "cell_type": "markdown",
   "metadata": {},
   "source": [
    "`f-strings` são muito poderosas e extremamente úteis. Eles simplificarão bastante seu código se você usá-los com sabedoria."
   ]
  },
  {
   "attachments": {},
   "cell_type": "markdown",
   "metadata": {},
   "source": [
    "#### Concatenar Strings"
   ]
  },
  {
   "attachments": {},
   "cell_type": "markdown",
   "metadata": {},
   "source": [
    "Strings também permitem concatenação, que é uma palavra chique para juntar duas strings em uma."
   ]
  },
  {
   "attachments": {},
   "cell_type": "markdown",
   "metadata": {},
   "source": [
    "Para concatenar strings, você pode usar o sinal + :"
   ]
  },
  {
   "cell_type": "code",
   "execution_count": 39,
   "metadata": {},
   "outputs": [
    {
     "data": {
      "text/plain": [
       "'Meu nome é Caique'"
      ]
     },
     "execution_count": 39,
     "metadata": {},
     "output_type": "execute_result"
    }
   ],
   "source": [
    "primeira_string = 'Meu nome é '\n",
    "segunda_string = 'Caique'\n",
    "primeira_string + segunda_string"
   ]
  },
  {
   "attachments": {},
   "cell_type": "markdown",
   "metadata": {},
   "source": [
    "Outra maneira de mesclar strings é usar o método `.join()` . O método `.join()` aceita um iterável, como uma lista, de strings e as une."
   ]
  },
  {
   "cell_type": "code",
   "execution_count": 40,
   "metadata": {},
   "outputs": [
    {
     "data": {
      "text/plain": [
       "'Meu nome é Caique'"
      ]
     },
     "execution_count": 40,
     "metadata": {},
     "output_type": "execute_result"
    }
   ],
   "source": [
    "primeira_string = 'Meu nome é' # sem espaços finais\n",
    "segunda_string = 'Caique'\n",
    "\n",
    "' '.join([primeira_string, segunda_string])"
   ]
  },
  {
   "attachments": {},
   "cell_type": "markdown",
   "metadata": {},
   "source": [
    "Isso fará com que as strings se unam uma ao lado da outra, assim como + fez. No entanto, você pode colocar algo dentro da string que está usando para a junção e será inserido entre cada string da lista:"
   ]
  },
  {
   "attachments": {},
   "cell_type": "markdown",
   "metadata": {},
   "source": [
    "Na maioria das vezes, você pode usar uma `f-string` em vez de concatenação ou `.join()` e o código será mais fácil de seguir."
   ]
  },
  {
   "attachments": {},
   "cell_type": "markdown",
   "metadata": {},
   "source": [
    "#### Fatiamento de strings"
   ]
  },
  {
   "attachments": {},
   "cell_type": "markdown",
   "metadata": {},
   "source": [
    "O fatiamento em strings funciona da mesma maneira que para listas do Python. Vamos pegar a string 'Miranda'. A letra “M” está na posição zero e a letra “a” está na posição 3."
   ]
  },
  {
   "attachments": {},
   "cell_type": "markdown",
   "metadata": {},
   "source": [
    "Se você quiser pegar os caracteres 0-3, use esta sintaxe: `string[0: 4]`"
   ]
  },
  {
   "attachments": {},
   "cell_type": "markdown",
   "metadata": {},
   "source": [
    "O que isso significa é que você deseja que a substring comece na posição zero até, mas não incluindo a posição 4."
   ]
  },
  {
   "attachments": {},
   "cell_type": "markdown",
   "metadata": {},
   "source": [
    "Aqui estão alguns exemplos:"
   ]
  },
  {
   "cell_type": "code",
   "execution_count": 41,
   "metadata": {},
   "outputs": [
    {
     "data": {
      "text/plain": [
       "'isso'"
      ]
     },
     "execution_count": 41,
     "metadata": {},
     "output_type": "execute_result"
    }
   ],
   "source": [
    "'isso é uma string'[0: 4] "
   ]
  },
  {
   "cell_type": "code",
   "execution_count": 42,
   "metadata": {},
   "outputs": [
    {
     "data": {
      "text/plain": [
       "'isso'"
      ]
     },
     "execution_count": 42,
     "metadata": {},
     "output_type": "execute_result"
    }
   ],
   "source": [
    "'isso é uma string'[: 4]"
   ]
  },
  {
   "attachments": {},
   "cell_type": "markdown",
   "metadata": {},
   "source": [
    "O primeiro exemplo pega as quatro primeiras letras da string e as retorna. Se desejar, você pode descartar o zero, pois é o padrão e usar [:4] , que é o que o exemplo dois faz."
   ]
  },
  {
   "cell_type": "code",
   "execution_count": 43,
   "metadata": {},
   "outputs": [
    {
     "data": {
      "text/plain": [
       "'ring'"
      ]
     },
     "execution_count": 43,
     "metadata": {},
     "output_type": "execute_result"
    }
   ],
   "source": [
    "'isso é uma string'[-4: ]"
   ]
  },
  {
   "attachments": {},
   "cell_type": "markdown",
   "metadata": {},
   "source": [
    "Você também pode usar valores de posição negativos. Portanto, [-4: ] significa que você deseja começar no final da string e obter as últimas quatro letras da string."
   ]
  },
  {
   "attachments": {},
   "cell_type": "markdown",
   "metadata": {},
   "source": [
    "Strings em Python são poderosas e úteis. Eles podem ser criados usando aspas simples, duplas ou triplas. Strings são objetos, então elas possuem métodos."
   ]
  },
  {
   "attachments": {},
   "cell_type": "markdown",
   "metadata": {},
   "source": [
    "O mais novo tipo de formatação de string é o f-string. É também o método mais poderoso e atualmente preferido para formatar strings."
   ]
  },
  {
   "cell_type": "code",
   "execution_count": 44,
   "metadata": {},
   "outputs": [
    {
     "name": "stdout",
     "output_type": "stream",
     "text": [
      "Author: Caique Miranda\n",
      "\n",
      "Github username: caiquemiranda\n",
      "\n"
     ]
    }
   ],
   "source": [
    "%reload_ext watermark\n",
    "%watermark -a \"Caique Miranda\" -gu \"caiquemiranda\" -iv"
   ]
  },
  {
   "attachments": {},
   "cell_type": "markdown",
   "metadata": {},
   "source": [
    "### Fim."
   ]
  }
 ],
 "metadata": {
  "kernelspec": {
   "display_name": "Python 3",
   "language": "python",
   "name": "python3"
  },
  "language_info": {
   "codemirror_mode": {
    "name": "ipython",
    "version": 3
   },
   "file_extension": ".py",
   "mimetype": "text/x-python",
   "name": "python",
   "nbconvert_exporter": "python",
   "pygments_lexer": "ipython3",
   "version": "3.10.5"
  },
  "orig_nbformat": 4
 },
 "nbformat": 4,
 "nbformat_minor": 2
}
