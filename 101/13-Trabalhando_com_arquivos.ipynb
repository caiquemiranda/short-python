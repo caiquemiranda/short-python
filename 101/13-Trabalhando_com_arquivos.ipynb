{
 "cells": [
  {
   "cell_type": "code",
   "execution_count": null,
   "metadata": {},
   "outputs": [],
   "source": [
    "# Versão da Linguagem Python\n",
    "from platform import python_version\n",
    "print('Versão de Python Neste Jupyter Notebook:', python_version())"
   ]
  },
  {
   "attachments": {},
   "cell_type": "markdown",
   "metadata": {},
   "source": [
    "### Trabalhando com arquivos"
   ]
  },
  {
   "attachments": {},
   "cell_type": "markdown",
   "metadata": {},
   "source": [
    "Os desenvolvedores de aplicativos estão sempre trabalhando com arquivos. Você os cria sempre que escreve um novo script ou aplicativo. Você escreve relatórios no Microsoft Word, salva e-mails ou baixa livros ou músicas. Os arquivos estão por toda parte. Seu navegador da Web baixa muitos pequenos arquivos para tornar sua experiência de navegação mais rápida."
   ]
  },
  {
   "attachments": {},
   "cell_type": "markdown",
   "metadata": {},
   "source": [
    "Ao escrever programas, você precisa interagir com arquivos pré-existentes ou escrever os arquivos você mesmo. O Python fornece uma boa função integrada chamada `open()` que pode ajudá-lo nessas tarefas."
   ]
  },
  {
   "attachments": {},
   "cell_type": "markdown",
   "metadata": {},
   "source": [
    "- Abrir arquivos\n",
    "- Ler arquivos\n",
    "- Gravar arquivos\n",
    "- Anexar aos arquivos"
   ]
  },
  {
   "attachments": {},
   "cell_type": "markdown",
   "metadata": {},
   "source": [
    "#### A função `open()`"
   ]
  },
  {
   "attachments": {},
   "cell_type": "markdown",
   "metadata": {},
   "source": [
    "Você pode abrir um arquivo para ler, escrever ou anexar. Para abrir um arquivo, você pode usar a função interna `open()`."
   ]
  },
  {
   "attachments": {},
   "cell_type": "markdown",
   "metadata": {},
   "source": [
    "Aqui estão os argumentos e padrões da função `open()`:"
   ]
  },
  {
   "cell_type": "code",
   "execution_count": null,
   "metadata": {},
   "outputs": [],
   "source": [
    "file = '_'\n",
    "\n",
    "open(file, \n",
    "     mode = 'r', \n",
    "     buffering = -1, \n",
    "     encoding = None, \n",
    "     errors = None,\n",
    "     newline = None, \n",
    "     closefd = True,\n",
    "     opener = None)"
   ]
  },
  {
   "attachments": {},
   "cell_type": "markdown",
   "metadata": {},
   "source": [
    "Quando você abre um arquivo, é necessário passar um nome de arquivo ou caminho de arquivo. O padrão ao abrir um arquivo é abri-lo no modo somente leitura, que é o significado do 'r'."
   ]
  },
  {
   "attachments": {},
   "cell_type": "markdown",
   "metadata": {},
   "source": [
    "A tabela a seguir aborda os outros modos que podem ser usados ao abrir um arquivo:"
   ]
  },
  {
   "attachments": {},
   "cell_type": "markdown",
   "metadata": {},
   "source": [
    "Caractere | Significado\n",
    "---|---\n",
    "'r' | arquivo aberto para leitura (padrão)\n",
    "'w' | aberto para gravação. \n",
    "'a' | Se o arquivo existir, substitua seu conteúdo\n",
    "'b' | aberto para gravação. Se o arquivo existir, será anexado\n",
    "'t' | ao final do modo de texto do modo binário\n",
    "'+' | (padrão) leitura e gravação"
   ]
  },
  {
   "attachments": {},
   "cell_type": "markdown",
   "metadata": {},
   "source": [
    "Você se concentrará em ler, escrever e anexar neste capítulo. Se você precisar codificar seu arquivo em um formato específico, como UTF-8, poderá defini-lo por meio do parâmetro de codificação . Consulte a documentação para obter uma lista completa dos tipos de codificação suportados pelo Python."
   ]
  },
  {
   "attachments": {},
   "cell_type": "markdown",
   "metadata": {},
   "source": [
    "Existem dois métodos principais usados para abrir um arquivo. Você pode fazer algo assim:"
   ]
  },
  {
   "cell_type": "code",
   "execution_count": null,
   "metadata": {},
   "outputs": [],
   "source": [
    "arquivo = open('example.txt')\n",
    "# faça algo com o arquivo \n",
    "arquivo.close()"
   ]
  },
  {
   "attachments": {},
   "cell_type": "markdown",
   "metadata": {},
   "source": [
    "Aqui você abre o arquivo e fecha. Mas o que acontece se ocorrer uma exceção quando você tentar abrir o arquivo? Por exemplo, digamos que você tentou abrir um arquivo que não existia Ou você abriu um arquivo, mas não pode escrever nele.Essas coisas acontecem e podem fazer com que um identificador de arquivo seja deixado aberto e não fechado corretamente."
   ]
  },
  {
   "attachments": {},
   "cell_type": "markdown",
   "metadata": {},
   "source": [
    "Uma solução é usar `try`/`finally`:"
   ]
  },
  {
   "cell_type": "code",
   "execution_count": null,
   "metadata": {},
   "outputs": [],
   "source": [
    "try: \n",
    "    arquivo = open('example.txt') \n",
    "except:\n",
    "    # ignore o erro, imprima um aviso ou registre a exceção\n",
    "    pass\n",
    "finally:\n",
    "    arquivo.close()"
   ]
  },
  {
   "attachments": {},
   "cell_type": "markdown",
   "metadata": {},
   "source": [
    "No entanto, a melhor maneira de abrir um arquivo em Python é usar a instrução especial with do Python. A instrução `with` ativa o que é conhecido como gerenciador de contexto. Os gerenciadores de contexto são usados quando você deseja configurar algo e desmontar algo. Neste exemplo, você deseja abrir um arquivo, fazer algo e fechar o arquivo."
   ]
  },
  {
   "attachments": {},
   "cell_type": "markdown",
   "metadata": {},
   "source": [
    "Os principais desenvolvedores do Python transformaram o `open()` em um gerenciador de contexto. O que isso significa é que você também pode abrir um arquivo como este:"
   ]
  },
  {
   "cell_type": "code",
   "execution_count": null,
   "metadata": {},
   "outputs": [],
   "source": [
    "with open('example.txt') as arquivo: \n",
    "    # faça algo com o arquivo aqui\n",
    "    dados = arquivo.read()"
   ]
  },
  {
   "attachments": {},
   "cell_type": "markdown",
   "metadata": {},
   "source": [
    "O que isso faz é abrir o arquivo e atribuir o objeto de arquivo a `arquivo`. Então, qualquer código que esteja recuado dentro da instrução with é considerado parte do contexto. É aí que você interagiria com o manipulador de arquivos, seja lendo ou gravando no arquivo. Então, quando você sair da instrução with , ela fechará automaticamente o arquivo."
   ]
  },
  {
   "attachments": {},
   "cell_type": "markdown",
   "metadata": {},
   "source": [
    "É como ter uma instrução `finally` incorporada!"
   ]
  },
  {
   "attachments": {},
   "cell_type": "markdown",
   "metadata": {},
   "source": [
    "Agora que você sabe como abrir um arquivo, vamos seguir em frente e aprender a ler um arquivo com Python."
   ]
  },
  {
   "attachments": {},
   "cell_type": "markdown",
   "metadata": {},
   "source": [
    "#### Lendo arquivos"
   ]
  },
  {
   "attachments": {},
   "cell_type": "markdown",
   "metadata": {},
   "source": [
    "A leitura de arquivos com a linguagem de programação Python é bastante simples. Na verdade, quando você abre um arquivo e não define o argumento mode , o padrão é abrir o arquivo no modo “somente leitura”."
   ]
  },
  {
   "attachments": {},
   "cell_type": "markdown",
   "metadata": {},
   "source": [
    "Aqui está um exemplo:"
   ]
  },
  {
   "cell_type": "code",
   "execution_count": null,
   "metadata": {},
   "outputs": [],
   "source": [
    "with open('example.txt') as arquivo:\n",
    "    for linha in arquivo:\n",
    "        print(linha)"
   ]
  },
  {
   "attachments": {},
   "cell_type": "markdown",
   "metadata": {},
   "source": [
    "Esse código abrirá o arquivo de texto e, em seguida, fará um loop sobre cada linha do arquivo e o imprimirá. Sim, o arquivo pode ser iterado usando o loop for do Python , o que é muito útil. Na verdade, esse é um dos métodos recomendados para ler um arquivo à medida que você o lê em partes, para não ficar sem memória."
   ]
  },
  {
   "attachments": {},
   "cell_type": "markdown",
   "metadata": {},
   "source": [
    "Uma maneira alternativa de percorrer as linhas em um arquivo seria fazer o seguinte:"
   ]
  },
  {
   "cell_type": "code",
   "execution_count": null,
   "metadata": {},
   "outputs": [],
   "source": [
    "with open('example.txt') as arquivo: \n",
    "    linhas = arquivo.readlines() \n",
    "    for line in linhas: \n",
    "        print(linha)"
   ]
  },
  {
   "attachments": {},
   "cell_type": "markdown",
   "metadata": {},
   "source": [
    "Se você seguir esse caminho, basta ler o arquivo inteiro na memória. Dependendo de quanta RAM sua máquina possui, você pode ficar sem memória. É por isso que o primeiro método é recomendado."
   ]
  },
  {
   "attachments": {},
   "cell_type": "markdown",
   "metadata": {},
   "source": [
    "No entanto, se você sabe que o arquivo é muito pequeno, existe outra maneira de ler o arquivo inteiro na memória:"
   ]
  },
  {
   "cell_type": "code",
   "execution_count": null,
   "metadata": {},
   "outputs": [],
   "source": [
    "with open('example.txt') as arquivo:\n",
    "    conteudo_arquivo = arquivo.read()"
   ]
  },
  {
   "attachments": {},
   "cell_type": "markdown",
   "metadata": {},
   "source": [
    "O método `read()` lerá o arquivo inteiro na memória e o atribuirá à sua variável."
   ]
  },
  {
   "attachments": {},
   "cell_type": "markdown",
   "metadata": {},
   "source": [
    "Ocasionalmente, você pode querer ler um arquivo em partes menores ou maiores. Isso pode ser feito especificando o tamanho em bytes para `read()`. Você poderia usar um loop while para isso:"
   ]
  },
  {
   "cell_type": "code",
   "execution_count": null,
   "metadata": {},
   "outputs": [],
   "source": [
    "while True:\n",
    "    with open('example.txt') as arquivo:\n",
    "        dados = arquivo.read(1024) \n",
    "        if not dados:\n",
    "            break\n",
    "        \n",
    "        print(dados)"
   ]
  },
  {
   "attachments": {},
   "cell_type": "markdown",
   "metadata": {},
   "source": [
    "Neste exemplo, você lê 1024 bytes por vez. Quando você chama `read()` e ele retorna uma string vazia, o loop `while` será interrompido porque a instrução break será executada."
   ]
  },
  {
   "attachments": {},
   "cell_type": "markdown",
   "metadata": {},
   "source": [
    "#### C"
   ]
  },
  {
   "attachments": {},
   "cell_type": "markdown",
   "metadata": {},
   "source": [
    "Algumas vezes você precisará ler um arquivo binário. O Python também pode\n",
    "fazer isso combinando o modo r com b:"
   ]
  },
  {
   "cell_type": "code",
   "execution_count": null,
   "metadata": {},
   "outputs": [],
   "source": [
    "1 com open('example.pdf', 'rb') como file_handler: 2 file_contents\n",
    "= file_handler.read()"
   ]
  },
  {
   "attachments": {},
   "cell_type": "markdown",
   "metadata": {},
   "source": [
    "Observe que o segundo argumento para open() é rb. Isso diz ao Python para abrir o\n",
    "arquivo no modo binário somente leitura. Se você imprimir o file_contents, verá o\n",
    "que equivale a um jargão, já que a maioria dos documentos binários não são\n",
    "legíveis por humanos."
   ]
  },
  {
   "attachments": {},
   "cell_type": "markdown",
   "metadata": {},
   "source": [
    "#### Escrevendo arquivos"
   ]
  },
  {
   "attachments": {},
   "cell_type": "markdown",
   "metadata": {},
   "source": [
    "Escrever um novo arquivo em Python usa exatamente a mesma sintaxe\n",
    "da leitura. Mas, em vez de definir o modo como r, você o define como w para o modo de gravação.\n",
    "Se você precisar escrever no modo binário, abra o arquivo no modo wb ."
   ]
  },
  {
   "attachments": {},
   "cell_type": "markdown",
   "metadata": {},
   "source": [
    "<b>ATENÇÃO</b> : Ao usar os modos w e wb , se o arquivo já existir, você acabará\n",
    "sobrescrevendo-o. O Python não o avisa de forma alguma. O Python fornece uma\n",
    "maneira de verificar a existência de um arquivo usando o módulo os via os.path.exists().\n",
    "Consulte a documentação do Python para obter mais detalhes."
   ]
  },
  {
   "attachments": {},
   "cell_type": "markdown",
   "metadata": {},
   "source": [
    "Vamos escrever uma única linha de texto em um arquivo:"
   ]
  },
  {
   "cell_type": "code",
   "execution_count": null,
   "metadata": {},
   "outputs": [],
   "source": [
    "1 >>> com open('example.txt', 'w') como file_handler: 2\n",
    "file_handler.write('Isto é um teste')"
   ]
  },
  {
   "attachments": {},
   "cell_type": "markdown",
   "metadata": {},
   "source": [
    "Isso gravará uma única linha de texto em um arquivo. Se você escrever mais texto, ele\n",
    "será escrito ao lado do texto anterior. Portanto, se você precisar adicionar uma nova linha,\n",
    "precisará escrevê-la usando \\n."
   ]
  },
  {
   "attachments": {},
   "cell_type": "markdown",
   "metadata": {},
   "source": [
    "Para verificar se funcionou, você pode ler o arquivo e imprimir seu conteúdo:"
   ]
  },
  {
   "cell_type": "code",
   "execution_count": null,
   "metadata": {},
   "outputs": [],
   "source": [
    ">>> com open('example.txt') como file_handler: 2\n",
    "prin.t.(.file_handler.read())\n"
   ]
  },
  {
   "attachments": {},
   "cell_type": "markdown",
   "metadata": {},
   "source": [
    "Se você precisar escrever várias linhas de uma vez, pode usar o método writelines() ,\n",
    "que aceita uma sequência de strings. Você poderia usar uma lista de strings e\n",
    "passá-las para writelines(), por exemplo."
   ]
  },
  {
   "attachments": {},
   "cell_type": "markdown",
   "metadata": {},
   "source": [
    "#### Procurando dentro de um arquivo"
   ]
  },
  {
   "attachments": {},
   "cell_type": "markdown",
   "metadata": {},
   "source": [
    "O manipulador de arquivos também fornece um outro método que vale a pena mencionar.\n",
    "Esse método é seek() que você pode usar para alterar a posição do objeto de\n",
    "arquivo. Em outras palavras, você pode dizer ao Python onde começar a ler no\n",
    "arquivo."
   ]
  },
  {
   "attachments": {},
   "cell_type": "markdown",
   "metadata": {},
   "source": [
    "O método seek() aceita dois argumentos:"
   ]
  },
  {
   "attachments": {},
   "cell_type": "markdown",
   "metadata": {},
   "source": [
    "- offset - Um número de bytes de onde de onde\n",
    "- whence - ponto de referência"
   ]
  },
  {
   "attachments": {},
   "cell_type": "markdown",
   "metadata": {},
   "source": [
    "Você pode definir where para um destes três valores:"
   ]
  },
  {
   "attachments": {},
   "cell_type": "markdown",
   "metadata": {},
   "source": [
    "- 0 - O início do arquivo (padrão)\n",
    "- 1 - A posição atual do arquivo\n",
    "- 2 - O fim do arquivo"
   ]
  },
  {
   "attachments": {},
   "cell_type": "markdown",
   "metadata": {},
   "source": [
    "Vamos usar o arquivo no qual você escreveu anteriormente no capítulo como exemplo:"
   ]
  },
  {
   "cell_type": "code",
   "execution_count": null,
   "metadata": {},
   "outputs": [],
   "source": [
    "1 >>> com open('example.txt') como file_handler:\n",
    "    file_handler.seek(4) chunk =\n",
    "    file_handler.read() print(chunk)"
   ]
  },
  {
   "attachments": {},
   "cell_type": "markdown",
   "metadata": {},
   "source": [
    "Aqui você abre o arquivo no modo somente leitura. Em seguida, você procura o 4º byte\n",
    "e lê o restante do arquivo no bloco variável. Finalmente, você imprime o pedaço e vê que\n",
    "recuperou apenas parte do arquivo."
   ]
  },
  {
   "attachments": {},
   "cell_type": "markdown",
   "metadata": {},
   "source": [
    "#### Anexando a arquivos"
   ]
  },
  {
   "attachments": {},
   "cell_type": "markdown",
   "metadata": {},
   "source": [
    "Você\n",
    "também pode anexar dados a um arquivo pré-existente usando o modo a , que é o\n",
    "modo de anexação."
   ]
  },
  {
   "attachments": {},
   "cell_type": "markdown",
   "metadata": {},
   "source": [
    "Aqui está um exemplo:"
   ]
  },
  {
   "cell_type": "code",
   "execution_count": null,
   "metadata": {},
   "outputs": [],
   "source": [
    "1 >>> com open('example.txt', 'a') como file_handler: 2\n",
    "file_handler.write('Aqui está mais algum texto')"
   ]
  },
  {
   "attachments": {},
   "cell_type": "markdown",
   "metadata": {},
   "source": [
    "Se o arquivo existir, isso adicionará uma nova string ao final do arquivo. Por outro\n",
    "lado, se o arquivo não existir , o Python criará o arquivo e adicionará esses dados a\n",
    "ele."
   ]
  },
  {
   "attachments": {},
   "cell_type": "markdown",
   "metadata": {},
   "source": [
    "#### Capturando exceções de arquivo"
   ]
  },
  {
   "attachments": {},
   "cell_type": "markdown",
   "metadata": {},
   "source": [
    "Ao trabalhar com arquivos, às vezes você encontrará erros. Por\n",
    "exemplo, você pode não ter as permissões corretas para criar ou editar o arquivo.\n",
    "Nesse caso, o Python gerará um OSError. Existem outros erros que ocorrem ocasionalmente,\n",
    "mas esse é o mais comum ao trabalhar com arquivos."
   ]
  },
  {
   "attachments": {},
   "cell_type": "markdown",
   "metadata": {},
   "source": [
    "Você pode usar as facilidades de manipulação de exceções do Python para manter seu programa\n",
    "funcionando:"
   ]
  },
  {
   "cell_type": "code",
   "execution_count": null,
   "metadata": {},
   "outputs": [],
   "source": [
    "tentativa: 2 com open('example.txt') como file_handler: for line in\n",
    "file_handler: print(line) 5 exceto\n",
    "OSError: 6\n",
    "print(' Ocorreu um erro')"
   ]
  },
  {
   "attachments": {},
   "cell_type": "markdown",
   "metadata": {},
   "source": [
    "Este código tentará abrir um arquivo e imprimir seu conteúdo uma linha por vez. Se um OSError for\n",
    "gerado, você o detectará com try/except e imprimirá uma mensagem para o usuário."
   ]
  },
  {
   "cell_type": "markdown",
   "metadata": {},
   "source": []
  },
  {
   "cell_type": "markdown",
   "metadata": {},
   "source": []
  },
  {
   "cell_type": "markdown",
   "metadata": {},
   "source": []
  },
  {
   "cell_type": "markdown",
   "metadata": {},
   "source": []
  },
  {
   "cell_type": "markdown",
   "metadata": {},
   "source": []
  },
  {
   "cell_type": "code",
   "execution_count": null,
   "metadata": {},
   "outputs": [],
   "source": [
    "%reload_ext watermark\n",
    "%watermark -a \"Caique Miranda\" -gu \"caiquemiranda\" -iv"
   ]
  },
  {
   "attachments": {},
   "cell_type": "markdown",
   "metadata": {},
   "source": [
    "### End."
   ]
  }
 ],
 "metadata": {
  "language_info": {
   "name": "python"
  },
  "orig_nbformat": 4
 },
 "nbformat": 4,
 "nbformat_minor": 2
}
