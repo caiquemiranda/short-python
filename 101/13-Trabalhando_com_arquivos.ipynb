{
 "cells": [
  {
   "cell_type": "code",
   "execution_count": null,
   "metadata": {},
   "outputs": [],
   "source": [
    "# Versão da Linguagem Python\n",
    "from platform import python_version\n",
    "print('Versão de Python Neste Jupyter Notebook:', python_version())"
   ]
  },
  {
   "attachments": {},
   "cell_type": "markdown",
   "metadata": {},
   "source": [
    "### Trabalhando com arquivos"
   ]
  },
  {
   "attachments": {},
   "cell_type": "markdown",
   "metadata": {},
   "source": [
    "Os desenvolvedores de aplicativos estão sempre trabalhando com arquivos. Você os cria sempre que escreve um novo script ou aplicativo. Você escreve relatórios no Microsoft Word, salva e-mails ou baixa livros ou músicas. Os arquivos estão por toda parte. Seu navegador da Web baixa muitos pequenos arquivos para tornar sua experiência de navegação mais rápida."
   ]
  },
  {
   "attachments": {},
   "cell_type": "markdown",
   "metadata": {},
   "source": [
    "Ao escrever programas, você precisa interagir com arquivos pré-existentes ou escrever os arquivos você mesmo. O Python fornece uma boa função integrada chamada `open()` que pode ajudá-lo nessas tarefas."
   ]
  },
  {
   "attachments": {},
   "cell_type": "markdown",
   "metadata": {},
   "source": [
    "- Abrir arquivos\n",
    "- Ler arquivos\n",
    "- Gravar arquivos\n",
    "- Anexar aos arquivos"
   ]
  },
  {
   "attachments": {},
   "cell_type": "markdown",
   "metadata": {},
   "source": [
    "#### A função `open()`"
   ]
  },
  {
   "attachments": {},
   "cell_type": "markdown",
   "metadata": {},
   "source": [
    "Você pode abrir um arquivo para ler, escrever ou anexar. Para abrir um arquivo, você pode usar a função interna `open()`."
   ]
  },
  {
   "attachments": {},
   "cell_type": "markdown",
   "metadata": {},
   "source": [
    "Aqui estão os argumentos e padrões da função `open()`:"
   ]
  },
  {
   "cell_type": "code",
   "execution_count": null,
   "metadata": {},
   "outputs": [],
   "source": [
    "file = '_'\n",
    "\n",
    "open(file, \n",
    "     mode = 'r', \n",
    "     buffering = -1, \n",
    "     encoding = None, \n",
    "     errors = None,\n",
    "     newline = None, \n",
    "     closefd = True,\n",
    "     opener = None)"
   ]
  },
  {
   "attachments": {},
   "cell_type": "markdown",
   "metadata": {},
   "source": [
    "Quando você abre um arquivo, é necessário passar um nome de arquivo ou caminho de arquivo. O padrão ao abrir um arquivo é abri-lo no modo somente leitura, que é o significado do 'r'."
   ]
  },
  {
   "attachments": {},
   "cell_type": "markdown",
   "metadata": {},
   "source": [
    "A tabela a seguir aborda os outros modos que podem ser usados ao abrir um arquivo:"
   ]
  },
  {
   "attachments": {},
   "cell_type": "markdown",
   "metadata": {},
   "source": [
    "Caractere | Significado\n",
    "---|---\n",
    "'r' | arquivo aberto para leitura (padrão)\n",
    "'w' | aberto para gravação. \n",
    "'a' | Se o arquivo existir, substitua seu conteúdo\n",
    "'b' | aberto para gravação. Se o arquivo existir, será anexado\n",
    "'t' | ao final do modo de texto do modo binário\n",
    "'+' | (padrão) leitura e gravação"
   ]
  },
  {
   "attachments": {},
   "cell_type": "markdown",
   "metadata": {},
   "source": [
    "Você se concentrará em ler, escrever e anexar neste capítulo. Se você precisar codificar seu arquivo em um formato específico, como UTF-8, poderá defini-lo por meio do parâmetro de codificação . Consulte a documentação para obter uma lista completa dos tipos de codificação suportados pelo Python."
   ]
  },
  {
   "attachments": {},
   "cell_type": "markdown",
   "metadata": {},
   "source": [
    "Existem dois métodos principais usados para abrir um arquivo. Você pode fazer algo assim:"
   ]
  },
  {
   "cell_type": "code",
   "execution_count": null,
   "metadata": {},
   "outputs": [],
   "source": [
    "1 file_handler = open('example.txt')\n",
    "2 # faça algo com o arquivo \n",
    "3 file_handler.close()"
   ]
  },
  {
   "attachments": {},
   "cell_type": "markdown",
   "metadata": {},
   "source": [
    "Aqui você abre o arquivo e fecha. Mas o que acontece se ocorrer uma exceção\n",
    "quando você tentar abrir o arquivo? Por exemplo, digamos que você tentou abrir um\n",
    "arquivo que não existia Ou você abriu um arquivo, mas não pode escrever nele.Essas coisas acontecem e podem fazer com que um identificador de arquivo seja deixado aberto e não fechado corretamente."
   ]
  },
  {
   "attachments": {},
   "cell_type": "markdown",
   "metadata": {},
   "source": [
    "Uma solução é usar try/finally:"
   ]
  },
  {
   "cell_type": "code",
   "execution_count": null,
   "metadata": {},
   "outputs": [],
   "source": [
    "1\n",
    "tentativa: 2 file_handler = open('example.txt') 3 exceto:\n",
    "4 # ignore o\n",
    "erro, imprima um aviso ou registre a exceção\n",
    "passe\n",
    "6 finalmente:\n",
    "file_handler.close()"
   ]
  },
  {
   "cell_type": "markdown",
   "metadata": {},
   "source": []
  },
  {
   "cell_type": "markdown",
   "metadata": {},
   "source": []
  },
  {
   "cell_type": "markdown",
   "metadata": {},
   "source": []
  },
  {
   "cell_type": "markdown",
   "metadata": {},
   "source": []
  },
  {
   "cell_type": "markdown",
   "metadata": {},
   "source": []
  },
  {
   "cell_type": "markdown",
   "metadata": {},
   "source": []
  },
  {
   "cell_type": "markdown",
   "metadata": {},
   "source": []
  },
  {
   "cell_type": "code",
   "execution_count": null,
   "metadata": {},
   "outputs": [],
   "source": [
    "%reload_ext watermark\n",
    "%watermark -a \"Caique Miranda\" -gu \"caiquemiranda\" -iv"
   ]
  },
  {
   "attachments": {},
   "cell_type": "markdown",
   "metadata": {},
   "source": [
    "### End."
   ]
  }
 ],
 "metadata": {
  "language_info": {
   "name": "python"
  },
  "orig_nbformat": 4
 },
 "nbformat": 4,
 "nbformat_minor": 2
}
