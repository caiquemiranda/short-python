{
 "cells": [
  {
   "cell_type": "code",
   "execution_count": null,
   "metadata": {},
   "outputs": [],
   "source": [
    "# Versão da Linguagem Python\n",
    "from platform import python_version\n",
    "print('Versão de Python Neste Jupyter Notebook:', python_version())"
   ]
  },
  {
   "attachments": {},
   "cell_type": "markdown",
   "metadata": {},
   "source": [
    "Criar software é um trabalho árduo. Para tornar seu software melhor, seu aplicativo precisa continuar funcionando mesmo quando o inesperado acontece. Por exemplo, digamos que seu aplicativo precise obter informações da Internet. O que acontece se a pessoa que usa seu aplicativo perder a conectividade com a Internet?"
   ]
  },
  {
   "attachments": {},
   "cell_type": "markdown",
   "metadata": {},
   "source": [
    "Outro problema comum é o que fazer se o usuário inserir uma entrada inválida. Ou tenta abrir um arquivo que seu aplicativo não suporta."
   ]
  },
  {
   "attachments": {},
   "cell_type": "markdown",
   "metadata": {},
   "source": [
    "Todos esses casos podem ser tratados usando os recursos internos de tratamento de exceções do Python,que são comumente referidos como `try` e `except` declarações."
   ]
  },
  {
   "attachments": {},
   "cell_type": "markdown",
   "metadata": {},
   "source": [
    "Você aprenderá sobre:\n",
    "\n",
    "- Exceções comuns\n",
    "- Tratamento de exceções\n",
    "- Gerando exceções\n",
    "- Examinando objetos de exceção\n",
    "- Usando a declaração `finally`\n",
    "- Usando a instrução `else`"
   ]
  },
  {
   "attachments": {},
   "cell_type": "markdown",
   "metadata": {},
   "source": [
    "Vamos começar aprendendo sobre algumas das exceções mais comuns."
   ]
  },
  {
   "attachments": {},
   "cell_type": "markdown",
   "metadata": {},
   "source": [
    "#### As exceções mais comuns"
   ]
  },
  {
   "attachments": {},
   "cell_type": "markdown",
   "metadata": {},
   "source": [
    "Python oferece suporte a várias exceções diferentes. Aqui está uma pequena lista daqueles que você provavelmente verá quando começar a usar o idioma:\n",
    "\n",
    "- `Exception` - A exceção básica na qual todas as outras se baseiam.\n",
    "\n",
    "-  `AttributeError` - Gerada quando uma referência ou atribuição de atributo falha.\n",
    "\n",
    "- `ImportError` - Gerado quando uma instrução de importação falha ao localizar a definição do módulo ou quando um from … import falha ao localizar um nome que deve ser importado.\n",
    "\n",
    "- `ModuleNotFoundError` - Uma subclasse de `ImportError` que é gerada pela importação quando um módulo não pode ser localizado. \n",
    "\n",
    "- `IndexError` - Gerada quando um subscrito de sequência está fora do intervalo.\n",
    "\n",
    "- `KeyError` - Gerado quando uma chave de mapeamento (dicionário) não é encontrada no conjunto de chaves existentes.\n",
    "  \n",
    "- `KeyboardInterrupt` - Gerado quando o usuário pressiona a tecla de interrupção (normalmente Control-C ou Delete).\n",
    "\n",
    "- `NameError` - Gerado quando um nome local ou global não é encontrado.\n",
    "  \n",
    "- `OSError` - Gerado quando uma função retorna um erro relacionado ao sistema.\n",
    "  \n",
    "- `RuntimeError` - Gerado quando é detectado um erro que não se enquadra em nenhuma das outras categorias.\n",
    "  \n",
    "- `SyntaxError` - Gerado quando o analisador encontra um erro de sintaxe.\n",
    "  \n",
    "- `TypeError` - Gerado quando uma operação ou função é aplicada a um objeto de tipo inapropriado. O valor associado é uma string que fornece detalhes sobre a incompatibilidade de tipo.\n",
    "\n",
    "- `ValueError` - Gerado quando uma operação ou função interna recebe um argumento que tem o tipo certo, mas um valor inadequado, e a situação não é descrita por uma exceção mais precisa, como `IndexError`.\n",
    "  \n",
    "- `ZeroDivisionError` - Gerado quando o segundo argumento de uma operação de divisão ou módulo é zero."
   ]
  },
  {
   "attachments": {},
   "cell_type": "markdown",
   "metadata": {},
   "source": [
    "Para obter uma lista completa das exceções integradas, você pode conferir a documentação do Python aqui:\n",
    "\n",
    "https://docs.python.org/3/library/exceptions.html."
   ]
  },
  {
   "attachments": {},
   "cell_type": "markdown",
   "metadata": {},
   "source": [
    "Agora vamos descobrir como você pode realmente lidar com uma exceção quando um\n",
    "ocorre."
   ]
  },
  {
   "attachments": {},
   "cell_type": "markdown",
   "metadata": {},
   "source": [
    "#### Manipulando exceções"
   ]
  },
  {
   "attachments": {},
   "cell_type": "markdown",
   "metadata": {},
   "source": [
    "Python vem com uma sintaxe especial que você pode usar para capturar uma exceção. É conhecida como a instrução `try`/`except`."
   ]
  },
  {
   "attachments": {},
   "cell_type": "markdown",
   "metadata": {},
   "source": [
    "Este é o formulário básico que você usará para capturar uma exceção:"
   ]
  },
  {
   "cell_type": "code",
   "execution_count": null,
   "metadata": {},
   "outputs": [],
   "source": [
    "try:\n",
    "    # Código que pde gerar uma exceção vai aqui.\n",
    "    \n",
    "except ImportError:\n",
    "    # Código que é execultado quando ocorre uma exceção."
   ]
  },
  {
   "attachments": {},
   "cell_type": "markdown",
   "metadata": {},
   "source": [
    "Você coloca o código que espera ter um problema dentro do bloco `try`. Pode ser um código que abre um arquivo ou um código que recebe entrada do usuário. O segundo bloco é conhecido como bloco `except`. No exemplo acima, o bloco `except` só será executado se um `ImportError` for levantado."
   ]
  },
  {
   "attachments": {},
   "cell_type": "markdown",
   "metadata": {},
   "source": [
    "Quando você escreve `except` sem especificar o tipo de exceção, isso é conhecido como uma exceção simples. Estes não são recomendados:"
   ]
  },
  {
   "cell_type": "code",
   "execution_count": null,
   "metadata": {},
   "outputs": [],
   "source": [
    "try:\n",
    "    with open('exemplo.txt') as arquivo:\n",
    "        for linha in arquivo:\n",
    "            print(linha)\n",
    "except:\n",
    "    print('Ocorreu um erro!')"
   ]
  },
  {
   "attachments": {},
   "cell_type": "markdown",
   "metadata": {},
   "source": [
    "A razão pela qual é uma prática ruim criar uma exceção simples é que você não sabe quais tipos de exceções está capturando, nem exatamente onde elas estão ocorrendo. Isso pode tornar mais difícil descobrir o que você fez de errado. Se você restringir os tipos de exceção àqueles com os quais sabe lidar, os inesperados farão com que seu aplicativo trave com uma mensagem útil. Nesse ponto, você pode decidir se deseja capturar essa outra exceção ou não."
   ]
  },
  {
   "attachments": {},
   "cell_type": "markdown",
   "metadata": {},
   "source": [
    "Digamos que você queira capturar várias exceções. Aqui está uma maneira de fazer isso:"
   ]
  },
  {
   "cell_type": "code",
   "execution_count": null,
   "metadata": {},
   "outputs": [],
   "source": [
    "try:\n",
    "    with open('exemplo.txt') as arquivo:\n",
    "        for linha in arquivo:\n",
    "            print(linha)\n",
    "    import algo\n",
    "\n",
    "\n",
    "except OSError:\n",
    "    print('Ocorreu um erro!')\n",
    "    \n",
    "except ImportError:\n",
    "    print('Importação desconhecida!')\n"
   ]
  },
  {
   "attachments": {},
   "cell_type": "markdown",
   "metadata": {},
   "source": [
    "Esse manipulador de exceção capturará dois tipos de exceção: `OSError` e `ImportError`. Se ocorrer outro tipo de exceção, esse manipulador não o detectará e seu código será interrompido."
   ]
  },
  {
   "attachments": {},
   "cell_type": "markdown",
   "metadata": {},
   "source": [
    "Você pode reescrever o código acima para ser um pouco mais simples fazendo isso:"
   ]
  },
  {
   "cell_type": "code",
   "execution_count": null,
   "metadata": {},
   "outputs": [],
   "source": [
    "try:\n",
    "    with open('exemplo.txt') as arquivo:\n",
    "        for linha in arquivo:\n",
    "            print(linha)\n",
    "    import algo\n",
    "\n",
    "except(OSError, ImportError):\n",
    "    print('Ocorreu um erro!')"
   ]
  },
  {
   "attachments": {},
   "cell_type": "markdown",
   "metadata": {},
   "source": [
    "Obviamente, ao criar uma tupla de exceções, isso ofuscará qual exceção ocorreu. Em outras palavras, esse código torna mais difícil saber qual problema realmente aconteceu."
   ]
  },
  {
   "attachments": {},
   "cell_type": "markdown",
   "metadata": {},
   "source": [
    "#### Gerando exceções"
   ]
  },
  {
   "attachments": {},
   "cell_type": "markdown",
   "metadata": {},
   "source": [
    "O que você faz depois de capturar uma exceção? Você tem algumas opções. Você pode imprimir uma mensagem como nos exemplos anteriores. Você também pode registrar a mensagem em um arquivo de log para depuração posterior. Ou, se a exceção for uma que você sabe que precisa interromper a execução de seu aplicativo, você pode reativar a exceção – possivelmente adicionando mais informações a ela."
   ]
  },
  {
   "attachments": {},
   "cell_type": "markdown",
   "metadata": {},
   "source": [
    "Gerar uma exceção é o processo de forçar a ocorrência de uma exceção. Você levanta exceções em casos especiais. Por exemplo, se um arquivo que você precisa acessar não for encontrado no computador, você pode gerar uma exceção."
   ]
  },
  {
   "attachments": {},
   "cell_type": "markdown",
   "metadata": {},
   "source": [
    "Você pode usar a instrução raise integrada do Python para gerar uma exceção:"
   ]
  },
  {
   "cell_type": "code",
   "execution_count": null,
   "metadata": {},
   "outputs": [],
   "source": [
    "try:\n",
    "    raise ImportError\n",
    "\n",
    "except ImportError:\n",
    "    print('Aconteceu algo ruim!')"
   ]
  },
  {
   "attachments": {},
   "cell_type": "markdown",
   "metadata": {},
   "source": [
    "Quando você levanta uma exceção, pode imprimir uma mensagem personalizada:"
   ]
  },
  {
   "cell_type": "code",
   "execution_count": null,
   "metadata": {},
   "outputs": [],
   "source": [
    "raise Exception('Aconteceu algo ruim!')"
   ]
  },
  {
   "attachments": {},
   "cell_type": "markdown",
   "metadata": {},
   "source": [
    "Se você não fornecer uma mensagem, a exceção ficaria assim:"
   ]
  },
  {
   "cell_type": "code",
   "execution_count": null,
   "metadata": {},
   "outputs": [],
   "source": [
    "raise Exception"
   ]
  },
  {
   "attachments": {},
   "cell_type": "markdown",
   "metadata": {},
   "source": [
    "Agora vamos aprender sobre o objeto de exceção!"
   ]
  },
  {
   "attachments": {},
   "cell_type": "markdown",
   "metadata": {},
   "source": [
    "#### Examinando o objeto de exceção"
   ]
  },
  {
   "attachments": {},
   "cell_type": "markdown",
   "metadata": {},
   "source": [
    "Quando ocorre uma exceção, o Python cria um objeto de exceção. Você pode examinar o objeto de exceção atribuindo-o a uma variável usando a instrução as :"
   ]
  },
  {
   "cell_type": "code",
   "execution_count": null,
   "metadata": {},
   "outputs": [],
   "source": [
    "try:\n",
    "    raise ImportError('Importação ruim!')\n",
    "\n",
    "except ImportError as error:\n",
    "    print(type(error))\n",
    "    print(error.args)\n",
    "    print(error)"
   ]
  },
  {
   "attachments": {},
   "cell_type": "markdown",
   "metadata": {},
   "source": [
    "Neste exemplo, você atribuiu o objeto `ImportError` a `error`. Agora você pode usar a função `type()` do Python para saber que tipo de exceção era. Isso permitiria resolver o problema quando você tem uma tupla de exceções, mas não consegue saber imediatamente qual exceção capturou."
   ]
  },
  {
   "attachments": {},
   "cell_type": "markdown",
   "metadata": {},
   "source": [
    "Se você quiser se aprofundar ainda mais na depuração de exceções, procure o módulo `traceback` do Python ."
   ]
  },
  {
   "attachments": {},
   "cell_type": "markdown",
   "metadata": {},
   "source": [
    "#### Usando a instrução `finally`"
   ]
  },
  {
   "attachments": {},
   "cell_type": "markdown",
   "metadata": {},
   "source": [
    "Há mais na instrução `try`/`except` do que apenas `try` e `except`. Você também pode adicionar uma instrução `finally` . A instrução `finally` é um bloco de código que sempre será executado, mesmo se houver uma exceção levantada dentro da parte `try`."
   ]
  },
  {
   "attachments": {},
   "cell_type": "markdown",
   "metadata": {},
   "source": [
    "Você pode usar a instrução `finally` para limpeza. Por exemplo, pode ser necessário fechar uma conexão de banco de dados ou um identificador de arquivo. Para fazer isso,\n",
    "você pode agrupar o código em uma instrução `try`/`except`/`finally`"
   ]
  },
  {
   "cell_type": "code",
   "execution_count": null,
   "metadata": {},
   "outputs": [],
   "source": [
    "try:\n",
    "    1 / 0\n",
    "\n",
    "except ZeroDivisionError:\n",
    "    print('Você não pode dividir por zero!')\n",
    "    \n",
    "finally:\n",
    "    print('Limpeza.')"
   ]
  },
  {
   "attachments": {},
   "cell_type": "markdown",
   "metadata": {},
   "source": [
    "Este exemplo demonstra como você pode lidar com a exceção `ZeroDivisionError`, bem como adicionar código de limpeza."
   ]
  },
  {
   "attachments": {},
   "cell_type": "markdown",
   "metadata": {},
   "source": [
    "Você também pode ignorar totalmente a instrução except e criar um try/finally :"
   ]
  },
  {
   "cell_type": "code",
   "execution_count": null,
   "metadata": {},
   "outputs": [],
   "source": [
    "1 >>> try:\n",
    "2 ... 1/0\n",
    "3 ... finally:\n",
    "4 ... print('Cleaning up')\n",
    "5 ...\n",
    "6 Cleaning up\n",
    "7 Traceback (most recent call last):\n",
    "8 Python Shell, prompt 6, line 2\n",
    "9 builtins.ZeroDivisionError: division by zero"
   ]
  },
  {
   "attachments": {},
   "cell_type": "markdown",
   "metadata": {},
   "source": [
    "Desta vez, você não lida com a exceção ZeroDivisionError , mas o bloco de código da\n",
    "instrução final é executado de qualquer maneira."
   ]
  },
  {
   "attachments": {},
   "cell_type": "markdown",
   "metadata": {},
   "source": [
    "### Usando a instrução else"
   ]
  },
  {
   "attachments": {},
   "cell_type": "markdown",
   "metadata": {},
   "source": [
    "Há uma outra instrução que você pode usar com o tratamento de exceções do Python,\n",
    "que é a instrução else . Você pode usar a instrução else para executar o código\n",
    "quando não houver exceções."
   ]
  },
  {
   "attachments": {},
   "cell_type": "markdown",
   "metadata": {},
   "source": [
    "Aqui está um exemplo:"
   ]
  },
  {
   "cell_type": "code",
   "execution_count": null,
   "metadata": {},
   "outputs": [],
   "source": [
    "1 >>> try:\n",
    "2 ... print('This is the try block')\n",
    "3 ... except IOError:\n",
    "4 ... print('An IOError has occurred')\n",
    "5 ... else:\n",
    "6 ... print('This is the else block')\n",
    "7 ...\n",
    "8 This is the try block\n",
    "9 This is the else block"
   ]
  },
  {
   "attachments": {},
   "cell_type": "markdown",
   "metadata": {},
   "source": [
    "Neste código, nenhuma exceção ocorreu, então o bloco try e os blocos else são\n",
    "executados."
   ]
  },
  {
   "attachments": {},
   "cell_type": "markdown",
   "metadata": {},
   "source": [
    "Vamos tentar levantar um IOError e ver o que acontece:"
   ]
  },
  {
   "cell_type": "code",
   "execution_count": null,
   "metadata": {},
   "outputs": [],
   "source": [
    "1 >>> try:\n",
    "2 ... raise IOError\n",
    "3 ... print('This is the try block')\n",
    "4 ... except IOError:\n",
    "5 ... print('An IOError has occurred')\n",
    "6 ... else:\n",
    "7 ... print('This is the else block')\n",
    "8 ...\n",
    "9 An IOError has occurred"
   ]
  },
  {
   "attachments": {},
   "cell_type": "markdown",
   "metadata": {},
   "source": [
    "Como uma exceção foi lançada, apenas os blocos try e except foram executados.\n",
    "Observe que o bloco try parou de executar na instrução raise . Nunca atingiu a\n",
    "função print() . Depois que uma exceção é gerada, todo o código a seguir é\n",
    "ignorado e você vai direto para o código de tratamento de exceção."
   ]
  },
  {
   "cell_type": "code",
   "execution_count": null,
   "metadata": {},
   "outputs": [],
   "source": [
    "%reload_ext watermark\n",
    "%watermark -a \"Caique Miranda\" -gu \"caiquemiranda\" -iv"
   ]
  },
  {
   "attachments": {},
   "cell_type": "markdown",
   "metadata": {},
   "source": [
    "### End."
   ]
  }
 ],
 "metadata": {
  "language_info": {
   "name": "python"
  },
  "orig_nbformat": 4
 },
 "nbformat": 4,
 "nbformat_minor": 2
}
