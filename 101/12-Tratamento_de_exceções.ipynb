{
 "cells": [
  {
   "cell_type": "code",
   "execution_count": null,
   "metadata": {},
   "outputs": [],
   "source": [
    "# Versão da Linguagem Python\n",
    "from platform import python_version\n",
    "print('Versão de Python Neste Jupyter Notebook:', python_version())"
   ]
  },
  {
   "attachments": {},
   "cell_type": "markdown",
   "metadata": {},
   "source": [
    "Criar software é um trabalho árduo. Para tornar seu software melhor, seu\n",
    "aplicativo precisa continuar funcionando mesmo quando o inesperado acontece. Por\n",
    "exemplo, digamos que seu aplicativo precise obter informações da Internet."
   ]
  },
  {
   "attachments": {},
   "cell_type": "markdown",
   "metadata": {},
   "source": [
    "Outro problema comum é o que fazer se o usuário inserir uma entrada inválida. Ou tenta\n",
    "abrir um arquivo que seu aplicativo não suporta."
   ]
  },
  {
   "attachments": {},
   "cell_type": "markdown",
   "metadata": {},
   "source": [
    "Todos esses casos podem ser tratados usando os recursos internos de tratamento de\n",
    "exceções do Python,que são comumente referidos como try e except declarações."
   ]
  },
  {
   "attachments": {},
   "cell_type": "markdown",
   "metadata": {},
   "source": [
    "Neste capítulo você aprenderá sobre:\n",
    "- Exceções comuns\n",
    "- Tratamento de exceções\n",
    "- Gerando exceções\n",
    "- Examinando objetos de exceção\n",
    "- Usando a declaração final\n",
    "- Usando a instrução else"
   ]
  },
  {
   "attachments": {},
   "cell_type": "markdown",
   "metadata": {},
   "source": [
    "Vamos começar aprendendo sobre algumas das exceções mais comuns."
   ]
  },
  {
   "attachments": {},
   "cell_type": "markdown",
   "metadata": {},
   "source": [
    "#### As exceções mais comuns"
   ]
  },
  {
   "attachments": {},
   "cell_type": "markdown",
   "metadata": {},
   "source": [
    "Python\n",
    "oferece suporte a várias exceções diferentes. Aqui está uma pequena lista\n",
    "daqueles que você provavelmente verá quando começar a usar o idioma:\n",
    "- Exceção - A exceção básica na qual todas as outras se baseiam AttributeError -\n",
    "- Gerada quando uma referência ou atribuição de atributo falha.\n",
    "- ImportError - Gerado quando uma instrução de importação falha ao localizar a\n",
    "definição do módulo ou quando um from … import falha ao localizar um nome que deve ser\n",
    "importado.\n",
    "\n",
    "- ModuleNotFoundError - Uma subclasse de ImportError que é gerada pela importação\n",
    "quando um módulo não pode ser localizado. IndexError\n",
    "- Gerada quando um subscrito de sequência está fora do intervalo.\n",
    "- KeyError - Gerado quando uma chave de mapeamento (dicionário) não é encontrada no\n",
    "conjunto de chaves existentes\n",
    "- KeyboardInterrupt - Gerado quando o usuário pressiona a tecla de\n",
    "interrupção (normalmente Control-C ou Delete).\n",
    "- NameError - Gerado quando um nome local ou global não é encontrado.\n",
    "- OSError - Gerado quando uma função retorna um erro relacionado ao sistema.\n",
    "- RuntimeError- Gerado quando é detectado um erro que não se enquadra em nenhuma\n",
    "das outras categorias\n",
    "- SyntaxError - Gerado quando o analisador encontra um erro de sintaxe.\n",
    "- TypeError - Gerado quando uma operação ou função é aplicada a um objeto de tipo\n",
    "inapropriado. O valor associado é uma string que fornece detalhes sobre a\n",
    "incompatibilidade de tipo.\n",
    "- ValueError - Gerado quando uma operação ou função interna recebe um argumento que\n",
    "tem o tipo certo, mas um valor inadequado, e a situação não é descrita por uma exceção\n",
    "mais precisa, como IndexError.\n",
    "- ZeroDivisionError - Gerado quando o segundo argumento de uma operação de divisão ou\n",
    "módulo é zero."
   ]
  },
  {
   "attachments": {},
   "cell_type": "markdown",
   "metadata": {},
   "source": [
    "Para obter uma lista completa das exceções integradas, você pode conferir a documentação\n",
    "do Python aqui:\n",
    "https://docs.python.org/3/library/exceptions.html.\n"
   ]
  },
  {
   "attachments": {},
   "cell_type": "markdown",
   "metadata": {},
   "source": [
    "Agora vamos descobrir como você pode realmente lidar com uma exceção quando um\n",
    "ocorre."
   ]
  },
  {
   "attachments": {},
   "cell_type": "markdown",
   "metadata": {},
   "source": [
    "#### Manipulando exceções"
   ]
  },
  {
   "cell_type": "markdown",
   "metadata": {},
   "source": []
  },
  {
   "cell_type": "markdown",
   "metadata": {},
   "source": []
  },
  {
   "cell_type": "markdown",
   "metadata": {},
   "source": []
  },
  {
   "cell_type": "markdown",
   "metadata": {},
   "source": []
  },
  {
   "cell_type": "markdown",
   "metadata": {},
   "source": []
  },
  {
   "cell_type": "markdown",
   "metadata": {},
   "source": []
  },
  {
   "cell_type": "markdown",
   "metadata": {},
   "source": []
  },
  {
   "cell_type": "markdown",
   "metadata": {},
   "source": []
  },
  {
   "cell_type": "code",
   "execution_count": null,
   "metadata": {},
   "outputs": [],
   "source": [
    "%reload_ext watermark\n",
    "%watermark -a \"Caique Miranda\" -gu \"caiquemiranda\" -iv"
   ]
  },
  {
   "attachments": {},
   "cell_type": "markdown",
   "metadata": {},
   "source": [
    "### End."
   ]
  }
 ],
 "metadata": {
  "language_info": {
   "name": "python"
  },
  "orig_nbformat": 4
 },
 "nbformat": 4,
 "nbformat_minor": 2
}
