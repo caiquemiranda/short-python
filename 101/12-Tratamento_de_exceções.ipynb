{
 "cells": [
  {
   "cell_type": "code",
   "execution_count": null,
   "metadata": {},
   "outputs": [],
   "source": [
    "# Versão da Linguagem Python\n",
    "from platform import python_version\n",
    "print('Versão de Python Neste Jupyter Notebook:', python_version())"
   ]
  },
  {
   "attachments": {},
   "cell_type": "markdown",
   "metadata": {},
   "source": [
    "Criar software é um trabalho árduo. Para tornar seu software melhor, seu\n",
    "aplicativo precisa continuar funcionando mesmo quando o inesperado acontece. Por\n",
    "exemplo, digamos que seu aplicativo precise obter informações da Internet."
   ]
  },
  {
   "attachments": {},
   "cell_type": "markdown",
   "metadata": {},
   "source": [
    "Outro problema comum é o que fazer se o usuário inserir uma entrada inválida. Ou tenta\n",
    "abrir um arquivo que seu aplicativo não suporta."
   ]
  },
  {
   "attachments": {},
   "cell_type": "markdown",
   "metadata": {},
   "source": [
    "Todos esses casos podem ser tratados usando os recursos internos de tratamento de\n",
    "exceções do Python,que são comumente referidos como try e except declarações."
   ]
  },
  {
   "attachments": {},
   "cell_type": "markdown",
   "metadata": {},
   "source": [
    "Neste capítulo você aprenderá sobre:\n",
    "- Exceções comuns\n",
    "- Tratamento de exceções\n",
    "- Gerando exceções\n",
    "- Examinando objetos de exceção\n",
    "- Usando a declaração final\n",
    "- Usando a instrução else"
   ]
  },
  {
   "attachments": {},
   "cell_type": "markdown",
   "metadata": {},
   "source": [
    "Vamos começar aprendendo sobre algumas das exceções mais comuns."
   ]
  },
  {
   "attachments": {},
   "cell_type": "markdown",
   "metadata": {},
   "source": [
    "#### As exceções mais comuns"
   ]
  },
  {
   "attachments": {},
   "cell_type": "markdown",
   "metadata": {},
   "source": [
    "Python\n",
    "oferece suporte a várias exceções diferentes. Aqui está uma pequena lista\n",
    "daqueles que você provavelmente verá quando começar a usar o idioma:\n",
    "- Exceção - A exceção básica na qual todas as outras se baseiam AttributeError -\n",
    "- Gerada quando uma referência ou atribuição de atributo falha.\n",
    "- ImportError - Gerado quando uma instrução de importação falha ao localizar a\n",
    "definição do módulo ou quando um from … import falha ao localizar um nome que deve ser\n",
    "importado.\n",
    "\n",
    "- ModuleNotFoundError - Uma subclasse de ImportError que é gerada pela importação\n",
    "quando um módulo não pode ser localizado. IndexError\n",
    "- Gerada quando um subscrito de sequência está fora do intervalo.\n",
    "- KeyError - Gerado quando uma chave de mapeamento (dicionário) não é encontrada no\n",
    "conjunto de chaves existentes\n",
    "- KeyboardInterrupt - Gerado quando o usuário pressiona a tecla de\n",
    "interrupção (normalmente Control-C ou Delete).\n",
    "- NameError - Gerado quando um nome local ou global não é encontrado.\n",
    "- OSError - Gerado quando uma função retorna um erro relacionado ao sistema.\n",
    "- RuntimeError- Gerado quando é detectado um erro que não se enquadra em nenhuma\n",
    "das outras categorias\n",
    "- SyntaxError - Gerado quando o analisador encontra um erro de sintaxe.\n",
    "- TypeError - Gerado quando uma operação ou função é aplicada a um objeto de tipo\n",
    "inapropriado. O valor associado é uma string que fornece detalhes sobre a\n",
    "incompatibilidade de tipo.\n",
    "- ValueError - Gerado quando uma operação ou função interna recebe um argumento que\n",
    "tem o tipo certo, mas um valor inadequado, e a situação não é descrita por uma exceção\n",
    "mais precisa, como IndexError.\n",
    "- ZeroDivisionError - Gerado quando o segundo argumento de uma operação de divisão ou\n",
    "módulo é zero."
   ]
  },
  {
   "attachments": {},
   "cell_type": "markdown",
   "metadata": {},
   "source": [
    "Para obter uma lista completa das exceções integradas, você pode conferir a documentação\n",
    "do Python aqui:\n",
    "https://docs.python.org/3/library/exceptions.html.\n"
   ]
  },
  {
   "attachments": {},
   "cell_type": "markdown",
   "metadata": {},
   "source": [
    "Agora vamos descobrir como você pode realmente lidar com uma exceção quando um\n",
    "ocorre."
   ]
  },
  {
   "attachments": {},
   "cell_type": "markdown",
   "metadata": {},
   "source": [
    "#### Manipulando exceções"
   ]
  },
  {
   "attachments": {},
   "cell_type": "markdown",
   "metadata": {},
   "source": [
    "Python vem com uma sintaxe especial que você pode usar para capturar uma exceção.\n",
    "É conhecida como a instrução try/except ."
   ]
  },
  {
   "attachments": {},
   "cell_type": "markdown",
   "metadata": {},
   "source": [
    "Este é o formulário básico que você usará para capturar uma exceção:"
   ]
  },
  {
   "cell_type": "code",
   "execution_count": null,
   "metadata": {},
   "outputs": [],
   "source": [
    "1 try:\n",
    "2 # Code that may raise an exception goes here\n",
    "3 except ImportError:\n",
    "4 # Code that is executed when an exception occurs"
   ]
  },
  {
   "attachments": {},
   "cell_type": "markdown",
   "metadata": {},
   "source": [
    "Você coloca o código que espera ter um problema dentro do bloco try . Pode ser um código\n",
    "que abre um arquivo ou um código que recebe entrada do usuário. O segundo bloco é\n",
    "conhecido como bloco exceto . No exemplo acima, o bloco except só será executado\n",
    "se um ImportError for levantado."
   ]
  },
  {
   "attachments": {},
   "cell_type": "markdown",
   "metadata": {},
   "source": [
    "Quando você escreve exceto sem especificar o tipo de exceção, isso é conhecido\n",
    "como uma exceção simples. Estes não são recomendados:"
   ]
  },
  {
   "cell_type": "code",
   "execution_count": null,
   "metadata": {},
   "outputs": [],
   "source": [
    "1 try:\n",
    "2 with open('example.txt') as file_handler:\n",
    "3 for line in file_handler:\n",
    "4 print(line)\n",
    "5 except:\n",
    "6 print('An error occurred')"
   ]
  },
  {
   "attachments": {},
   "cell_type": "markdown",
   "metadata": {},
   "source": [
    "A razão pela qual é uma prática ruim criar uma exceção simples é que você não sabe\n",
    "quais tipos de exceções está capturando, nem exatamente onde elas estão\n",
    "ocorrendo. Isso pode tornar mais difícil descobrir o que você fez de errado. Se você restringir\n",
    "os tipos de exceção àqueles com os quais sabe lidar, os inesperados farão com que\n",
    "seu aplicativo trave com uma mensagem útil. Nesse ponto, você pode decidir se deseja\n",
    "capturar essa outra exceção ou não."
   ]
  },
  {
   "attachments": {},
   "cell_type": "markdown",
   "metadata": {},
   "source": [
    "Digamos que você queira capturar várias exceções. Aqui está uma maneira de fazer isso:"
   ]
  },
  {
   "cell_type": "code",
   "execution_count": null,
   "metadata": {},
   "outputs": [],
   "source": [
    "1 try:\n",
    "2 with open('example.txt') as file_handler:\n",
    "3 for line in file_handler:\n",
    "4 print(line)\n",
    "5 import something\n",
    "6 except OSError:\n",
    "7 print('An error occurred')\n",
    "8 except ImportError:\n",
    "9 print('Unknown import!')"
   ]
  },
  {
   "attachments": {},
   "cell_type": "markdown",
   "metadata": {},
   "source": [
    "Esse manipulador de exceção capturará dois tipos de exceção: OSError e ImportError. Se\n",
    "ocorrer outro tipo de exceção, esse manipulador não o detectará e seu código será interrompido."
   ]
  },
  {
   "attachments": {},
   "cell_type": "markdown",
   "metadata": {},
   "source": [
    "Você pode reescrever o código acima para ser um pouco mais simples fazendo isso:"
   ]
  },
  {
   "cell_type": "code",
   "execution_count": null,
   "metadata": {},
   "outputs": [],
   "source": [
    "1 try:\n",
    "2 with open('example.txt') as file_handler:\n",
    "3 for line in file_handler:\n",
    "4 print(line)\n",
    "5 import something\n",
    "6 except (OSError, ImportError):\n",
    "7 print('An error occurred')"
   ]
  },
  {
   "attachments": {},
   "cell_type": "markdown",
   "metadata": {},
   "source": [
    "Obviamente, ao criar uma tupla de exceções, isso ofuscará qual exceção ocorreu. Em\n",
    "outras palavras, esse código torna mais difícil saber qual problema realmente aconteceu."
   ]
  },
  {
   "attachments": {},
   "cell_type": "markdown",
   "metadata": {},
   "source": [
    "#### Gerando exceções"
   ]
  },
  {
   "cell_type": "markdown",
   "metadata": {},
   "source": []
  },
  {
   "cell_type": "markdown",
   "metadata": {},
   "source": []
  },
  {
   "cell_type": "markdown",
   "metadata": {},
   "source": []
  },
  {
   "cell_type": "markdown",
   "metadata": {},
   "source": []
  },
  {
   "cell_type": "markdown",
   "metadata": {},
   "source": []
  },
  {
   "cell_type": "markdown",
   "metadata": {},
   "source": []
  },
  {
   "cell_type": "markdown",
   "metadata": {},
   "source": []
  },
  {
   "cell_type": "markdown",
   "metadata": {},
   "source": []
  },
  {
   "cell_type": "markdown",
   "metadata": {},
   "source": []
  },
  {
   "cell_type": "markdown",
   "metadata": {},
   "source": []
  },
  {
   "cell_type": "code",
   "execution_count": null,
   "metadata": {},
   "outputs": [],
   "source": [
    "%reload_ext watermark\n",
    "%watermark -a \"Caique Miranda\" -gu \"caiquemiranda\" -iv"
   ]
  },
  {
   "attachments": {},
   "cell_type": "markdown",
   "metadata": {},
   "source": [
    "### End."
   ]
  }
 ],
 "metadata": {
  "language_info": {
   "name": "python"
  },
  "orig_nbformat": 4
 },
 "nbformat": 4,
 "nbformat_minor": 2
}
