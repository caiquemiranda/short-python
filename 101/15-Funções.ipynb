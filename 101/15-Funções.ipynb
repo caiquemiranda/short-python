{
 "cells": [
  {
   "cell_type": "code",
   "execution_count": 1,
   "metadata": {},
   "outputs": [
    {
     "name": "stdout",
     "output_type": "stream",
     "text": [
      "Versão de Python Neste Jupyter Notebook: 3.10.5\n"
     ]
    }
   ],
   "source": [
    "# Versão da Linguagem Python\n",
    "from platform import python_version\n",
    "print('Versão de Python Neste Jupyter Notebook:', python_version())"
   ]
  },
  {
   "attachments": {},
   "cell_type": "markdown",
   "metadata": {},
   "source": [
    "Funções são pedaços de código reutilizáveis. Sempre que você estiver escrevendo o mesmo código duas vezes, esse código provavelmente deve entrar em uma função. Você realmente usou algumas funções nos capítulos anteriores."
   ]
  },
  {
   "attachments": {},
   "cell_type": "markdown",
   "metadata": {},
   "source": [
    "Python tem muitas funções integradas, como `dir()` e `sum()`."
   ]
  },
  {
   "attachments": {},
   "cell_type": "markdown",
   "metadata": {},
   "source": [
    "Você também importou o módulo math e usou sua função de raiz quadrada, `sqrt()`."
   ]
  },
  {
   "attachments": {},
   "cell_type": "markdown",
   "metadata": {},
   "source": [
    "- Criando uma função\n",
    "- Chamando uma função\n",
    "- Passando argumentos\n",
    "- Digite insinuando seus argumentos\n",
    "- Passando argumentos de palavra-chave\n",
    "- Argumentos obrigatórios e padrão\n",
    "- `*args` e **kwargs\n",
    "- Argumentos somente posicionais\n",
    "- Escopo"
   ]
  },
  {
   "attachments": {},
   "cell_type": "markdown",
   "metadata": {},
   "source": [
    "#### Criando uma função"
   ]
  },
  {
   "attachments": {},
   "cell_type": "markdown",
   "metadata": {},
   "source": [
    "Uma função começa com a palavra-chave, `def` seguida pelo nome da função, dois parênteses e dois pontos. Em seguida, indente uma ou mais linhas de código sob a função para formar o “bloco” da função."
   ]
  },
  {
   "attachments": {},
   "cell_type": "markdown",
   "metadata": {},
   "source": [
    "uma função vazia:"
   ]
  },
  {
   "cell_type": "code",
   "execution_count": 2,
   "metadata": {},
   "outputs": [],
   "source": [
    "def minha_funcao():\n",
    "    pass"
   ]
  },
  {
   "attachments": {},
   "cell_type": "markdown",
   "metadata": {},
   "source": [
    "Quando você cria uma função, geralmente é recomendado que o nome da função esteja todo em letras minúsculas com palavras separadas por sublinhados. Isso é chamado de `snake-case`."
   ]
  },
  {
   "attachments": {},
   "cell_type": "markdown",
   "metadata": {},
   "source": [
    "O `pass` é uma palavra-chave em Python que Python sabe ignorar. Você também pode definir uma função vazia como esta:"
   ]
  },
  {
   "cell_type": "code",
   "execution_count": 3,
   "metadata": {},
   "outputs": [],
   "source": [
    "def minha_funcao():\n",
    "    ..."
   ]
  },
  {
   "attachments": {},
   "cell_type": "markdown",
   "metadata": {},
   "source": [
    "Neste exemplo, a função não tem conteúdo além de reticências."
   ]
  },
  {
   "attachments": {},
   "cell_type": "markdown",
   "metadata": {},
   "source": [
    "#### Chamando uma função"
   ]
  },
  {
   "attachments": {},
   "cell_type": "markdown",
   "metadata": {},
   "source": [
    "Agora que você tem uma função, você precisa fazer com que ela faça alguma coisa."
   ]
  },
  {
   "attachments": {},
   "cell_type": "markdown",
   "metadata": {},
   "source": [
    "em vez de reticências ou da palavra-chave `pass`, você tem uma função que imprime uma mensagem."
   ]
  },
  {
   "attachments": {},
   "cell_type": "markdown",
   "metadata": {},
   "source": [
    "Para chamar uma função, você precisa escrever seu nome seguido de parênteses:"
   ]
  },
  {
   "cell_type": "code",
   "execution_count": 4,
   "metadata": {},
   "outputs": [],
   "source": [
    "def minha_funcao():\n",
    "    print('Olá minha função.')"
   ]
  },
  {
   "cell_type": "code",
   "execution_count": 5,
   "metadata": {},
   "outputs": [
    {
     "name": "stdout",
     "output_type": "stream",
     "text": [
      "Olá minha função.\n"
     ]
    }
   ],
   "source": [
    "minha_funcao()"
   ]
  },
  {
   "attachments": {},
   "cell_type": "markdown",
   "metadata": {},
   "source": [
    "Agora vamos aprender sobre como passar argumentos para suas funções."
   ]
  },
  {
   "attachments": {},
   "cell_type": "markdown",
   "metadata": {},
   "source": [
    "#### Passando Argumentos"
   ]
  },
  {
   "attachments": {},
   "cell_type": "markdown",
   "metadata": {},
   "source": [
    "A maioria das funções permite que você passe argumentos para elas. A razão para isso é que você normalmente deseja passar um ou mais argumentos posicionais para uma função para que a função possa fazer algo com eles."
   ]
  },
  {
   "attachments": {},
   "cell_type": "markdown",
   "metadata": {},
   "source": [
    "Vamos criar uma função que receba um argumento chamado name e imprima uma mensagem de boas-vindas:"
   ]
  },
  {
   "cell_type": "code",
   "execution_count": 9,
   "metadata": {},
   "outputs": [],
   "source": [
    "def bem_vindo(nome):\n",
    "    print(f'Bem vindo {nome}!')"
   ]
  },
  {
   "cell_type": "code",
   "execution_count": 10,
   "metadata": {},
   "outputs": [
    {
     "name": "stdout",
     "output_type": "stream",
     "text": [
      "Bem vindo Caique!\n"
     ]
    }
   ],
   "source": [
    "bem_vindo('Caique')"
   ]
  },
  {
   "attachments": {},
   "cell_type": "markdown",
   "metadata": {},
   "source": [
    "Se você já usou outras linguagens de programação, deve saber que algumas delas requerem funções para retornar algo. Python retorna None automaticamente se você não especificar um valor de retorno."
   ]
  },
  {
   "attachments": {},
   "cell_type": "markdown",
   "metadata": {},
   "source": [
    "Vamos tentar chamar a função e atribuir seu resultado a uma variável chamada\n",
    "return_value:"
   ]
  },
  {
   "cell_type": "code",
   "execution_count": null,
   "metadata": {},
   "outputs": [],
   "source": []
  },
  {
   "attachments": {},
   "cell_type": "markdown",
   "metadata": {},
   "source": [
    "Ao imprimir o return_value, você pode ver que é None."
   ]
  },
  {
   "attachments": {},
   "cell_type": "markdown",
   "metadata": {},
   "source": [
    "#### Tipo sugerindo seus argumentos"
   ]
  },
  {
   "attachments": {},
   "cell_type": "markdown",
   "metadata": {},
   "source": [
    "Algumas\n",
    "linguagens de programação usam tipos estáticos para que, quando você compilar\n",
    "seu código, o compilador o avise sobre erros relacionados a tipos. Python é uma\n",
    "linguagem de tipagem dinâmica, então isso não acontece até o tempo de execução"
   ]
  },
  {
   "attachments": {},
   "cell_type": "markdown",
   "metadata": {},
   "source": [
    "No entanto, no Python 3.5, o módulo de digitação foi adicionado ao Python para permitir que\n",
    "os desenvolvedores adicionem dicas de tipo ao código. Isso permite que você especifique os\n",
    "tipos de argumentos e valores de retorno em seu código, mas não o impõe."
   ]
  },
  {
   "attachments": {},
   "cell_type": "markdown",
   "metadata": {},
   "source": [
    "A dica de tipo não é necessária no Python e não é imposta pela linguagem, mas é\n",
    "útil ao trabalhar com equipes de desenvolvedores, especialmente quando as\n",
    "equipes são formadas por pessoas que não estão familiarizadas com o Python."
   ]
  },
  {
   "attachments": {},
   "cell_type": "markdown",
   "metadata": {},
   "source": [
    "Vamos reescrever o último exemplo para que ele use dicas de tipo:"
   ]
  },
  {
   "cell_type": "code",
   "execution_count": null,
   "metadata": {},
   "outputs": [],
   "source": []
  },
  {
   "attachments": {},
   "cell_type": "markdown",
   "metadata": {},
   "source": [
    "Desta vez, ao inserir o argumento name , você o finaliza com dois pontos (:) seguido do\n",
    "tipo esperado. Nesse caso, você espera que um tipo de string seja passado. Depois disso,\n",
    "você notará o bit de código -> None :. O -> é uma sintaxe especial para indicar qual deve ser\n",
    "o valor de retorno. Para este código, o valor de retorno é Nenhum."
   ]
  },
  {
   "attachments": {},
   "cell_type": "markdown",
   "metadata": {},
   "source": [
    "Se você deseja retornar um valor explicitamente, pode usar a palavra-chave return\n",
    "seguida do que deseja retornar."
   ]
  },
  {
   "attachments": {},
   "cell_type": "markdown",
   "metadata": {},
   "source": [
    "Quando você executa o código, ele é executado exatamente da mesma maneira que antes."
   ]
  },
  {
   "attachments": {},
   "cell_type": "markdown",
   "metadata": {},
   "source": [
    "Para demonstrar que a dica de tipo não é aplicada, você pode dizer ao Python para\n",
    "retornar um inteiro usando a palavra-chave return :"
   ]
  },
  {
   "cell_type": "code",
   "execution_count": null,
   "metadata": {},
   "outputs": [],
   "source": []
  },
  {
   "attachments": {},
   "cell_type": "markdown",
   "metadata": {},
   "source": [
    "Ao executar esse código, você pode ver que a dica de tipo diz que o valor de retorno deve ser None,\n",
    "mas você o codificou de forma que ele retorne o número inteiro 5. O Python não lança uma\n",
    "exceção."
   ]
  },
  {
   "attachments": {},
   "cell_type": "markdown",
   "metadata": {},
   "source": [
    "Você pode usar a ferramenta mypy nesse código para verificar se ele está seguindo a dica de tipo. Se\n",
    "você fizer isso, descobrirá que ele mostra um problema. Você aprenderá como usar o mypy na Parte\n",
    "II deste livro."
   ]
  },
  {
   "attachments": {},
   "cell_type": "markdown",
   "metadata": {},
   "source": [
    "A principal conclusão aqui é que o Python oferece suporte a dicas de tipo. Python não impõe tipos\n",
    "embora. No entanto, alguns editores Python podem usar dicas de tipo internamente para avisálo\n",
    "sobre problemas relacionados a tipos, ou você pode usar mypy manualmente para encontrar\n",
    "problemas."
   ]
  },
  {
   "attachments": {},
   "cell_type": "markdown",
   "metadata": {},
   "source": [
    "Agora vamos aprender o que mais você pode passar para uma função."
   ]
  },
  {
   "attachments": {},
   "cell_type": "markdown",
   "metadata": {},
   "source": [
    "#### Passando argumentos de palavra-chave"
   ]
  },
  {
   "attachments": {},
   "cell_type": "markdown",
   "metadata": {},
   "source": [
    "O\n",
    "Python também permite que você passe argumentos de palavra-chave. Um argumento de\n",
    "palavra-chave é especificado passando um argumento nomeado, por exemplo, você pode\n",
    "passar idade=10."
   ]
  },
  {
   "attachments": {},
   "cell_type": "markdown",
   "metadata": {},
   "source": [
    "Vamos criar um novo exemplo que mostra um argumento regular e um único argumento\n",
    "de palavra-chave:"
   ]
  },
  {
   "cell_type": "code",
   "execution_count": null,
   "metadata": {},
   "outputs": [],
   "source": []
  },
  {
   "attachments": {},
   "cell_type": "markdown",
   "metadata": {},
   "source": [
    "Este exemplo tem um argumento regular, nome e um argumento de palavra-chave, idade,\n",
    "cujo padrão é 15. Quando você chama esse código sem especificar a idade, vê que o\n",
    "padrão é 15."
   ]
  },
  {
   "attachments": {},
   "cell_type": "markdown",
   "metadata": {},
   "source": [
    "Para tornar as coisas mais claras, aqui está uma maneira diferente de chamá-lo:"
   ]
  },
  {
   "attachments": {},
   "cell_type": "markdown",
   "metadata": {},
   "source": [
    "Neste exemplo, você especificou os parâmetros de idade e nome . Ao fazer isso, você pode\n",
    "especificá-los em qualquer ordem. Por exemplo, aqui você os especificou na ordem\n",
    "inversa e o Python ainda entendeu o que você quis dizer porque você especificou AMBOS\n",
    "os valores."
   ]
  },
  {
   "attachments": {},
   "cell_type": "markdown",
   "metadata": {},
   "source": [
    "Vamos ver o que acontece quando você não usa argumentos de palavra-chave:"
   ]
  },
  {
   "cell_type": "code",
   "execution_count": null,
   "metadata": {},
   "outputs": [],
   "source": []
  },
  {
   "attachments": {},
   "cell_type": "markdown",
   "metadata": {},
   "source": [
    "Quando você passar valores sem especificar onde eles devem ir, eles serão passados em\n",
    "ordem. Então o nome passa a ser 12 e a idade passa a ser 'Mike'."
   ]
  },
  {
   "attachments": {},
   "cell_type": "markdown",
   "metadata": {},
   "source": [
    "#### Argumentos obrigatórios e padrão"
   ]
  },
  {
   "cell_type": "markdown",
   "metadata": {},
   "source": []
  },
  {
   "cell_type": "markdown",
   "metadata": {},
   "source": []
  },
  {
   "cell_type": "markdown",
   "metadata": {},
   "source": []
  },
  {
   "cell_type": "markdown",
   "metadata": {},
   "source": []
  },
  {
   "cell_type": "markdown",
   "metadata": {},
   "source": []
  },
  {
   "cell_type": "code",
   "execution_count": 6,
   "metadata": {},
   "outputs": [
    {
     "name": "stdout",
     "output_type": "stream",
     "text": [
      "Author: Caique Miranda\n",
      "\n",
      "Github username: caiquemiranda\n",
      "\n"
     ]
    }
   ],
   "source": [
    "%reload_ext watermark\n",
    "%watermark -a \"Caique Miranda\" -gu \"caiquemiranda\" -iv"
   ]
  },
  {
   "attachments": {},
   "cell_type": "markdown",
   "metadata": {},
   "source": [
    "### End."
   ]
  }
 ],
 "metadata": {
  "kernelspec": {
   "display_name": "Python 3",
   "language": "python",
   "name": "python3"
  },
  "language_info": {
   "codemirror_mode": {
    "name": "ipython",
    "version": 3
   },
   "file_extension": ".py",
   "mimetype": "text/x-python",
   "name": "python",
   "nbconvert_exporter": "python",
   "pygments_lexer": "ipython3",
   "version": "3.10.5"
  },
  "orig_nbformat": 4
 },
 "nbformat": 4,
 "nbformat_minor": 2
}
