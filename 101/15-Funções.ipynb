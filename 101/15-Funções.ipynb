{
 "cells": [
  {
   "cell_type": "code",
   "execution_count": 1,
   "metadata": {},
   "outputs": [
    {
     "name": "stdout",
     "output_type": "stream",
     "text": [
      "Versão de Python Neste Jupyter Notebook: 3.10.5\n"
     ]
    }
   ],
   "source": [
    "# Versão da Linguagem Python\n",
    "from platform import python_version\n",
    "print('Versão de Python Neste Jupyter Notebook:', python_version())"
   ]
  },
  {
   "attachments": {},
   "cell_type": "markdown",
   "metadata": {},
   "source": [
    "Funções são pedaços de código reutilizáveis. Sempre que você estiver escrevendo o mesmo código duas vezes, esse código provavelmente deve entrar em uma função. Você realmente usou algumas funções nos capítulos anteriores."
   ]
  },
  {
   "attachments": {},
   "cell_type": "markdown",
   "metadata": {},
   "source": [
    "Python tem muitas funções integradas, como `dir()` e `sum()`."
   ]
  },
  {
   "attachments": {},
   "cell_type": "markdown",
   "metadata": {},
   "source": [
    "Você também importou o módulo math e usou sua função de raiz quadrada, `sqrt()`."
   ]
  },
  {
   "attachments": {},
   "cell_type": "markdown",
   "metadata": {},
   "source": [
    "- Criando uma função\n",
    "- Chamando uma função\n",
    "- Passando argumentos\n",
    "- Digite insinuando seus argumentos\n",
    "- Passando argumentos de palavra-chave\n",
    "- Argumentos obrigatórios e padrão\n",
    "- `*args` e **kwargs\n",
    "- Argumentos somente posicionais\n",
    "- Escopo"
   ]
  },
  {
   "attachments": {},
   "cell_type": "markdown",
   "metadata": {},
   "source": [
    "#### Criando uma função"
   ]
  },
  {
   "attachments": {},
   "cell_type": "markdown",
   "metadata": {},
   "source": [
    "Uma função começa com a palavra-chave, `def` seguida pelo nome da função, dois parênteses e dois pontos. Em seguida, indente uma ou mais linhas de código sob a função para formar o “bloco” da função."
   ]
  },
  {
   "attachments": {},
   "cell_type": "markdown",
   "metadata": {},
   "source": [
    "uma função vazia:"
   ]
  },
  {
   "cell_type": "code",
   "execution_count": 2,
   "metadata": {},
   "outputs": [],
   "source": [
    "def minha_funcao():\n",
    "    pass"
   ]
  },
  {
   "attachments": {},
   "cell_type": "markdown",
   "metadata": {},
   "source": [
    "Quando você cria uma função, geralmente é recomendado que o nome da função esteja todo em letras minúsculas com palavras separadas por sublinhados. Isso é chamado de `snake-case`."
   ]
  },
  {
   "attachments": {},
   "cell_type": "markdown",
   "metadata": {},
   "source": [
    "O `pass` é uma palavra-chave em Python que Python sabe ignorar. Você também pode definir uma função vazia como esta:"
   ]
  },
  {
   "cell_type": "code",
   "execution_count": 3,
   "metadata": {},
   "outputs": [],
   "source": [
    "def minha_funcao():\n",
    "    ..."
   ]
  },
  {
   "attachments": {},
   "cell_type": "markdown",
   "metadata": {},
   "source": [
    "Neste exemplo, a função não tem conteúdo além de reticências."
   ]
  },
  {
   "attachments": {},
   "cell_type": "markdown",
   "metadata": {},
   "source": [
    "#### Chamando uma função"
   ]
  },
  {
   "attachments": {},
   "cell_type": "markdown",
   "metadata": {},
   "source": [
    "Agora que você tem uma função, você precisa fazer com que ela faça alguma coisa."
   ]
  },
  {
   "attachments": {},
   "cell_type": "markdown",
   "metadata": {},
   "source": [
    "em vez de reticências ou da palavra-chave `pass`, você tem uma função que imprime uma mensagem."
   ]
  },
  {
   "attachments": {},
   "cell_type": "markdown",
   "metadata": {},
   "source": [
    "Para chamar uma função, você precisa escrever seu nome seguido de parênteses:"
   ]
  },
  {
   "cell_type": "code",
   "execution_count": 4,
   "metadata": {},
   "outputs": [],
   "source": [
    "def minha_funcao():\n",
    "    print('Olá minha função.')"
   ]
  },
  {
   "cell_type": "code",
   "execution_count": 5,
   "metadata": {},
   "outputs": [
    {
     "name": "stdout",
     "output_type": "stream",
     "text": [
      "Olá minha função.\n"
     ]
    }
   ],
   "source": [
    "minha_funcao()"
   ]
  },
  {
   "attachments": {},
   "cell_type": "markdown",
   "metadata": {},
   "source": [
    "Agora vamos aprender sobre como passar argumentos para suas funções."
   ]
  },
  {
   "attachments": {},
   "cell_type": "markdown",
   "metadata": {},
   "source": [
    "#### Passando Argumentos"
   ]
  },
  {
   "attachments": {},
   "cell_type": "markdown",
   "metadata": {},
   "source": [
    "A maioria das funções permite que você passe argumentos para elas. A razão para isso é que você normalmente deseja passar um ou mais argumentos posicionais para uma função para que a função possa fazer algo com eles."
   ]
  },
  {
   "attachments": {},
   "cell_type": "markdown",
   "metadata": {},
   "source": [
    "Vamos criar uma função que receba um argumento chamado name e imprima uma mensagem de boas-vindas:"
   ]
  },
  {
   "cell_type": "code",
   "execution_count": 6,
   "metadata": {},
   "outputs": [],
   "source": [
    "def bem_vindo(nome):\n",
    "    print(f'Bem vindo {nome}!')"
   ]
  },
  {
   "cell_type": "code",
   "execution_count": 7,
   "metadata": {},
   "outputs": [
    {
     "name": "stdout",
     "output_type": "stream",
     "text": [
      "Bem vindo Caique!\n"
     ]
    }
   ],
   "source": [
    "bem_vindo('Caique')"
   ]
  },
  {
   "attachments": {},
   "cell_type": "markdown",
   "metadata": {},
   "source": [
    "Se você já usou outras linguagens de programação, deve saber que algumas delas requerem funções para retornar algo. Python retorna None automaticamente se você não especificar um valor de retorno."
   ]
  },
  {
   "attachments": {},
   "cell_type": "markdown",
   "metadata": {},
   "source": [
    "Vamos tentar chamar a função e atribuir seu resultado a uma variável chamada return_value:"
   ]
  },
  {
   "cell_type": "code",
   "execution_count": null,
   "metadata": {},
   "outputs": [],
   "source": []
  },
  {
   "attachments": {},
   "cell_type": "markdown",
   "metadata": {},
   "source": [
    "Ao imprimir o return_value, você pode ver que é None."
   ]
  },
  {
   "attachments": {},
   "cell_type": "markdown",
   "metadata": {},
   "source": [
    "#### Tipo sugerindo seus argumentos"
   ]
  },
  {
   "attachments": {},
   "cell_type": "markdown",
   "metadata": {},
   "source": [
    "Algumas linguagens de programação usam tipos estáticos para que, quando você compilar seu código, o compilador o avise sobre erros relacionados a tipos. Python é uma linguagem de tipagem dinâmica, então isso não acontece até o tempo de execução"
   ]
  },
  {
   "attachments": {},
   "cell_type": "markdown",
   "metadata": {},
   "source": [
    "No entanto, no Python 3.5, o módulo de digitação foi adicionado ao Python para permitir que os desenvolvedores adicionem dicas de tipo ao código. Isso permite que você especifique os tipos de argumentos e valores de retorno em seu código, mas não o impõe."
   ]
  },
  {
   "attachments": {},
   "cell_type": "markdown",
   "metadata": {},
   "source": [
    "A dica de tipo não é necessária no Python e não é imposta pela linguagem, mas é útil ao trabalhar com equipes de desenvolvedores, especialmente quando as equipes são formadas por pessoas que não estão familiarizadas com o Python."
   ]
  },
  {
   "attachments": {},
   "cell_type": "markdown",
   "metadata": {},
   "source": [
    "Vamos reescrever o último exemplo para que ele use dicas de tipo:"
   ]
  },
  {
   "cell_type": "code",
   "execution_count": null,
   "metadata": {},
   "outputs": [],
   "source": []
  },
  {
   "attachments": {},
   "cell_type": "markdown",
   "metadata": {},
   "source": [
    "Desta vez, ao inserir o argumento name , você o finaliza com dois pontos (:) seguido do tipo esperado. Nesse caso, você espera que um tipo de string seja passado. Depois disso, você notará o bit de código -> None :. O -> é uma sintaxe especial para indicar qual deve ser o valor de retorno. Para este código, o valor de retorno é Nenhum."
   ]
  },
  {
   "attachments": {},
   "cell_type": "markdown",
   "metadata": {},
   "source": [
    "Se você deseja retornar um valor explicitamente, pode usar a palavra-chave return seguida do que deseja retornar."
   ]
  },
  {
   "attachments": {},
   "cell_type": "markdown",
   "metadata": {},
   "source": [
    "Quando você executa o código, ele é executado exatamente da mesma maneira que antes."
   ]
  },
  {
   "attachments": {},
   "cell_type": "markdown",
   "metadata": {},
   "source": [
    "Para demonstrar que a dica de tipo não é aplicada, você pode dizer ao Python para retornar um inteiro usando a palavra-chave return :"
   ]
  },
  {
   "cell_type": "code",
   "execution_count": null,
   "metadata": {},
   "outputs": [],
   "source": []
  },
  {
   "attachments": {},
   "cell_type": "markdown",
   "metadata": {},
   "source": [
    "Ao executar esse código, você pode ver que a dica de tipo diz que o valor de retorno deve ser None, mas você o codificou de forma que ele retorne o número inteiro 5. O Python não lança uma exceção."
   ]
  },
  {
   "attachments": {},
   "cell_type": "markdown",
   "metadata": {},
   "source": [
    "Você pode usar a ferramenta mypy nesse código para verificar se ele está seguindo a dica de tipo. Se você fizer isso, descobrirá que ele mostra um problema. Você aprenderá como usar o mypy na Parte II deste livro."
   ]
  },
  {
   "attachments": {},
   "cell_type": "markdown",
   "metadata": {},
   "source": [
    "A principal conclusão aqui é que o Python oferece suporte a dicas de tipo. Python não impõe tipos embora. No entanto, alguns editores Python podem usar dicas de tipo internamente para avisálo sobre problemas relacionados a tipos, ou você pode usar mypy manualmente para encontrar problemas."
   ]
  },
  {
   "attachments": {},
   "cell_type": "markdown",
   "metadata": {},
   "source": [
    "Agora vamos aprender o que mais você pode passar para uma função."
   ]
  },
  {
   "attachments": {},
   "cell_type": "markdown",
   "metadata": {},
   "source": [
    "#### Passando argumentos de palavra-chave"
   ]
  },
  {
   "attachments": {},
   "cell_type": "markdown",
   "metadata": {},
   "source": [
    "O Python também permite que você passe argumentos de palavra-chave. Um argumento de palavra-chave é especificado passando um argumento nomeado, por exemplo, você pode passar idade=10."
   ]
  },
  {
   "attachments": {},
   "cell_type": "markdown",
   "metadata": {},
   "source": [
    "Vamos criar um novo exemplo que mostra um argumento regular e um único argumento de palavra-chave:"
   ]
  },
  {
   "cell_type": "code",
   "execution_count": null,
   "metadata": {},
   "outputs": [],
   "source": []
  },
  {
   "attachments": {},
   "cell_type": "markdown",
   "metadata": {},
   "source": [
    "Este exemplo tem um argumento regular, nome e um argumento de palavra-chave, idade, cujo padrão é 15. Quando você chama esse código sem especificar a idade, vê que o padrão é 15."
   ]
  },
  {
   "attachments": {},
   "cell_type": "markdown",
   "metadata": {},
   "source": [
    "Para tornar as coisas mais claras, aqui está uma maneira diferente de chamá-lo:"
   ]
  },
  {
   "attachments": {},
   "cell_type": "markdown",
   "metadata": {},
   "source": [
    "Neste exemplo, você especificou os parâmetros de idade e nome . Ao fazer isso, você pode especificá-los em qualquer ordem. Por exemplo, aqui você os especificou na ordem inversa e o Python ainda entendeu o que você quis dizer porque você especificou AMBOS os valores."
   ]
  },
  {
   "attachments": {},
   "cell_type": "markdown",
   "metadata": {},
   "source": [
    "Vamos ver o que acontece quando você não usa argumentos de palavra-chave:"
   ]
  },
  {
   "cell_type": "code",
   "execution_count": null,
   "metadata": {},
   "outputs": [],
   "source": []
  },
  {
   "attachments": {},
   "cell_type": "markdown",
   "metadata": {},
   "source": [
    "Quando você passar valores sem especificar onde eles devem ir, eles serão passados em ordem. Então o nome passa a ser 12 e a idade passa a ser 'Mike'."
   ]
  },
  {
   "attachments": {},
   "cell_type": "markdown",
   "metadata": {},
   "source": [
    "#### Argumentos obrigatórios e padrão"
   ]
  },
  {
   "attachments": {},
   "cell_type": "markdown",
   "metadata": {},
   "source": [
    "Os argumentos padrão são uma maneira prática de tornar sua função chamável com menos argumentos, enquanto os argumentos obrigatórios são aqueles que você deve passar para a função para que ela seja executada"
   ]
  },
  {
   "attachments": {},
   "cell_type": "markdown",
   "metadata": {},
   "source": [
    "Vejamos um exemplo que tem um argumento obrigatório e um argumento padrão:"
   ]
  },
  {
   "cell_type": "code",
   "execution_count": null,
   "metadata": {},
   "outputs": [],
   "source": []
  },
  {
   "attachments": {},
   "cell_type": "markdown",
   "metadata": {},
   "source": [
    "O primeiro argumento, x é obrigatório. Se você chamar multiple() sem nenhum argumento, receberá um erro:"
   ]
  },
  {
   "cell_type": "code",
   "execution_count": null,
   "metadata": {},
   "outputs": [],
   "source": []
  },
  {
   "attachments": {},
   "cell_type": "markdown",
   "metadata": {},
   "source": [
    "O segundo argumento y, não é necessário. Em outras palavras, é um argumento padrão onde o padrão é 5. Isso permitiu que você chamasse multiple() com apenas um argumento!"
   ]
  },
  {
   "attachments": {},
   "cell_type": "markdown",
   "metadata": {},
   "source": [
    "#### O que são *args e **kwargs?"
   ]
  },
  {
   "attachments": {},
   "cell_type": "markdown",
   "metadata": {},
   "source": [
    "Na maioria das vezes, você deseja que suas funções aceitem apenas um pequeno número de argumentos, argumentos de palavra-chave ou ambos. Normalmente, você não quer muitos argumentos, pois fica mais complicado alterar sua função posteriormente."
   ]
  },
  {
   "attachments": {},
   "cell_type": "markdown",
   "metadata": {},
   "source": [
    "No entanto, o Python suporta o conceito de qualquer número de argumentos ou argumentos de palavra-chave."
   ]
  },
  {
   "attachments": {},
   "cell_type": "markdown",
   "metadata": {},
   "source": [
    "Você pode usar esta sintaxe especial em suas funções:\n",
    "\n",
    "- *args - Um número arbitrário de argumentos\n",
    "- **kwargs - Um número arbitrário de argumentos de palavra-chave"
   ]
  },
  {
   "attachments": {},
   "cell_type": "markdown",
   "metadata": {},
   "source": [
    "parte que você precisa prestar atenção é o * e o **. O nome, arg ou kwarg pode ser qualquer coisa, mas é uma convenção nomeá-los args e kwargs. Em outras palavras, a maioria dos desenvolvedores Python os chama de *args ou **kwargs. Embora você não seja forçado a fazer isso, provavelmente deveria, para que o código seja fácil de reconhecer e entender."
   ]
  },
  {
   "attachments": {},
   "cell_type": "markdown",
   "metadata": {},
   "source": [
    "Vejamos um exemplo:"
   ]
  },
  {
   "cell_type": "code",
   "execution_count": null,
   "metadata": {},
   "outputs": [],
   "source": []
  },
  {
   "attachments": {},
   "cell_type": "markdown",
   "metadata": {},
   "source": [
    "Aqui você criou any_args() que aceita qualquer número de argumentos incluindo zero e os imprime."
   ]
  },
  {
   "attachments": {},
   "cell_type": "markdown",
   "metadata": {},
   "source": [
    "Na verdade, você pode criar uma função que tenha um argumento obrigatório mais qualquer número de argumentos adicionais:"
   ]
  },
  {
   "attachments": {},
   "cell_type": "markdown",
   "metadata": {},
   "source": [
    "Portanto, neste exemplo, o primeiro argumento de sua função é obrigatório. Se você chamasse one_required_arg() sem nenhum argumento, receberia um erro."
   ]
  },
  {
   "attachments": {},
   "cell_type": "markdown",
   "metadata": {},
   "source": [
    "Agora vamos tentar adicionar argumentos de palavra-chave:"
   ]
  },
  {
   "cell_type": "code",
   "execution_count": null,
   "metadata": {},
   "outputs": [],
   "source": []
  },
  {
   "attachments": {},
   "cell_type": "markdown",
   "metadata": {},
   "source": [
    "Ops! Você criou a função para aceitar argumentos de palavra-chave, mas passou apenas em argumentos normais. Isso fez com que um TypeError fosse lançado."
   ]
  },
  {
   "attachments": {},
   "cell_type": "markdown",
   "metadata": {},
   "source": [
    "Vamos tentar passar os mesmos valores como argumentos de palavra-chave:"
   ]
  },
  {
   "cell_type": "code",
   "execution_count": null,
   "metadata": {},
   "outputs": [],
   "source": []
  },
  {
   "attachments": {},
   "cell_type": "markdown",
   "metadata": {},
   "source": [
    "Desta vez, funcionou da maneira que você esperaria."
   ]
  },
  {
   "attachments": {},
   "cell_type": "markdown",
   "metadata": {},
   "source": [
    "Agora vamos inspecionar nossos *args e **kwargs e ver o que são:"
   ]
  },
  {
   "cell_type": "code",
   "execution_count": null,
   "metadata": {},
   "outputs": [],
   "source": []
  },
  {
   "attachments": {},
   "cell_type": "markdown",
   "metadata": {},
   "source": [
    "O que isso significa é que args é uma tupla e kwargs é um dict."
   ]
  },
  {
   "attachments": {},
   "cell_type": "markdown",
   "metadata": {},
   "source": [
    "Vamos ver se podemos passar para nossa função uma tupla e dict para *args e **kwargs"
   ]
  },
  {
   "cell_type": "code",
   "execution_count": null,
   "metadata": {},
   "outputs": [],
   "source": []
  },
  {
   "attachments": {},
   "cell_type": "markdown",
   "metadata": {},
   "source": [
    "Bem, isso não funcionou muito bem. Tanto a tupla quanto o dict terminaram no *args. Não apenas isso, mas a tupla permaneceu uma tupla em vez de ser transformada em três argumentos."
   ]
  },
  {
   "attachments": {},
   "cell_type": "markdown",
   "metadata": {},
   "source": [
    "Você pode fazer isso funcionar se usar uma sintaxe especial:"
   ]
  },
  {
   "cell_type": "code",
   "execution_count": null,
   "metadata": {},
   "outputs": [],
   "source": []
  },
  {
   "attachments": {},
   "cell_type": "markdown",
   "metadata": {},
   "source": [
    "Neste exemplo, você chama output() com *my_tuple. O Python extrairá os valores individuais na tupla e passará cada um deles como argumentos. Em seguida, você passou em **my_dict, que diz ao Python para passar cada par de chave/valor como argumentos de palavra-chave."
   ]
  },
  {
   "attachments": {},
   "cell_type": "markdown",
   "metadata": {},
   "source": [
    "O exemplo final passa na tupla e no dict."
   ]
  },
  {
   "attachments": {},
   "cell_type": "markdown",
   "metadata": {},
   "source": [
    "Muito arrumado!"
   ]
  },
  {
   "attachments": {},
   "cell_type": "markdown",
   "metadata": {},
   "source": [
    "#### Parâmetros somente posicionais"
   ]
  },
  {
   "attachments": {},
   "cell_type": "markdown",
   "metadata": {},
   "source": [
    "O Python 3.8 adicionou um novo recurso às funções conhecidas como parâmetros somente posicionais. Eles usam uma sintaxe especial para dizer ao Python que alguns parâmetros devem ser posicionais e alguns devem ser palavras-chave."
   ]
  },
  {
   "attachments": {},
   "cell_type": "markdown",
   "metadata": {},
   "source": [
    "Vejamos um exemplo:"
   ]
  },
  {
   "cell_type": "code",
   "execution_count": null,
   "metadata": {},
   "outputs": [],
   "source": []
  },
  {
   "attachments": {},
   "cell_type": "markdown",
   "metadata": {},
   "source": [
    "Os dois primeiros parâmetros, nome e idade, são apenas posicionais. Eles não podem ser passados como argumentos de palavra-chave, e é por isso que você vê o TypeError acima. Os argumentos a e b podem ser posicionais ou palavras-chave. Por fim, chave, é apenas palavra-chave."
   ]
  },
  {
   "attachments": {},
   "cell_type": "markdown",
   "metadata": {},
   "source": [
    "A barra, /, indica ao Python que todos os argumentos antes da barra são argumentos somente posicionais. Qualquer coisa após a barra são argumentos posicionais ou palavras-chave até th *. O asterisco indica que tudo o que o segue é um argumento somente de palavra-chave."
   ]
  },
  {
   "attachments": {},
   "cell_type": "markdown",
   "metadata": {},
   "source": [
    "Aqui está uma maneira válida de chamar a função:"
   ]
  },
  {
   "cell_type": "code",
   "execution_count": null,
   "metadata": {},
   "outputs": [],
   "source": []
  },
  {
   "attachments": {},
   "cell_type": "markdown",
   "metadata": {},
   "source": [
    "No entanto, se você tentar passar apenas argumentos posicionais, obterá um erro"
   ]
  },
  {
   "cell_type": "code",
   "execution_count": null,
   "metadata": {},
   "outputs": [],
   "source": []
  },
  {
   "attachments": {},
   "cell_type": "markdown",
   "metadata": {},
   "source": [
    "A função positional() espera que o último argumento seja um argumento de palavra-chave."
   ]
  },
  {
   "attachments": {},
   "cell_type": "markdown",
   "metadata": {},
   "source": [
    "A ideia principal é que os parâmetros somente posicionais permitem que o nome do parâmetro seja alterado sem quebrar o código do cliente."
   ]
  },
  {
   "attachments": {},
   "cell_type": "markdown",
   "metadata": {},
   "source": [
    "Você também pode usar o mesmo nome para argumentos somente posicionais e  **kwargs"
   ]
  },
  {
   "cell_type": "code",
   "execution_count": null,
   "metadata": {},
   "outputs": [],
   "source": []
  },
  {
   "attachments": {},
   "cell_type": "markdown",
   "metadata": {},
   "source": [
    "#### Escopo"
   ]
  },
  {
   "attachments": {},
   "cell_type": "markdown",
   "metadata": {},
   "source": [
    "Todas as linguagens de programação têm a ideia de escopo. O escopo informa à linguagem de programação quais variáveis ou funções estão disponíveis para eles"
   ]
  },
  {
   "attachments": {},
   "cell_type": "markdown",
   "metadata": {},
   "source": [
    "Vejamos um exemplo:"
   ]
  },
  {
   "cell_type": "code",
   "execution_count": null,
   "metadata": {},
   "outputs": [],
   "source": []
  },
  {
   "attachments": {},
   "cell_type": "markdown",
   "metadata": {},
   "source": [
    "O nome da variável é definido fora da função welcome() . Se você tentar chamar welcome() sem passar um argumento, ele lançará um erro mesmo que o argumento corresponda ao nome da variável. Se você passar um valor para welcome(), essa variável só é alterada dentro da função welcome() . O nome que você definiu fora da função permanece inalterado."
   ]
  },
  {
   "attachments": {},
   "cell_type": "markdown",
   "metadata": {},
   "source": [
    "Vejamos um exemplo onde você define variáveis dentro de funções:"
   ]
  },
  {
   "cell_type": "code",
   "execution_count": null,
   "metadata": {},
   "outputs": [],
   "source": []
  },
  {
   "attachments": {},
   "cell_type": "markdown",
   "metadata": {},
   "source": [
    "Em add(), você define aeb e os adiciona. As variáveis a e b têm escopo local . Isso significa que eles só podem ser usados dentro da função add() ."
   ]
  },
  {
   "attachments": {},
   "cell_type": "markdown",
   "metadata": {},
   "source": [
    "Em subtract (), você define apenas a , mas tenta usar b. O Python não verifica se b existe na função subtract() até o tempo de execução."
   ]
  },
  {
   "attachments": {},
   "cell_type": "markdown",
   "metadata": {},
   "source": [
    "O que isso significa é que o Python não avisa que está faltando algo aqui até que você realmente chame a função subtract() . É por isso que você não vê nenhum erro até o final."
   ]
  },
  {
   "attachments": {},
   "cell_type": "markdown",
   "metadata": {},
   "source": [
    "Python tem uma palavra-chave global especial que você pode usar para permitir que variáveis sejam usadas em funções."
   ]
  },
  {
   "attachments": {},
   "cell_type": "markdown",
   "metadata": {},
   "source": [
    "Vamos atualizar o código e ver como funciona:"
   ]
  },
  {
   "cell_type": "code",
   "execution_count": null,
   "metadata": {},
   "outputs": [],
   "source": []
  },
  {
   "attachments": {},
   "cell_type": "markdown",
   "metadata": {},
   "source": [
    "Desta vez, você define b como global no início da função add() . Isso permite que você use b em subtract () mesmo que você não o tenha definido lá."
   ]
  },
  {
   "attachments": {},
   "cell_type": "markdown",
   "metadata": {},
   "source": [
    "Globals geralmente não são recomendados. É fácil ignorá-los em arquivos de código grandes, o que dificulta o rastreamento de erros sutis - por exemplo, se você tivesse chamado subtract() antes de chamar add(), ainda receberia o erro, porque mesmo que b seja global, ele não existe até que add() tenha sido executado."
   ]
  },
  {
   "attachments": {},
   "cell_type": "markdown",
   "metadata": {},
   "source": [
    "Na maioria dos casos em que você deseja usar um global, você pode usar uma classe . Você aprenderá sobre classes no próximo capítulo."
   ]
  },
  {
   "attachments": {},
   "cell_type": "markdown",
   "metadata": {},
   "source": [
    "Não há nada de errado em usar globais, desde que você entenda o que está fazendo. Eles podem ser úteis às vezes. Mas você deve usá-los com Cuidado."
   ]
  },
  {
   "cell_type": "code",
   "execution_count": 8,
   "metadata": {},
   "outputs": [
    {
     "name": "stdout",
     "output_type": "stream",
     "text": [
      "Author: Caique Miranda\n",
      "\n",
      "Github username: caiquemiranda\n",
      "\n"
     ]
    }
   ],
   "source": [
    "%reload_ext watermark\n",
    "%watermark -a \"Caique Miranda\" -gu \"caiquemiranda\" -iv"
   ]
  },
  {
   "attachments": {},
   "cell_type": "markdown",
   "metadata": {},
   "source": [
    "### End."
   ]
  }
 ],
 "metadata": {
  "kernelspec": {
   "display_name": "Python 3",
   "language": "python",
   "name": "python3"
  },
  "language_info": {
   "codemirror_mode": {
    "name": "ipython",
    "version": 3
   },
   "file_extension": ".py",
   "mimetype": "text/x-python",
   "name": "python",
   "nbconvert_exporter": "python",
   "pygments_lexer": "ipython3",
   "version": "3.10.5"
  },
  "orig_nbformat": 4
 },
 "nbformat": 4,
 "nbformat_minor": 2
}
