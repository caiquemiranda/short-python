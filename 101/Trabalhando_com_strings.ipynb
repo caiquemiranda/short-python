{
 "cells": [
  {
   "cell_type": "code",
   "execution_count": null,
   "metadata": {},
   "outputs": [],
   "source": [
    "# Versão da Linguagem Python\n",
    "from platform import python_version\n",
    "print('Versão de Python Neste Jupyter Notebook:', python_version())"
   ]
  },
  {
   "attachments": {},
   "cell_type": "markdown",
   "metadata": {},
   "source": [
    "### Trabalhando com Strings"
   ]
  },
  {
   "attachments": {},
   "cell_type": "markdown",
   "metadata": {},
   "source": [
    "Você usará strings com muita frequência ao programar. Uma string é uma série de letras cercadas por aspas simples, duplas ou triplas. Python 3 define string como um “tipo de sequência de texto”. Você pode converter outros tipos em uma string usando a função integrada str()."
   ]
  },
  {
   "attachments": {},
   "cell_type": "markdown",
   "metadata": {},
   "source": [
    "Vamos falar sobre os seguintes topicos:\n",
    "\n",
    "- Criando strings\n",
    "- Métodos de strings\n",
    "- Fomatação de string\n",
    "- Concatenação de strings\n",
    "- Corte de cordas"
   ]
  },
  {
   "attachments": {},
   "cell_type": "markdown",
   "metadata": {},
   "source": [
    "#### Criando Strings"
   ]
  },
  {
   "attachments": {},
   "cell_type": "markdown",
   "metadata": {},
   "source": [
    "Aqui estão alguns exemplos de criação de strings:"
   ]
  },
  {
   "cell_type": "code",
   "execution_count": null,
   "metadata": {},
   "outputs": [],
   "source": [
    "nome = 'Caique'\n",
    "primeiro_nome = 'Caique'\n",
    "ultimo_nome = \"Miranda\" \n",
    "multi_comment =\"\"\"\n",
    "Temos aqui\n",
    "mais de uma linha\n",
    "\"\"\""
   ]
  },
  {
   "attachments": {},
   "cell_type": "markdown",
   "metadata": {},
   "source": [
    "Ao usar aspas triplas, você pode usar três aspas duplas no início e no final da string ou três aspas simples. Além disso, observe que o uso de aspas triplas permite criar strings de várias linhas. Qualquer espaço em branco dentro da string também será incluído."
   ]
  },
  {
   "attachments": {},
   "cell_type": "markdown",
   "metadata": {},
   "source": [
    "Aqui está um exemplo de conversão de um inteiro em uma string:"
   ]
  },
  {
   "cell_type": "code",
   "execution_count": null,
   "metadata": {},
   "outputs": [],
   "source": [
    "numero = 5\n",
    "str(numero)"
   ]
  },
  {
   "attachments": {},
   "cell_type": "markdown",
   "metadata": {},
   "source": [
    "Em Python, as barras invertidas podem ser usadas para criar sequências de escape. Aqui estão alguns exemplos:"
   ]
  },
  {
   "attachments": {},
   "cell_type": "markdown",
   "metadata": {},
   "source": [
    "- \\b - backspace \n",
    "- \\n - próxima linha \n",
    "- \\r - retorno de linha ASCII\n",
    "- \\t - tabulação"
   ]
  },
  {
   "attachments": {},
   "cell_type": "markdown",
   "metadata": {},
   "source": [
    "Existem vários outros que você pode conhecer se ler a documentação do Python."
   ]
  },
  {
   "attachments": {},
   "cell_type": "markdown",
   "metadata": {},
   "source": [
    "Você também pode usar barras invertidas para escapar das aspas:"
   ]
  },
  {
   "cell_type": "code",
   "execution_count": null,
   "metadata": {},
   "outputs": [],
   "source": [
    "'Esta string tem uma aspa simples, \\', no meio'\n",
    "\"Esta string tem uma aspa simples, ', no meio\""
   ]
  },
  {
   "attachments": {},
   "cell_type": "markdown",
   "metadata": {},
   "source": [
    "vamos em frente e ver quais métodos você pode usar com strings!"
   ]
  },
  {
   "attachments": {},
   "cell_type": "markdown",
   "metadata": {},
   "source": [
    "Aqui estão três exemplos:"
   ]
  },
  {
   "cell_type": "code",
   "execution_count": 2,
   "metadata": {},
   "outputs": [
    {
     "name": "stdout",
     "output_type": "stream",
     "text": [
      "Caique\n"
     ]
    }
   ],
   "source": [
    "nome = 'caique'\n",
    "print(nome.capitalize())"
   ]
  },
  {
   "cell_type": "code",
   "execution_count": 3,
   "metadata": {},
   "outputs": [
    {
     "name": "stdout",
     "output_type": "stream",
     "text": [
      "CAIQUE\n"
     ]
    }
   ],
   "source": [
    "print(nome.upper())"
   ]
  },
  {
   "cell_type": "code",
   "execution_count": 4,
   "metadata": {},
   "outputs": [
    {
     "name": "stdout",
     "output_type": "stream",
     "text": [
      "caique\n"
     ]
    }
   ],
   "source": [
    "print(nome.lower())"
   ]
  },
  {
   "attachments": {},
   "cell_type": "markdown",
   "metadata": {},
   "source": [
    "Os nomes dos métodos fornecem uma pista sobre o que eles fazem. Por exemplo, .capitalize() mudará a primeira letra da string para maiúscula."
   ]
  },
  {
   "attachments": {},
   "cell_type": "markdown",
   "metadata": {},
   "source": [
    "Para obter uma lista completa dos métodos e atributos que você pode acessar, você pode usar a função dir() integrada do Python :"
   ]
  },
  {
   "cell_type": "code",
   "execution_count": 5,
   "metadata": {},
   "outputs": [
    {
     "data": {
      "text/plain": [
       "['__add__',\n",
       " '__class__',\n",
       " '__contains__',\n",
       " '__delattr__',\n",
       " '__dir__',\n",
       " '__doc__',\n",
       " '__eq__',\n",
       " '__format__',\n",
       " '__ge__',\n",
       " '__getattribute__',\n",
       " '__getitem__',\n",
       " '__getnewargs__',\n",
       " '__gt__',\n",
       " '__hash__',\n",
       " '__init__',\n",
       " '__init_subclass__',\n",
       " '__iter__',\n",
       " '__le__',\n",
       " '__len__',\n",
       " '__lt__',\n",
       " '__mod__',\n",
       " '__mul__',\n",
       " '__ne__',\n",
       " '__new__',\n",
       " '__reduce__',\n",
       " '__reduce_ex__',\n",
       " '__repr__',\n",
       " '__rmod__',\n",
       " '__rmul__',\n",
       " '__setattr__',\n",
       " '__sizeof__',\n",
       " '__str__',\n",
       " '__subclasshook__',\n",
       " 'capitalize',\n",
       " 'casefold',\n",
       " 'center',\n",
       " 'count',\n",
       " 'encode',\n",
       " 'endswith',\n",
       " 'expandtabs',\n",
       " 'find',\n",
       " 'format',\n",
       " 'format_map',\n",
       " 'index',\n",
       " 'isalnum',\n",
       " 'isalpha',\n",
       " 'isascii',\n",
       " 'isdecimal',\n",
       " 'isdigit',\n",
       " 'isidentifier',\n",
       " 'islower',\n",
       " 'isnumeric',\n",
       " 'isprintable',\n",
       " 'isspace',\n",
       " 'istitle',\n",
       " 'isupper',\n",
       " 'join',\n",
       " 'ljust',\n",
       " 'lower',\n",
       " 'lstrip',\n",
       " 'maketrans',\n",
       " 'partition',\n",
       " 'removeprefix',\n",
       " 'removesuffix',\n",
       " 'replace',\n",
       " 'rfind',\n",
       " 'rindex',\n",
       " 'rjust',\n",
       " 'rpartition',\n",
       " 'rsplit',\n",
       " 'rstrip',\n",
       " 'split',\n",
       " 'splitlines',\n",
       " 'startswith',\n",
       " 'strip',\n",
       " 'swapcase',\n",
       " 'title',\n",
       " 'translate',\n",
       " 'upper',\n",
       " 'zfill']"
      ]
     },
     "execution_count": 5,
     "metadata": {},
     "output_type": "execute_result"
    }
   ],
   "source": [
    "dir(nome)"
   ]
  },
  {
   "attachments": {},
   "cell_type": "markdown",
   "metadata": {},
   "source": [
    "O primeiro terço da lista são métodos especiais que às vezes são chamados de “métodos dunder” (métodos de sublinhado duplo) ou “métodos mágicos”. Aqui estão três exemplos: maioria. Os nomes dos métodos fornecem uma pista sobre o que eles fazem. Por exemplo, `.capitalize()` mudará a primeira letra da string para maiúscula."
   ]
  },
  {
   "attachments": {},
   "cell_type": "markdown",
   "metadata": {},
   "source": [
    "Você descobrirá que os métodos `.strip()` e `.split()` são especialmente úteis ao analisar ou manipular texto."
   ]
  },
  {
   "attachments": {},
   "cell_type": "markdown",
   "metadata": {},
   "source": [
    "Você pode usar `.strip()` e suas variantes, `.rstrip()` e `.lstrip()` para retirar o espaço em branco da string, incluindo tabulação e caracteres de nova linha. Isso é especialmente útil quando você está lendo um arquivo de texto que precisa analisar."
   ]
  },
  {
   "attachments": {},
   "cell_type": "markdown",
   "metadata": {},
   "source": [
    "Na verdade, muitas vezes você acabará removendo caracteres de fim de linha de strings e, em seguida, usando `.split()` no resultado para analisar substrings."
   ]
  },
  {
   "attachments": {},
   "cell_type": "markdown",
   "metadata": {},
   "source": [
    "vamos ver como analisar a 2ª palavra em uma string"
   ]
  },
  {
   "attachments": {},
   "cell_type": "markdown",
   "metadata": {},
   "source": [
    "Para começar, aqui está uma string:"
   ]
  },
  {
   "cell_type": "code",
   "execution_count": null,
   "metadata": {},
   "outputs": [],
   "source": [
    "string = 'Esta é uma string de palavras'\n",
    "'Esta é uma sequencia de palavras'"
   ]
  },
  {
   "attachments": {},
   "cell_type": "markdown",
   "metadata": {},
   "source": [
    "Agora, para obter as partes de uma string, você pode chamar `.split()`, assim:"
   ]
  },
  {
   "cell_type": "code",
   "execution_count": null,
   "metadata": {},
   "outputs": [],
   "source": [
    "string.split()"
   ]
  },
  {
   "attachments": {},
   "cell_type": "markdown",
   "metadata": {},
   "source": [
    "O resultado é uma lista de strings. Normalmente, você atribuiria esse resultado a uma variável."
   ]
  },
  {
   "attachments": {},
   "cell_type": "markdown",
   "metadata": {},
   "source": [
    "Agora você sabe que o resultado é uma string, pode usar a indexação de lista para obter o segundo elemento:"
   ]
  },
  {
   "cell_type": "code",
   "execution_count": 6,
   "metadata": {},
   "outputs": [
    {
     "data": {
      "text/plain": [
       "'uma'"
      ]
     },
     "execution_count": 6,
     "metadata": {},
     "output_type": "execute_result"
    }
   ],
   "source": [
    "'Esta é uma string de palavras'.split()[2]"
   ]
  },
  {
   "attachments": {},
   "cell_type": "markdown",
   "metadata": {},
   "source": [
    "Lembre-se, em Python, os elementos das listas começam em 0 (zero), então quando você diz que quer o elemento 1 (um), esse é o segundo elemento da lista."
   ]
  },
  {
   "attachments": {},
   "cell_type": "markdown",
   "metadata": {},
   "source": [
    "Você pode usar os métodos `.strip()` e `.split()` de forma bastante eficaz para obter quase todos os dados necessários. Ocasionalmente, você descobrirá que também pode precisar use Expressões Regulares (regex), mas na maioria das vezes esses dois métodos são suficientes."
   ]
  },
  {
   "attachments": {},
   "cell_type": "markdown",
   "metadata": {},
   "source": [
    "#### Formatação de string"
   ]
  },
  {
   "attachments": {},
   "cell_type": "markdown",
   "metadata": {},
   "source": [
    "A formatação de string ou substituição de string é onde você tem uma string que gostaria de inserir em outra string. Isso é especialmente útil quando você precisa criar um modelo, como uma carta modelo. Mas você usará muito a substituição de string para saída de depuração, impressão para padrão e muito mais."
   ]
  },
  {
   "attachments": {},
   "cell_type": "markdown",
   "metadata": {},
   "source": [
    "Standard out (ou stdout) é um termo usado para imprimir no terminal. Quando você executa seu programa a partir do terminal e vê a saída de seu programa, é porque seu programa “imprime” para padrão ou erro padrão (stderr)."
   ]
  },
  {
   "attachments": {},
   "cell_type": "markdown",
   "metadata": {},
   "source": [
    "O Python tem três maneiras diferentes de realizar a formatação de strings:\n",
    "\n",
    "- Usando o método %\n",
    "- Usando `.format()`\n",
    "- Usando liteais de string formatada(f-strings)"
   ]
  },
  {
   "attachments": {},
   "cell_type": "markdown",
   "metadata": {},
   "source": [
    "#### Formatando Strings Usando %s (estilo printf)"
   ]
  },
  {
   "attachments": {},
   "cell_type": "markdown",
   "metadata": {},
   "source": [
    "Usar o método % é o método mais antigo do Python de formatação de string. Às vezes, é referido como “formatação de string no estilo printf”. Se você já usou C ou C++ no passado, talvez já esteja familiarizado com esse tipo de substituição de string. Para resumir, você aprenderá o básico sobre o uso de % aqui."
   ]
  },
  {
   "attachments": {},
   "cell_type": "markdown",
   "metadata": {},
   "source": [
    "O uso mais comum do sinal % é quando você usaria `%s`, o que significa converter qualquer objeto Python em uma string usando `str().`"
   ]
  },
  {
   "attachments": {},
   "cell_type": "markdown",
   "metadata": {},
   "source": [
    "Aqui está um exemplo:"
   ]
  },
  {
   "cell_type": "code",
   "execution_count": 9,
   "metadata": {},
   "outputs": [
    {
     "name": "stdout",
     "output_type": "stream",
     "text": [
      "Meu nome é caique\n"
     ]
    }
   ],
   "source": [
    "nome = 'caique'\n",
    "\n",
    "print('Meu nome é %s'%nome)"
   ]
  },
  {
   "attachments": {},
   "cell_type": "markdown",
   "metadata": {},
   "source": [
    "Nesse código, você pega o nome da variável e o insere em outra string usando a sintaxe especial `%s` . Para que funcione, você precisa usar % fora da string seguido da string ou variável que deseja inserir."
   ]
  },
  {
   "attachments": {},
   "cell_type": "markdown",
   "metadata": {},
   "source": [
    "Aqui está um segundo exemplo que mostra que você pode passar um `int` para uma `string` e convertê-lo automaticamente para você:"
   ]
  },
  {
   "cell_type": "code",
   "execution_count": 13,
   "metadata": {},
   "outputs": [
    {
     "name": "stdout",
     "output_type": "stream",
     "text": [
      "Você deve ter pelo menos 21 para continuar\n"
     ]
    }
   ],
   "source": [
    "idade = 21\n",
    "\n",
    "print('Você deve ter pelo menos %s para continuar' %idade)"
   ]
  },
  {
   "attachments": {},
   "cell_type": "markdown",
   "metadata": {},
   "source": [
    "Esse tipo de coisa é especialmente útil quando você precisa converter um objeto, mas não sabe de que tipo é."
   ]
  },
  {
   "attachments": {},
   "cell_type": "markdown",
   "metadata": {},
   "source": [
    "Você também pode formatar strings com múltiplas variáveis."
   ]
  },
  {
   "attachments": {},
   "cell_type": "markdown",
   "metadata": {},
   "source": [
    "Aqui está o primeiro:"
   ]
  },
  {
   "cell_type": "code",
   "execution_count": 14,
   "metadata": {},
   "outputs": [
    {
     "name": "stdout",
     "output_type": "stream",
     "text": [
      "Olá caique. Você deve ter pelo menos 21 para continuar!\n"
     ]
    }
   ],
   "source": [
    "nome = 'caique'\n",
    "idade = 21.4\n",
    "\n",
    "print('Olá %s. Você deve ter pelo menos %i para continuar!' %(nome, idade))"
   ]
  },
  {
   "attachments": {},
   "cell_type": "markdown",
   "metadata": {},
   "source": [
    "Neste exemplo, você cria duas variáveis e usa `%s` e `%i`. O `%i` indica que você vai passar um inteiro. Para passar vários itens, você usa o sinal de porcentagem seguido por uma tupla dos itens a serem inseridos."
   ]
  },
  {
   "attachments": {},
   "cell_type": "markdown",
   "metadata": {},
   "source": [
    "Você pode tornar isso mais claro usando nomes, como este:"
   ]
  },
  {
   "cell_type": "code",
   "execution_count": 15,
   "metadata": {},
   "outputs": [],
   "source": [
    "primeiro_nome = 'Caique'\n",
    "idade = 21"
   ]
  },
  {
   "cell_type": "code",
   "execution_count": 16,
   "metadata": {},
   "outputs": [
    {
     "name": "stdout",
     "output_type": "stream",
     "text": [
      "Olá caique. Você deve ter pelo menos 21 para continuar!\n"
     ]
    }
   ],
   "source": [
    "print('Olá %(primeiro_nome)s. Você deve ter pelo menos %(idade)i para continuar!' %{'primeiro_nome': nome,\n",
    "                                                                                    'idade': idade})"
   ]
  },
  {
   "attachments": {},
   "cell_type": "markdown",
   "metadata": {},
   "source": [
    "Quando o argumento no lado direito do sinal % é um dicionário (ou outro tipo de mapeamento), os formatos entre parênteses na string devem se referir às chaves no dicionário. Em outras palavras, se você vir %(nome)s, então o dicionário à direita de % deve ter uma chave de nome."
   ]
  },
  {
   "attachments": {},
   "cell_type": "markdown",
   "metadata": {},
   "source": [
    "Se você não incluir todas as chaves necessárias, receberá um erro: "
   ]
  },
  {
   "cell_type": "code",
   "execution_count": 17,
   "metadata": {},
   "outputs": [
    {
     "ename": "KeyError",
     "evalue": "'primeiro_nome'",
     "output_type": "error",
     "traceback": [
      "\u001b[1;31m---------------------------------------------------------------------------\u001b[0m",
      "\u001b[1;31mKeyError\u001b[0m                                  Traceback (most recent call last)",
      "\u001b[1;32md:\\GIT-repository\\github-short-python\\short-python\\101\\Trabalhando_com_strings.ipynb Cell 60\u001b[0m in \u001b[0;36m<cell line: 1>\u001b[1;34m()\u001b[0m\n\u001b[1;32m----> <a href='vscode-notebook-cell:/d%3A/GIT-repository/github-short-python/short-python/101/Trabalhando_com_strings.ipynb#Y142sZmlsZQ%3D%3D?line=0'>1</a>\u001b[0m \u001b[39mprint\u001b[39m(\u001b[39m'\u001b[39;49m\u001b[39mOlá \u001b[39;49m\u001b[39m%(primeiro_nome)s\u001b[39;49;00m\u001b[39m. Você deve ter pelo menos \u001b[39;49m\u001b[39m%(idade)i\u001b[39;49;00m\u001b[39m para continuar!\u001b[39;49m\u001b[39m'\u001b[39;49m \u001b[39m%\u001b[39;49m {\u001b[39m'\u001b[39;49m\u001b[39midade\u001b[39;49m\u001b[39m'\u001b[39;49m: idade})\n",
      "\u001b[1;31mKeyError\u001b[0m: 'primeiro_nome'"
     ]
    }
   ],
   "source": [
    "print('Olá %(primeiro_nome)s. Você deve ter pelo menos %(idade)i para continuar!' % {'idade': idade})"
   ]
  },
  {
   "attachments": {},
   "cell_type": "markdown",
   "metadata": {},
   "source": [
    "Para obter mais informações sobre como usar a formatação de string no estilo printf, consulte o seguinte link:"
   ]
  },
  {
   "attachments": {},
   "cell_type": "markdown",
   "metadata": {},
   "source": [
    "Agora vamos passar a usar o método `.format()`."
   ]
  },
  {
   "attachments": {},
   "cell_type": "markdown",
   "metadata": {},
   "source": [
    "#### Strings de formatação usando `.format()`"
   ]
  },
  {
   "attachments": {},
   "cell_type": "markdown",
   "metadata": {},
   "source": [
    "As strings do Python suportam o método `.format()` há muito tempo. Embora este livro se concentre no uso de f-strings, você descobrirá que `.format()` ainda é bastante popular."
   ]
  },
  {
   "attachments": {},
   "cell_type": "markdown",
   "metadata": {},
   "source": [
    "a obter detalhes completos sobre como a formatação funciona, consulte o seguinte:"
   ]
  },
  {
   "attachments": {},
   "cell_type": "markdown",
   "metadata": {},
   "source": [
    "https://docs.python.org/3/library/stdtypes.html#printf-style-stringformatting"
   ]
  },
  {
   "attachments": {},
   "cell_type": "markdown",
   "metadata": {},
   "source": [
    "Vamos dar uma olhada em alguns exemplos curtos para ver como `.format()` funciona:"
   ]
  },
  {
   "cell_type": "markdown",
   "metadata": {},
   "source": []
  },
  {
   "cell_type": "markdown",
   "metadata": {},
   "source": []
  },
  {
   "cell_type": "markdown",
   "metadata": {},
   "source": []
  },
  {
   "cell_type": "markdown",
   "metadata": {},
   "source": []
  },
  {
   "cell_type": "markdown",
   "metadata": {},
   "source": []
  },
  {
   "cell_type": "markdown",
   "metadata": {},
   "source": []
  },
  {
   "cell_type": "markdown",
   "metadata": {},
   "source": []
  },
  {
   "cell_type": "code",
   "execution_count": null,
   "metadata": {},
   "outputs": [],
   "source": [
    "%reload_ext watermark\n",
    "%watermark -a \"Caique Miranda\" -gu \"caiquemiranda\" -iv"
   ]
  },
  {
   "attachments": {},
   "cell_type": "markdown",
   "metadata": {},
   "source": [
    "### Fim."
   ]
  }
 ],
 "metadata": {
  "kernelspec": {
   "display_name": "Python 3",
   "language": "python",
   "name": "python3"
  },
  "language_info": {
   "codemirror_mode": {
    "name": "ipython",
    "version": 3
   },
   "file_extension": ".py",
   "mimetype": "text/x-python",
   "name": "python",
   "nbconvert_exporter": "python",
   "pygments_lexer": "ipython3",
   "version": "3.10.5"
  },
  "orig_nbformat": 4
 },
 "nbformat": 4,
 "nbformat_minor": 2
}
