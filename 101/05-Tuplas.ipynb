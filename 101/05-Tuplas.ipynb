{
 "cells": [
  {
   "cell_type": "code",
   "execution_count": null,
   "metadata": {},
   "outputs": [],
   "source": [
    "# Versão da Linguagem Python\n",
    "from platform import python_version\n",
    "print('Versão de Python Neste Jupyter Notebook:', python_version())"
   ]
  },
  {
   "attachments": {},
   "cell_type": "markdown",
   "metadata": {},
   "source": [
    "### Tuplas"
   ]
  },
  {
   "attachments": {},
   "cell_type": "markdown",
   "metadata": {},
   "source": [
    "Tuplas são outro tipo de sequência em Python. As tuplas consistem em vários valores separados por vírgulas. Uma tupla é imutável, enquanto uma lista não é. Imutável significa que a tupla tem um valor fixo e não pode mudar."
   ]
  },
  {
   "attachments": {},
   "cell_type": "markdown",
   "metadata": {},
   "source": [
    "Você não pode adicionar ou excluir itens em uma tupla. Objetos imutáveis são úteis quando você precisa de um valor de hash constante. O exemplo mais popular de um valor hash em Python é a chave para um dicionário"
   ]
  },
  {
   "attachments": {},
   "cell_type": "markdown",
   "metadata": {},
   "source": [
    "- Criar tuplas\n",
    "- Trabalhar com tuplas\n",
    "- Concatenar tuplas\n",
    "- Tuplas em casos especiais"
   ]
  },
  {
   "attachments": {},
   "cell_type": "markdown",
   "metadata": {},
   "source": [
    "#### Criando tuplas"
   ]
  },
  {
   "attachments": {},
   "cell_type": "markdown",
   "metadata": {},
   "source": [
    "Voce pdoe criar tuplas de várias maneiras diferentes. "
   ]
  },
  {
   "cell_type": "code",
   "execution_count": null,
   "metadata": {},
   "outputs": [],
   "source": [
    "uma_tupla = 4, 5\n",
    "type(uma_tupla)"
   ]
  },
  {
   "attachments": {},
   "cell_type": "markdown",
   "metadata": {},
   "source": [
    "Você não pode adicionar ou excluir itens em uma tupla. Objetos imutáveis são úteis quando você precisa de um valor de hash constante. O exemplo mais popular de um valor hash em Python é a chave para um dicionário"
   ]
  },
  {
   "attachments": {},
   "cell_type": "markdown",
   "metadata": {},
   "source": [
    "Dependendo de onde no código você está tentando criar uma tupla, apenas usar vírgulas pode ser ambíguo; você sempre pode usar parênteses para torná-lo explícito:"
   ]
  },
  {
   "cell_type": "code",
   "execution_count": null,
   "metadata": {},
   "outputs": [],
   "source": [
    "uma_tupla = (2, 3, 4)\n",
    "type(uma_tupla)"
   ]
  },
  {
   "attachments": {},
   "cell_type": "markdown",
   "metadata": {},
   "source": [
    "No entanto, os parênteses sozinhos não formam uma tupla!"
   ]
  },
  {
   "cell_type": "code",
   "execution_count": null,
   "metadata": {},
   "outputs": [],
   "source": [
    "nao_e_tupla = (5)\n",
    "type(nao_e_tupla)"
   ]
  },
  {
   "attachments": {},
   "cell_type": "markdown",
   "metadata": {},
   "source": [
    "Você pode converter uma lista em uma tupla usando a função `tuple()`:"
   ]
  },
  {
   "cell_type": "code",
   "execution_count": null,
   "metadata": {},
   "outputs": [],
   "source": [
    "uma_tupla = tuple(['1', '2', '3'])\n",
    "type(uma_tupla)"
   ]
  },
  {
   "attachments": {},
   "cell_type": "markdown",
   "metadata": {},
   "source": [
    "Este exemplo demonstra como converter ou lançar uma lista Python em uma tupla."
   ]
  },
  {
   "attachments": {},
   "cell_type": "markdown",
   "metadata": {},
   "source": [
    "#### Trabalhando com tuplas"
   ]
  },
  {
   "attachments": {},
   "cell_type": "markdown",
   "metadata": {},
   "source": [
    "Não existem muitas maneiras de trabalhar com tuplas devido ao fato de serem imutáveis. Se você executasse `dir(tuple())`, descobriria que as tuplas têm apenas dois métodos"
   ]
  },
  {
   "attachments": {},
   "cell_type": "markdown",
   "metadata": {},
   "source": [
    "- `count()`\n",
    "- `index()`"
   ]
  },
  {
   "attachments": {},
   "cell_type": "markdown",
   "metadata": {},
   "source": [
    "Você pode usar `count()` para descobrir quantos elementos correspondem ao valor que você passou:"
   ]
  },
  {
   "cell_type": "code",
   "execution_count": null,
   "metadata": {},
   "outputs": [],
   "source": [
    "uma_tupla = (1, 2, 3, 3)\n",
    "uma_tupla.count(3)"
   ]
  },
  {
   "attachments": {},
   "cell_type": "markdown",
   "metadata": {},
   "source": [
    "Nesse caso, você pode descobrir quantas vezes o número inteiro 3 aparece na tupla."
   ]
  },
  {
   "attachments": {},
   "cell_type": "markdown",
   "metadata": {},
   "source": [
    "Você pode usar `index()` para encontrar o primeiro índice de um valor:"
   ]
  },
  {
   "cell_type": "code",
   "execution_count": null,
   "metadata": {},
   "outputs": [],
   "source": [
    "uma_tupla = (1, 2, 3, 3)\n",
    "uma_tupla.index(2)"
   ]
  },
  {
   "attachments": {},
   "cell_type": "markdown",
   "metadata": {},
   "source": [
    "Este exemplo mostra que o número 2 está no índice 1, que é o segundo item da tupla."
   ]
  },
  {
   "attachments": {},
   "cell_type": "markdown",
   "metadata": {},
   "source": [
    "As tuplas são indexadas em zero, o que significa que o primeiro elemento começa em zero."
   ]
  },
  {
   "attachments": {},
   "cell_type": "markdown",
   "metadata": {},
   "source": [
    "Você pode usar a metodologia de indexação que aprendeu no capítulo anterior para acessar elementos dentro de uma tupla:"
   ]
  },
  {
   "cell_type": "code",
   "execution_count": null,
   "metadata": {},
   "outputs": [],
   "source": [
    "uma_tupla = (1, 2, 3, 3)\n",
    "uma_tupla[2]"
   ]
  },
  {
   "attachments": {},
   "cell_type": "markdown",
   "metadata": {},
   "source": [
    "O primeiro “`3`” na tupla está no índice `2`."
   ]
  },
  {
   "attachments": {},
   "cell_type": "markdown",
   "metadata": {},
   "source": [
    "Vamos tentar modificar um elemento em sua tupla:"
   ]
  },
  {
   "cell_type": "code",
   "execution_count": null,
   "metadata": {},
   "outputs": [],
   "source": [
    "uma_tupla[0] = 8"
   ]
  },
  {
   "attachments": {},
   "cell_type": "markdown",
   "metadata": {},
   "source": [
    "Aqui você tenta definir o primeiro elemento na tupla como 8. No entanto, isso faz com que um `TypeError` seja gerado porque as tuplas são imutáveis e não podem ser alteradas."
   ]
  },
  {
   "attachments": {},
   "cell_type": "markdown",
   "metadata": {},
   "source": [
    "#### Concatenando tuplas"
   ]
  },
  {
   "attachments": {},
   "cell_type": "markdown",
   "metadata": {},
   "source": [
    "Tuplas podem ser unidas, o que em programação é chamado de “concatenação”. No entanto, ao fazer isso, você acabará criando uma nova tupla:"
   ]
  },
  {
   "cell_type": "code",
   "execution_count": null,
   "metadata": {},
   "outputs": [],
   "source": [
    "uma_tupla = (1, 2, 3, 3)\n",
    "id(uma_tupla)"
   ]
  },
  {
   "cell_type": "code",
   "execution_count": null,
   "metadata": {},
   "outputs": [],
   "source": [
    "uma_tupla += (6, 7)\n",
    "id(uma_tupla)"
   ]
  },
  {
   "attachments": {},
   "cell_type": "markdown",
   "metadata": {},
   "source": [
    "Aqui você concatena uma segunda tupla na primeira tupla. Você pode usar a função `id()` do Python para ver se a variável uma_tupla foi alterada. A função `id()` retorna o id do objeto. O `ID` de um objeto é equivalente a um endereço na memória. O número de `ID` mudou depois de concatenar a segunda tupla. Isso significa que você criou um novo objeto."
   ]
  },
  {
   "attachments": {},
   "cell_type": "markdown",
   "metadata": {},
   "source": [
    "#### Tuplas de caso especial"
   ]
  },
  {
   "attachments": {},
   "cell_type": "markdown",
   "metadata": {},
   "source": [
    "Existem duas tuplas de caso especial. Uma tupla com zero itens e uma tupla com um item. A razão pela qual eles são casos especiais é que a sintaxe para criá-los é um pouco diferente."
   ]
  },
  {
   "attachments": {},
   "cell_type": "markdown",
   "metadata": {},
   "source": [
    "Para criar uma tupla vazia, você pode fazer um dos seguintes:"
   ]
  },
  {
   "cell_type": "code",
   "execution_count": null,
   "metadata": {},
   "outputs": [],
   "source": [
    "vazio = tuple()\n",
    "len(vazio)"
   ]
  },
  {
   "cell_type": "code",
   "execution_count": null,
   "metadata": {},
   "outputs": [],
   "source": [
    "type(vazio)"
   ]
  },
  {
   "cell_type": "code",
   "execution_count": null,
   "metadata": {},
   "outputs": [],
   "source": [
    "outra_vazia = ()\n",
    "len(outra_vazia)"
   ]
  },
  {
   "attachments": {},
   "cell_type": "markdown",
   "metadata": {},
   "source": [
    "Você pode criar uma tupla vazia chamando a função `tuple()` sem argumentos ou por meio de atribuição ao usar um par de parênteses vazio."
   ]
  },
  {
   "attachments": {},
   "cell_type": "markdown",
   "metadata": {},
   "source": [
    "Agora vamos criar uma tupla com um único elemento:"
   ]
  },
  {
   "cell_type": "code",
   "execution_count": null,
   "metadata": {},
   "outputs": [],
   "source": [
    "unico = 2,\n",
    "len(unico)"
   ]
  },
  {
   "cell_type": "code",
   "execution_count": null,
   "metadata": {},
   "outputs": [],
   "source": [
    "type(unico)"
   ]
  },
  {
   "attachments": {},
   "cell_type": "markdown",
   "metadata": {},
   "source": [
    "Para criar uma tupla com um único elemento, você pode atribuir um valor com uma vírgula a seguir. Observe a vírgula após o 2 no exemplo acima."
   ]
  },
  {
   "attachments": {},
   "cell_type": "markdown",
   "metadata": {},
   "source": [
    "Embora os parênteses sejam geralmente opcionais, eu os recomendo fortemente para tuplas de item único, pois a vírgula pode ser facilmente perdida."
   ]
  },
  {
   "attachments": {},
   "cell_type": "markdown",
   "metadata": {},
   "source": [
    "é um tipo de dados fundamental em Python. É usado com bastante frequência e certamente é algo com o qual você deve estar familiarizado. Você usará tuplas em outros tipos de dados. Você também usará tuplas para agrupar dados relacionados, como nome, endereço e país."
   ]
  },
  {
   "cell_type": "code",
   "execution_count": null,
   "metadata": {},
   "outputs": [],
   "source": [
    "%reload_ext watermark\n",
    "%watermark -a \"Caique Miranda\" -gu \"caiquemiranda\" -iv"
   ]
  },
  {
   "attachments": {},
   "cell_type": "markdown",
   "metadata": {},
   "source": [
    "### End."
   ]
  }
 ],
 "metadata": {
  "language_info": {
   "name": "python"
  },
  "orig_nbformat": 4
 },
 "nbformat": 4,
 "nbformat_minor": 2
}
