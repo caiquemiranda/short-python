{
 "cells": [
  {
   "cell_type": "code",
   "execution_count": null,
   "metadata": {},
   "outputs": [],
   "source": [
    "# Versão da Linguagem Python\n",
    "from platform import python_version\n",
    "print('Versão de Python Neste Jupyter Notebook:', python_version())"
   ]
  },
  {
   "attachments": {},
   "cell_type": "markdown",
   "metadata": {},
   "source": [
    "### Listas"
   ]
  },
  {
   "attachments": {},
   "cell_type": "markdown",
   "metadata": {},
   "source": [
    "As listas são um tipo de dados fundamental na linguagem de programação Python. Uma lista é uma sequência mutável que normalmente é uma coleção de itens homogêneos. Mutável significa que você pode alterar uma lista após sua criação. Você frequentemente verá listas que contêm outras listas. Elas são conhecidas como listas aninhadas. Você também verá listas que contêm todos os tipos de dados, como dicionários, tuplas e outros objetos."
   ]
  },
  {
   "attachments": {},
   "cell_type": "markdown",
   "metadata": {},
   "source": [
    "- Criando listas\n",
    "- Métodos de listas\n",
    "- Segmentação de listas\n",
    "- Cópia de listas"
   ]
  },
  {
   "attachments": {},
   "cell_type": "markdown",
   "metadata": {},
   "source": [
    "#### Criando listas"
   ]
  },
  {
   "attachments": {},
   "cell_type": "markdown",
   "metadata": {},
   "source": [
    "Existem várias maneiras de criar uma lista. Você pode construir uma lista de qualquer uma das seguintes maneiras:"
   ]
  },
  {
   "attachments": {},
   "cell_type": "markdown",
   "metadata": {},
   "source": [
    "- Usar um par de colchetes sem nada dentro cria uma lista vazia: []\n",
    "- Usando colchetes com itens separados por vírgula: [1, 2, 3]\n",
    "- Usando uma compreensão de lista : [x for x in iterável]\n",
    "- Usando a função `list()` : `list(iterável)`"
   ]
  },
  {
   "attachments": {},
   "cell_type": "markdown",
   "metadata": {},
   "source": [
    "Um iterável é uma coleção de itens que podem retornar seus membros um de cada vez; alguns iteráveis têm uma ordem (isto é, sequências) e outros não. As próprias listas são sequências. Strings também são sequências. Você pode pensar em strings como uma sequência de caracteres."
   ]
  },
  {
   "cell_type": "markdown",
   "metadata": {},
   "source": []
  },
  {
   "cell_type": "markdown",
   "metadata": {},
   "source": []
  },
  {
   "cell_type": "markdown",
   "metadata": {},
   "source": []
  },
  {
   "cell_type": "markdown",
   "metadata": {},
   "source": []
  },
  {
   "cell_type": "markdown",
   "metadata": {},
   "source": []
  },
  {
   "cell_type": "markdown",
   "metadata": {},
   "source": []
  },
  {
   "cell_type": "markdown",
   "metadata": {},
   "source": []
  },
  {
   "cell_type": "markdown",
   "metadata": {},
   "source": []
  },
  {
   "cell_type": "markdown",
   "metadata": {},
   "source": []
  },
  {
   "cell_type": "code",
   "execution_count": null,
   "metadata": {},
   "outputs": [],
   "source": [
    "%reload_ext watermark\n",
    "%watermark -a \"Caique Miranda\" -gu \"caiquemiranda\" -iv"
   ]
  },
  {
   "attachments": {},
   "cell_type": "markdown",
   "metadata": {},
   "source": [
    "### End."
   ]
  }
 ],
 "metadata": {
  "language_info": {
   "name": "python"
  },
  "orig_nbformat": 4
 },
 "nbformat": 4,
 "nbformat_minor": 2
}
