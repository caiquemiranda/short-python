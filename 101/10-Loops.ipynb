{
 "cells": [
  {
   "cell_type": "code",
   "execution_count": null,
   "metadata": {},
   "outputs": [],
   "source": [
    "# Versão da Linguagem Python\n",
    "from platform import python_version\n",
    "print('Versão de Python Neste Jupyter Notebook:', python_version())"
   ]
  },
  {
   "attachments": {},
   "cell_type": "markdown",
   "metadata": {},
   "source": [
    "### Loops"
   ]
  },
  {
   "attachments": {},
   "cell_type": "markdown",
   "metadata": {},
   "source": [
    "Ao escrever código, você precisará processar cada objeto em uma coleção. Para fazer isso, você irá iterar sobre essa coleção, o que significa obter cada objeto dessa coleção, um de cada vez. Coleções de objetos incluem strings como \"`Hello, world`\", listas como [1, 2, 3] e até mesmo arquivos. O processo de iterar sobre algo é feito por meio de um loop, e os objetos que suportam a iteração são chamados de iteráveis."
   ]
  },
  {
   "attachments": {},
   "cell_type": "markdown",
   "metadata": {},
   "source": [
    "existem dois tipos de construções de loop: \n",
    "\n",
    "- o loop `for`\n",
    "- o loop `while`"
   ]
  },
  {
   "attachments": {},
   "cell_type": "markdown",
   "metadata": {},
   "source": [
    "Além de iterar sequências e outras coleções, você pode usar um loop para fazer a mesma coisa várias vezes. Um exemplo disso é um servidor web: ele espera, esperando que um cliente lhe envie uma mensagem; ao receber a mensagem, o código dentro do loop chamará uma função em resposta."
   ]
  },
  {
   "attachments": {},
   "cell_type": "markdown",
   "metadata": {},
   "source": [
    "Outro exemplo é o loop do jogo. Quando você vence ou perde um jogo, o jogo geralmente não termina. Em vez disso, ele perguntará se você deseja jogar novamente. Isso é feito envolvendo todo o programa em um loop."
   ]
  },
  {
   "attachments": {},
   "cell_type": "markdown",
   "metadata": {},
   "source": [
    "- Criar um loop `for`\n",
    "- Passar por cima de uma `string`\n",
    "- Percorrer um `dict`\n",
    "- Extrair vários valores de uma `tuple`\n",
    "- Use `enumerate` com loops\n",
    "- Criar um loop `while`\n",
    "- `Break` de um loop\n",
    "- Usar `continue`\n",
    "- Usar `else` com loops\n",
    "- Aninhar loops"
   ]
  },
  {
   "attachments": {},
   "cell_type": "markdown",
   "metadata": {},
   "source": [
    "#### Criando um loop for"
   ]
  },
  {
   "attachments": {},
   "cell_type": "markdown",
   "metadata": {},
   "source": [
    "O loop `for` é a construção de loop mais popular em Python. Um loop `for` é criado usando a seguinte sintaxe:"
   ]
  },
  {
   "cell_type": "code",
   "execution_count": null,
   "metadata": {},
   "outputs": [],
   "source": [
    "# for x in iterável:\n",
    "#   faça alguma coisa"
   ]
  },
  {
   "attachments": {},
   "cell_type": "markdown",
   "metadata": {},
   "source": [
    "vamos escrever um loop `for` que itera sobre uma lista, um item por vez:"
   ]
  },
  {
   "cell_type": "code",
   "execution_count": null,
   "metadata": {},
   "outputs": [],
   "source": [
    "minha_lista = [1, 2, 3]\n",
    "\n",
    "for item in minha_lista:\n",
    "    print(item)"
   ]
  },
  {
   "attachments": {},
   "cell_type": "markdown",
   "metadata": {},
   "source": [
    "você cria uma `lista` com três números inteiros. Em seguida, você cria um loop `for` que diz “para cada item da minha lista, imprima o item”."
   ]
  },
  {
   "attachments": {},
   "cell_type": "markdown",
   "metadata": {},
   "source": [
    "na maioria das vezes você realmente vai querer fazer algo com o item. Por exemplo, você pode querer dobrá-lo:"
   ]
  },
  {
   "cell_type": "code",
   "execution_count": 1,
   "metadata": {},
   "outputs": [
    {
     "name": "stdout",
     "output_type": "stream",
     "text": [
      "2\n",
      "4\n",
      "6\n"
     ]
    }
   ],
   "source": [
    "minha_lista = [1, 2, 3]\n",
    "\n",
    "for item in minha_lista:\n",
    "    print(item * 2)"
   ]
  },
  {
   "attachments": {},
   "cell_type": "markdown",
   "metadata": {},
   "source": [
    "pode querer imprimir apenas os itens pares:"
   ]
  },
  {
   "cell_type": "code",
   "execution_count": 2,
   "metadata": {},
   "outputs": [
    {
     "name": "stdout",
     "output_type": "stream",
     "text": [
      "2\n"
     ]
    }
   ],
   "source": [
    "minha_lista = [1, 2, 3]\n",
    "\n",
    "for item in minha_lista:\n",
    "    if item % 2==0:\n",
    "        print(item)"
   ]
  },
  {
   "attachments": {},
   "cell_type": "markdown",
   "metadata": {},
   "source": [
    "Usa o operador de módulo, `%`, para encontrar o restante do item dividido por 2. Se o restante for 0, você saberá que o item é um número par."
   ]
  },
  {
   "attachments": {},
   "cell_type": "markdown",
   "metadata": {},
   "source": [
    "Você pode usar loops e condicionais e qualquer outra construção do Python para criar partes complexas de código que são limitadas apenas pela sua imaginação."
   ]
  },
  {
   "attachments": {},
   "cell_type": "markdown",
   "metadata": {},
   "source": [
    "#### Fazendo loop em uma string"
   ]
  },
  {
   "attachments": {},
   "cell_type": "markdown",
   "metadata": {},
   "source": [
    "Uma das diferenças do loop for em Python em relação a outras linguagens de programação é que você pode iterar em qualquer coleção. Assim, você pode iterar em muitos tipos de dados."
   ]
  },
  {
   "attachments": {},
   "cell_type": "markdown",
   "metadata": {},
   "source": [
    "Iterar sobre uma string:"
   ]
  },
  {
   "cell_type": "code",
   "execution_count": 3,
   "metadata": {},
   "outputs": [
    {
     "name": "stdout",
     "output_type": "stream",
     "text": [
      "a\n",
      "b\n",
      "c\n",
      "d\n",
      "e\n",
      "f\n",
      "g\n",
      "h\n",
      "i\n",
      "j\n"
     ]
    }
   ],
   "source": [
    "minha_string = 'abcdefghij'\n",
    "\n",
    "for letra in minha_string:\n",
    "    print(letra)"
   ]
  },
  {
   "attachments": {},
   "cell_type": "markdown",
   "metadata": {},
   "source": [
    "Isso mostra como é fácil iterar sobre uma string."
   ]
  },
  {
   "attachments": {},
   "cell_type": "markdown",
   "metadata": {},
   "source": [
    "#### Fazendo um loop em um dicionário"
   ]
  },
  {
   "attachments": {},
   "cell_type": "markdown",
   "metadata": {},
   "source": [
    "Os dicionários do Python também oferecem suporte a loops. Por padrão, quando você faz um loop em um dicionário, você faz um loop em suas chaves:"
   ]
  },
  {
   "cell_type": "code",
   "execution_count": null,
   "metadata": {},
   "outputs": [],
   "source": [
    "usuarios = {'Alex': '1234',\n",
    "            'Bruna': '5678',\n",
    "            'Caique': '9101112',\n",
    "            'Daniel': '13141516',\n",
    "            'Elmo': '17181920'}\n",
    "\n",
    "for usuario in usuarios:\n",
    "    print(usuario)"
   ]
  },
  {
   "attachments": {},
   "cell_type": "markdown",
   "metadata": {},
   "source": [
    "Você pode percorrer tanto a chave quanto o valor de um dicionário se fizer uso de seu método `items()`:"
   ]
  },
  {
   "cell_type": "code",
   "execution_count": 4,
   "metadata": {},
   "outputs": [
    {
     "name": "stdout",
     "output_type": "stream",
     "text": [
      "Alex's senha é 1234\n",
      "Bruna's senha é 5678\n",
      "Caique's senha é 9101112\n",
      "Daniel's senha é 13141516\n",
      "Elmo's senha é 17181920\n"
     ]
    }
   ],
   "source": [
    "usuarios = {'Alex': '1234',\n",
    "            'Bruna': '5678',\n",
    "            'Caique': '9101112',\n",
    "            'Daniel': '13141516',\n",
    "            'Elmo': '17181920'}\n",
    "\n",
    "for usuario, senha in usuarios.items():\n",
    "    print(f\"{usuario}'s senha é {senha}\")"
   ]
  },
  {
   "attachments": {},
   "cell_type": "markdown",
   "metadata": {},
   "source": [
    "você especifica que deseja extrair o usuário e a senha em cada iteração. Como você deve se lembrar, o método `items()` retorna uma visão formatada como uma lista de tuplas. Por causa disso, você pode extrair cada chave: par de valores desta visualização e imprimi-los."
   ]
  },
  {
   "attachments": {},
   "cell_type": "markdown",
   "metadata": {},
   "source": [
    "Você não deve modificar um dict enquanto faz um loop sobre ele. Em  disso, você deve criar uma cópia e fazer um loop sobre a cópia enquanto modifica o original."
   ]
  },
  {
   "attachments": {},
   "cell_type": "markdown",
   "metadata": {},
   "source": [
    "#### raindo vários valores em uma tupla durante o loop"
   ]
  },
  {
   "attachments": {},
   "cell_type": "markdown",
   "metadata": {},
   "source": [
    "Às vezes, você precisará fazer um loop em uma lista de tuplas e obter cada item dentro da tupla. Parece meio estranho, mas você descobrirá que é uma tarefa de programação bastante comum."
   ]
  },
  {
   "cell_type": "code",
   "execution_count": 5,
   "metadata": {},
   "outputs": [
    {
     "name": "stdout",
     "output_type": "stream",
     "text": [
      "1 - Água\n",
      "2 - Cerveja\n",
      "3 - Vinho\n",
      "4 - Suco\n"
     ]
    }
   ],
   "source": [
    "lista_tuplas = [(1, 'Água'),\n",
    "                (2, 'Cerveja'),\n",
    "                (3, 'Vinho'),\n",
    "                (4, 'Suco')]\n",
    "\n",
    "for numero, bebida in lista_tuplas:\n",
    "    print(f'{numero} - {bebida}')"
   ]
  },
  {
   "attachments": {},
   "cell_type": "markdown",
   "metadata": {},
   "source": [
    "você aproveita o fato de saber que cada tupla contém dois itens. Como você conhece o formato da lista de tuplas com antecedência, sabe como extrair os valores."
   ]
  },
  {
   "attachments": {},
   "cell_type": "markdown",
   "metadata": {},
   "source": [
    "Se você não tivesse extraído os itens individualmente das tuplas, teria este tipo de saída:"
   ]
  },
  {
   "cell_type": "code",
   "execution_count": null,
   "metadata": {},
   "outputs": [],
   "source": [
    "lista_tuplas = [(1, 'Água'),\n",
    "                (2, 'Cerveja'),\n",
    "                (3, 'Vinho'),\n",
    "                (4, 'Suco')]\n",
    "\n",
    "for item in lista_tuplas:\n",
    "    print(item)"
   ]
  },
  {
   "attachments": {},
   "cell_type": "markdown",
   "metadata": {},
   "source": [
    "Isso provavelmente não é o que você esperava. Normalmente, você desejará extrair um item da tupla ou talvez vários itens, em vez de extrair a tupla inteira."
   ]
  },
  {
   "attachments": {},
   "cell_type": "markdown",
   "metadata": {},
   "source": [
    "#### Usando enumerate com Loops"
   ]
  },
  {
   "attachments": {},
   "cell_type": "markdown",
   "metadata": {},
   "source": [
    "Python vem com uma função interna chamada `enumerate`. Essa função recebe um iterável, como uma `string`, lista ou conjunto, e retorna uma tupla na forma de `(count, item)`. O primeiro valor de contagem é 0 porque, em Python, a contagem começa em zero. Se o iterável for uma sequência, como uma string ou lista, count também será a posição do item retornado."
   ]
  },
  {
   "attachments": {},
   "cell_type": "markdown",
   "metadata": {},
   "source": [
    "um exemplo:"
   ]
  },
  {
   "cell_type": "code",
   "execution_count": 7,
   "metadata": {},
   "outputs": [
    {
     "name": "stdout",
     "output_type": "stream",
     "text": [
      "0 - a\n",
      "1 - b\n",
      "2 - c\n",
      "3 - d\n",
      "4 - e\n",
      "5 - f\n",
      "6 - g\n",
      "7 - h\n",
      "8 - i\n",
      "9 - j\n"
     ]
    }
   ],
   "source": [
    "minha_string = 'abcdefghij'\n",
    "\n",
    "for pos, letra in enumerate(minha_string):\n",
    "    print(f'{pos} - {letra}')"
   ]
  },
  {
   "cell_type": "markdown",
   "metadata": {},
   "source": []
  },
  {
   "cell_type": "markdown",
   "metadata": {},
   "source": []
  },
  {
   "cell_type": "markdown",
   "metadata": {},
   "source": []
  },
  {
   "cell_type": "markdown",
   "metadata": {},
   "source": []
  },
  {
   "cell_type": "markdown",
   "metadata": {},
   "source": []
  },
  {
   "cell_type": "markdown",
   "metadata": {},
   "source": []
  },
  {
   "cell_type": "code",
   "execution_count": null,
   "metadata": {},
   "outputs": [],
   "source": [
    "%reload_ext watermark\n",
    "%watermark -a \"Caique Miranda\" -gu \"caiquemiranda\" -iv"
   ]
  },
  {
   "attachments": {},
   "cell_type": "markdown",
   "metadata": {},
   "source": [
    "### End."
   ]
  }
 ],
 "metadata": {
  "kernelspec": {
   "display_name": "Python 3",
   "language": "python",
   "name": "python3"
  },
  "language_info": {
   "codemirror_mode": {
    "name": "ipython",
    "version": 3
   },
   "file_extension": ".py",
   "mimetype": "text/x-python",
   "name": "python",
   "nbconvert_exporter": "python",
   "pygments_lexer": "ipython3",
   "version": "3.10.5"
  },
  "orig_nbformat": 4
 },
 "nbformat": 4,
 "nbformat_minor": 2
}
