{
 "cells": [
  {
   "cell_type": "code",
   "execution_count": null,
   "metadata": {},
   "outputs": [],
   "source": [
    "# Versão da Linguagem Python\n",
    "from platform import python_version\n",
    "print('Versão de Python Neste Jupyter Notebook:', python_version())"
   ]
  },
  {
   "attachments": {},
   "cell_type": "markdown",
   "metadata": {},
   "source": [
    "### Importando"
   ]
  },
  {
   "attachments": {},
   "cell_type": "markdown",
   "metadata": {},
   "source": [
    "Uma das maiores vantagens do Python sobre outras linguagens de programação é sua\n",
    "grande e abrangente biblioteca padrão. A biblioteca padrão é um conjunto de módulos ou\n",
    "bibliotecas que você pode importar para seus próprios aplicativos para aprimorar seus\n",
    "programas."
   ]
  },
  {
   "attachments": {},
   "cell_type": "markdown",
   "metadata": {},
   "source": [
    "Aqui estão apenas alguns exemplos de módulos que você pode usar:\n",
    "\n",
    "- `argparse` - Criar de interfaces de linha de comando\n",
    "- `email` - Criar, enviar e processar email\n",
    "- `logging` - Criar logs em tempo de execução da execução do programa\n",
    "- `pathlib` - Trabalhar com nomes de arquivos e caminhos\n",
    "- `subprocess` - Abrir e interagir com outros processos\n",
    "- `sys` - Trabalhar com funções específicas do sistema e informações\n",
    "- `urlib` - Trabalhar com URLs"
   ]
  },
  {
   "attachments": {},
   "cell_type": "markdown",
   "metadata": {},
   "source": [
    "Existem dezenas e dezenas de outras bibliotecas. Você pode ver uma listagem completa aqui:\n",
    "\n",
    "- https://docs.python.org/3/library/index.html"
   ]
  },
  {
   "attachments": {},
   "cell_type": "markdown",
   "metadata": {},
   "source": [
    "Se não houver algo na biblioteca padrão que funcione para o seu caso de uso, geralmente você pode encontrar um pacote de terceiros que funcione."
   ]
  },
  {
   "attachments": {},
   "cell_type": "markdown",
   "metadata": {},
   "source": [
    "Neste capítulo, você aprenderá como: \n",
    "\n",
    "- Usar `import`\n",
    "- Usar `from` para importat partes específicas\n",
    "- Usar `as` para dar um novo nome a coisa importada\n",
    "- Importar tudo"
   ]
  },
  {
   "attachments": {},
   "cell_type": "markdown",
   "metadata": {},
   "source": [
    "#### Usando `import`"
   ]
  },
  {
   "cell_type": "markdown",
   "metadata": {},
   "source": []
  },
  {
   "cell_type": "markdown",
   "metadata": {},
   "source": []
  },
  {
   "cell_type": "markdown",
   "metadata": {},
   "source": []
  },
  {
   "cell_type": "markdown",
   "metadata": {},
   "source": []
  },
  {
   "cell_type": "markdown",
   "metadata": {},
   "source": []
  },
  {
   "cell_type": "code",
   "execution_count": null,
   "metadata": {},
   "outputs": [],
   "source": [
    "%reload_ext watermark\n",
    "%watermark -a \"Caique Miranda\" -gu \"caiquemiranda\" -iv"
   ]
  },
  {
   "attachments": {},
   "cell_type": "markdown",
   "metadata": {},
   "source": [
    "### End."
   ]
  }
 ],
 "metadata": {
  "language_info": {
   "name": "python"
  },
  "orig_nbformat": 4
 },
 "nbformat": 4,
 "nbformat_minor": 2
}
