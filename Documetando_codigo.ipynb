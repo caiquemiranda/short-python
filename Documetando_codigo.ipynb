{
 "cells": [
  {
   "cell_type": "code",
   "execution_count": 1,
   "metadata": {},
   "outputs": [
    {
     "name": "stdout",
     "output_type": "stream",
     "text": [
      "Versão de Python Neste Jupyter Notebook: 3.10.5\n"
     ]
    }
   ],
   "source": [
    "# Versão da Linguagem Python\n",
    "from platform import python_version\n",
    "print('Versão de Python Neste Jupyter Notebook:', python_version())"
   ]
  },
  {
   "attachments": {},
   "cell_type": "markdown",
   "metadata": {},
   "source": [
    "### Documentando seu código"
   ]
  },
  {
   "attachments": {},
   "cell_type": "markdown",
   "metadata": {},
   "source": [
    "Documentar seu código desde o início é um pouco mais importante do que a maioria dos novos desenvolvedores imagina. A documentação no desenvolvimento de software refere-se à ideia de dar nomes descritivos às suas variáveis, funções e outros identificadores. Também se refere a adicionar bons comentários. Quando você está imerso no desenvolvimento de sua criação mais recente, é fácil criar variáveis e funções com nomes não descritivos. Quando você voltar ao seu código, gastará uma quantidade excessiva de tempo tentando descobrir o que seu código faz."
   ]
  },
  {
   "attachments": {},
   "cell_type": "markdown",
   "metadata": {},
   "source": [
    "Ao tornar seu código autodocumentado (ou seja, usando nomes descritivos) e adicionando comentários quando necessário, você tornará seu código mais legível para você e para qualquer outra pessoa que possa usar seu código. Isso também facilitará a atualização e a refatoração do seu código!"
   ]
  },
  {
   "attachments": {},
   "cell_type": "markdown",
   "metadata": {},
   "source": [
    "Vamos falar sobre os seguintes topicos:\n",
    "- Comentarios\n",
    "- Docstrings\n",
    "- PEP8 - Estilo de python"
   ]
  },
  {
   "attachments": {},
   "cell_type": "markdown",
   "metadata": {},
   "source": [
    "Os comentários são códigos para você, não para o seu computador. Um comentário é basicamente uma nota para você mesmo que explica o que está acontecendo naquela parte do seu código. Você usa comentários para explicar por que fez algo ou como um trecho de código funciona. Quando você está começando como um novo desenvolvedor, é bom deixar muitos comentários para consultar. Mas depois de aprender a nomear corretamente suas funções e variáveis, você descobrirá que não precisa tanto de comentários."
   ]
  },
  {
   "attachments": {},
   "cell_type": "markdown",
   "metadata": {},
   "source": [
    "No entanto, comentários ainda são recomendados, especialmente para códigos complexos e difíceis de entender à primeira vista. Dependendo da empresa em que você trabalha, você também pode usar comentários para documentar correções de bugs. Por exemplo, se estiver corrigindo um bug, você pode incluir um comentário que mencione qual bug está corrigindo para ajudar a explicar por que teve que alterá-lo."
   ]
  },
  {
   "attachments": {},
   "cell_type": "markdown",
   "metadata": {},
   "source": [
    "Você pode criar comentários usando o sinal # seguido por algum texto descritivo."
   ]
  },
  {
   "cell_type": "code",
   "execution_count": 2,
   "metadata": {},
   "outputs": [],
   "source": [
    "# Este é um comentário ruim\n",
    "x = 10"
   ]
  },
  {
   "attachments": {},
   "cell_type": "markdown",
   "metadata": {},
   "source": [
    "No código acima, a primeira linha demonstra como criar um comentário simples. Quando o Python for executar este código, ele verá o símbolo # e ignorará todo o texto que o segue. Na verdade, o Python pulará essa linha e tentará executar a segunda linha."
   ]
  },
  {
   "attachments": {},
   "cell_type": "markdown",
   "metadata": {},
   "source": [
    "Este comentário é marcado como um \"comentário ruim\". Embora seja bom para fins de demonstração, ele não descreve o código que o segue. É por isso que não é um bom comentário. Bons comentários descrevem o código a seguir. Um bom comentário pode descrever o propósito do script Python, a linha de código ou qualquer outra coisa. Os comentários são a documentação do seu código. Se eles não fornecerem informações, eles devem ser removidos."
   ]
  },
  {
   "attachments": {},
   "cell_type": "markdown",
   "metadata": {},
   "source": [
    "Você também pode criar comentários in-line:"
   ]
  },
  {
   "cell_type": "code",
   "execution_count": 3,
   "metadata": {},
   "outputs": [],
   "source": [
    "x = 10 # 10 está sendo atribuído a x"
   ]
  },
  {
   "attachments": {},
   "cell_type": "markdown",
   "metadata": {},
   "source": [
    "Aqui você atribui novamente 10 à variável, mas depois adiciona dois espaços e o símbolo # , que permite adicionar um comentário sobre o código. Isso é útil quando você precisa explicar uma linha específica de código. Se você nomeou sua variável como algo descritivo, provavelmente não precisará de nenhum comentário."
   ]
  },
  {
   "attachments": {},
   "cell_type": "markdown",
   "metadata": {},
   "source": [
    "ouvirá o termo “comentar código” com bastante frequência. Esta é a prática de adicionar o símbolo # ao início do seu código. Isso desativará efetivamente seu código."
   ]
  },
  {
   "attachments": {},
   "cell_type": "markdown",
   "metadata": {},
   "source": [
    "Por exemplo, você pode ter esta linha de código:"
   ]
  },
  {
   "cell_type": "code",
   "execution_count": 4,
   "metadata": {},
   "outputs": [],
   "source": [
    "número_de_pessoas = 10"
   ]
  },
  {
   "attachments": {},
   "cell_type": "markdown",
   "metadata": {},
   "source": [
    "Se você quiser comentá-lo, você pode fazer o seguinte:"
   ]
  },
  {
   "cell_type": "code",
   "execution_count": 5,
   "metadata": {},
   "outputs": [],
   "source": [
    "# número_de_pessoas = 10"
   ]
  },
  {
   "attachments": {},
   "cell_type": "markdown",
   "metadata": {},
   "source": [
    "Você comenta o código quando está experimentando soluções diferentes ou quando está depurando seu código, mas não deseja excluir o código. O Python ignorará o código comentado, permitindo que você tente outra coisa. A maioria dos editores de código Python (e editores de texto) fornece uma maneira de destacar várias linhas de código e comentar ou descomentar todo o bloco de código."
   ]
  },
  {
   "attachments": {},
   "cell_type": "markdown",
   "metadata": {},
   "source": [
    "Algumas linguagens de programação, como C++, fornecem a capacidade de criar comentários de várias linhas. O guia de estilo Python (PEP8) diz que o sinal de libra é o preferido. No entanto, você pode usar strings com aspas triplas como uma linha múltipla Comente"
   ]
  },
  {
   "attachments": {},
   "cell_type": "markdown",
   "metadata": {},
   "source": [
    "Aqui está um exemplo:"
   ]
  },
  {
   "cell_type": "code",
   "execution_count": 6,
   "metadata": {},
   "outputs": [
    {
     "data": {
      "text/plain": [
       "'Este é um\\n\\ncomentários de várias linhas'"
      ]
     },
     "execution_count": 6,
     "metadata": {},
     "output_type": "execute_result"
    }
   ],
   "source": [
    "'''Esta também é uma\n",
    "\n",
    "comentario de varias linhas'''\n",
    "\n",
    "\"\"\"Este é um\n",
    "\n",
    "comentários de várias linhas\"\"\""
   ]
  },
  {
   "attachments": {},
   "cell_type": "markdown",
   "metadata": {},
   "source": [
    "Quando você cria strings com aspas triplas, você pode estar criando uma docstring."
   ]
  },
  {
   "attachments": {},
   "cell_type": "markdown",
   "metadata": {},
   "source": [
    "Uma docstring é criada usando aspas duplas triplas."
   ]
  },
  {
   "attachments": {},
   "cell_type": "markdown",
   "metadata": {},
   "source": [
    "Aqui está um exemplo:"
   ]
  },
  {
   "cell_type": "code",
   "execution_count": 7,
   "metadata": {},
   "outputs": [
    {
     "data": {
      "text/plain": [
       "'Esta é uma \\ndocstring \\ncom\\nvárias linhas '"
      ]
     },
     "execution_count": 7,
     "metadata": {},
     "output_type": "execute_result"
    }
   ],
   "source": [
    "\"\"\"Esta é uma \n",
    "docstring \n",
    "com\n",
    "várias linhas \"\"\""
   ]
  },
  {
   "attachments": {},
   "cell_type": "markdown",
   "metadata": {},
   "source": [
    "Docstrings são ignoradas pelo Python. Eles não podem ser executados. No entanto, quando você usa uma docstring como a primeira instrução de um módulo, função, etc., a docstring se tornará um atributo especial que pode ser acessado via _doc__. Você aprenderá mais sobre atributos e docstrings no capítulo sobre classes"
   ]
  },
  {
   "attachments": {},
   "cell_type": "markdown",
   "metadata": {},
   "source": [
    "Docstrings podem ser usadas para linhas únicas ou para cadeias de várias linhas."
   ]
  },
  {
   "attachments": {},
   "cell_type": "markdown",
   "metadata": {},
   "source": [
    "Aqui está um exemplo de um one-liner:"
   ]
  },
  {
   "cell_type": "code",
   "execution_count": 8,
   "metadata": {},
   "outputs": [
    {
     "data": {
      "text/plain": [
       "'Este é um one-liner'"
      ]
     },
     "execution_count": 8,
     "metadata": {},
     "output_type": "execute_result"
    }
   ],
   "source": [
    "\"\"\"Este é um one-liner\"\"\""
   ]
  },
  {
   "attachments": {},
   "cell_type": "markdown",
   "metadata": {},
   "source": [
    "Uma docstring one-line é simplesmente uma docstring com apenas uma linha de texto."
   ]
  },
  {
   "attachments": {},
   "cell_type": "markdown",
   "metadata": {},
   "source": [
    "Aqui está um exemplo de uma docstring usada em uma função:"
   ]
  },
  {
   "cell_type": "code",
   "execution_count": 9,
   "metadata": {},
   "outputs": [],
   "source": [
    "def minha_função():\n",
    "    \"\"\" Essa é a docstring da função\"\"\"\n",
    "    pass"
   ]
  },
  {
   "attachments": {},
   "cell_type": "markdown",
   "metadata": {},
   "source": [
    "O código acima mostra como você pode adicionar uma docstring a uma função. Uma boa docstring descreve o que a função deve realizar."
   ]
  },
  {
   "attachments": {},
   "cell_type": "markdown",
   "metadata": {},
   "source": [
    "Existem muitas ferramentas legais que você pode usar para ajudá-lo a escrever ótimos códigos. Aqui estão apenas alguns:\n",
    "\n",
    "- pycodestyle - https://pypi.org/project/pycodestyle/ - Checks if your code follows PEP8\n",
    "- Pylint - https://www.pylint.org/ - An in-depth static code testing tool that finds common issues with code\n",
    "- PyFlakes - https://pypi.org/project/pyflakes/ - Another static code testing tool for Python\n",
    "- flake8 - https://pypi.org/project/flake8/ - A wrapper around PyFlakes, pycodestyle and a McCabe script\n",
    "- Black - https://black.readthedocs.io/en/stable/ - A code formatter that mostly follows PEP8"
   ]
  },
  {
   "attachments": {},
   "cell_type": "markdown",
   "metadata": {},
   "source": [
    "Você pode executar essas ferramentas em seu código para ajudá-lo a encontrar problemas com seu código. Eu descobri que Pylint e PyFlakes / flake8 são os mais úteis. O preto é útil se você estiver trabalhando em equipe e quiser que o código de todos siga o mesmo formato. O preto pode ser adicionado à sua cadeia de ferramentas para formatar seu código para você."
   ]
  },
  {
   "attachments": {},
   "cell_type": "markdown",
   "metadata": {},
   "source": [
    "vem com várias maneiras diferentes de documentar seu código. Você pode usar comentários para explicar uma ou mais linhas de código. Estes devem ser usados com moderação e quando apropriado. Você também pode usar docstrings para documentar seus módulos, funções, métodos e classes."
   ]
  },
  {
   "attachments": {},
   "cell_type": "markdown",
   "metadata": {},
   "source": [
    "Você também deve verificar o guia de estilo do Python que pode ser encontrado no PEP8. Isso o ajudará a desenvolver boas práticas de codificação em Python. Existem vários outros guias de estilo para Python. Por exemplo, você pode querer procurar o guia de estilo do Google ou possivelmente o guia de estilo Python do NumPy. Às vezes, consultar diferentes guias de estilo também o ajudará a desenvolver boas práticas."
   ]
  },
  {
   "cell_type": "code",
   "execution_count": 10,
   "metadata": {},
   "outputs": [
    {
     "name": "stdout",
     "output_type": "stream",
     "text": [
      "Author: Caique Miranda\n",
      "\n",
      "Github username: caiquemiranda\n",
      "\n"
     ]
    }
   ],
   "source": [
    "%reload_ext watermark\n",
    "%watermark -a \"Caique Miranda\" -gu \"caiquemiranda\" -iv"
   ]
  },
  {
   "attachments": {},
   "cell_type": "markdown",
   "metadata": {},
   "source": [
    "### End."
   ]
  }
 ],
 "metadata": {
  "kernelspec": {
   "display_name": "Python 3",
   "language": "python",
   "name": "python3"
  },
  "language_info": {
   "codemirror_mode": {
    "name": "ipython",
    "version": 3
   },
   "file_extension": ".py",
   "mimetype": "text/x-python",
   "name": "python",
   "nbconvert_exporter": "python",
   "pygments_lexer": "ipython3",
   "version": "3.10.5"
  },
  "orig_nbformat": 4
 },
 "nbformat": 4,
 "nbformat_minor": 2
}
