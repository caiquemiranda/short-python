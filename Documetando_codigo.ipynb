{
 "cells": [
  {
   "cell_type": "code",
   "execution_count": null,
   "metadata": {},
   "outputs": [],
   "source": [
    "# Versão da Linguagem Python\n",
    "from platform import python_version\n",
    "print('Versão de Python Neste Jupyter Notebook:', python_version())\n",
    "\n",
    "# usaremos o filtro 'warning' para deixar mais limpo.\n",
    "import warnings\n",
    "warnings.filterwarnings('ignore')"
   ]
  },
  {
   "attachments": {},
   "cell_type": "markdown",
   "metadata": {},
   "source": [
    "### Documentando seu código"
   ]
  },
  {
   "attachments": {},
   "cell_type": "markdown",
   "metadata": {},
   "source": [
    "Documentar seu código desde o início é um pouco mais importante do que a maioria dos novos desenvolvedores imagina. A documentação no desenvolvimento de software refere-se à ideia de dar nomes descritivos às suas variáveis, funções e outros identificadores. Também se refere a adicionar bons comentários. Quando você está imerso no desenvolvimento de sua criação mais recente, é fácil criar variáveis e funções com nomes não descritivos. Quando você voltar ao seu código, gastará uma quantidade excessiva de tempo tentando descobrir o que seu código faz."
   ]
  },
  {
   "attachments": {},
   "cell_type": "markdown",
   "metadata": {},
   "source": [
    "Ao tornar seu código autodocumentado (ou seja, usando nomes descritivos) e adicionando comentários quando necessário, você tornará seu código mais legível para você e para qualquer outra pessoa que possa usar seu código. Isso também facilitará a atualização e a refatoração do seu código!"
   ]
  },
  {
   "attachments": {},
   "cell_type": "markdown",
   "metadata": {},
   "source": [
    "Vamos falar sobre os seguintes topicos:\n",
    "- Comentarios\n",
    "- Docstrings\n",
    "- PEP8 - Estilo de python"
   ]
  },
  {
   "attachments": {},
   "cell_type": "markdown",
   "metadata": {},
   "source": [
    "Os comentários são códigos para você, não para o seu computador. Um comentário é basicamente uma nota para você mesmo que explica o que está acontecendo naquela parte do seu código. Você usa comentários para explicar por que fez algo ou como um trecho de código funciona. Quando você está começando como um novo desenvolvedor, é bom deixar muitos comentários para consultar. Mas depois de aprender a nomear corretamente suas funções e variáveis, você descobrirá que não precisa tanto de comentários."
   ]
  },
  {
   "attachments": {},
   "cell_type": "markdown",
   "metadata": {},
   "source": [
    "No entanto, comentários ainda são recomendados, especialmente para códigos complexos e difíceis de entender à primeira vista. Dependendo da empresa em que você trabalha, você também pode usar comentários para documentar correções de bugs. Por exemplo, se estiver corrigindo um bug, você pode incluir um comentário que mencione qual bug está corrigindo para ajudar a explicar por que teve que alterá-lo."
   ]
  },
  {
   "attachments": {},
   "cell_type": "markdown",
   "metadata": {},
   "source": [
    "Você pode criar comentários usando o sinal # seguido por algum texto descritivo."
   ]
  },
  {
   "cell_type": "code",
   "execution_count": null,
   "metadata": {},
   "outputs": [],
   "source": [
    "# Este é um comentário ruim\n",
    "x = 10"
   ]
  },
  {
   "attachments": {},
   "cell_type": "markdown",
   "metadata": {},
   "source": [
    "No código acima, a primeira linha demonstra como criar um comentário simples. Quando o Python for executar este código, ele verá o símbolo # e ignorará todo o texto que o segue. Na verdade, o Python pulará essa linha e tentará executar a segunda linha."
   ]
  },
  {
   "attachments": {},
   "cell_type": "markdown",
   "metadata": {},
   "source": [
    "Este comentário é marcado como um \"comentário ruim\". Embora seja bom para fins de demonstração, ele não descreve o código que o segue. É por isso que não é um bom comentário. Bons comentários descrevem o código a seguir. Um bom comentário pode descrever o propósito do script Python, a linha de código ou qualquer outra coisa. Os comentários são a documentação do seu código. Se eles não fornecerem informações, eles devem ser removidos."
   ]
  },
  {
   "cell_type": "markdown",
   "metadata": {},
   "source": []
  },
  {
   "cell_type": "markdown",
   "metadata": {},
   "source": []
  },
  {
   "cell_type": "markdown",
   "metadata": {},
   "source": []
  },
  {
   "cell_type": "markdown",
   "metadata": {},
   "source": []
  },
  {
   "cell_type": "code",
   "execution_count": null,
   "metadata": {},
   "outputs": [],
   "source": []
  },
  {
   "cell_type": "code",
   "execution_count": null,
   "metadata": {},
   "outputs": [],
   "source": []
  },
  {
   "cell_type": "code",
   "execution_count": null,
   "metadata": {},
   "outputs": [],
   "source": []
  },
  {
   "cell_type": "code",
   "execution_count": null,
   "metadata": {},
   "outputs": [],
   "source": []
  },
  {
   "cell_type": "code",
   "execution_count": null,
   "metadata": {},
   "outputs": [],
   "source": []
  },
  {
   "cell_type": "code",
   "execution_count": null,
   "metadata": {},
   "outputs": [],
   "source": [
    "%reload_ext watermark\n",
    "%watermark -a \"Caique Miranda\" -gu \"caiquemiranda\" -iv"
   ]
  },
  {
   "attachments": {},
   "cell_type": "markdown",
   "metadata": {},
   "source": [
    "### End."
   ]
  }
 ],
 "metadata": {
  "language_info": {
   "name": "python"
  },
  "orig_nbformat": 4
 },
 "nbformat": 4,
 "nbformat_minor": 2
}
