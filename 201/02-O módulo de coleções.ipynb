{
 "cells": [
  {
   "cell_type": "code",
   "execution_count": null,
   "metadata": {},
   "outputs": [],
   "source": [
    "# Versão da Linguagem Python\n",
    "from platform import python_version\n",
    "print('Versão de Python Neste Jupyter Notebook:', python_version())"
   ]
  },
  {
   "attachments": {},
   "cell_type": "markdown",
   "metadata": {},
   "source": [
    "### O módulo de coleções"
   ]
  },
  {
   "attachments": {},
   "cell_type": "markdown",
   "metadata": {},
   "source": [
    "O módulo de coleções do Python possui tipos de dados de contêiner especializados que podem ser usados para\n",
    "substituir os contêineres de uso geral do Python (dict, tupla, lista e conjunto). Estaremos estudando as seguintes partes\n",
    "deste divertido módulo:"
   ]
  },
  {
   "attachments": {},
   "cell_type": "markdown",
   "metadata": {},
   "source": [
    "• ChainMap •\n",
    "defaultdict •\n",
    "deque •\n",
    "namedtuple •\n",
    "OrderedDict"
   ]
  },
  {
   "attachments": {},
   "cell_type": "markdown",
   "metadata": {},
   "source": [
    "Existe um submódulo de coleções chamado abc ou Abstract Base Classes. Estes não serão abordados neste capítulo."
   ]
  },
  {
   "attachments": {},
   "cell_type": "markdown",
   "metadata": {},
   "source": [
    "Vamos começar com o contêiner ChainMap!"
   ]
  },
  {
   "attachments": {},
   "cell_type": "markdown",
   "metadata": {},
   "source": [
    "#### ChainMap"
   ]
  },
  {
   "attachments": {},
   "cell_type": "markdown",
   "metadata": {},
   "source": [
    "Um ChainMap é uma classe que fornece a capacidade de vincular vários mapeamentos de forma que eles acabem\n",
    "sendo uma única unidade. Se você observar a documentação, notará que ela aceita **mapas*, o que significa que um\n",
    "ChainMap aceitará qualquer número de mapeamentos ou dicionários e os transformará em uma única visualização que\n",
    "você pode atualizar. Vejamos um exemplo para que você possa ver como isso funciona:"
   ]
  },
  {
   "cell_type": "code",
   "execution_count": null,
   "metadata": {},
   "outputs": [],
   "source": []
  },
  {
   "attachments": {},
   "cell_type": "markdown",
   "metadata": {},
   "source": [
    "Aqui importamos o ChainMap do nosso módulo de coleções. Em seguida, criamos três dicionários. Em seguida, criamos\n",
    "uma instância do nosso ChainMap passando os três dicionários que acabamos de criar."
   ]
  },
  {
   "attachments": {},
   "cell_type": "markdown",
   "metadata": {},
   "source": [
    "Finalmente, tentamos acessar uma das chaves em nosso ChainMap. Quando fizermos isso, o ChainMap irá percorrer\n",
    "cada mapa para ver se aquela chave existe e tem um valor. Em caso afirmativo, o ChainMap retornará o primeiro valor\n",
    "que encontrar que corresponda a essa chave."
   ]
  },
  {
   "attachments": {},
   "cell_type": "markdown",
   "metadata": {},
   "source": [
    "Isso é especialmente útil se você deseja configurar padrões. Vamos fingir que queremos criar um aplicativo que tenha\n",
    "alguns padrões. O aplicativo também estará ciente das variáveis de ambiente do sistema operacional. Se houver uma\n",
    "variável de ambiente que corresponda a uma das chaves padronizadas em nosso aplicativo, o ambiente substituirá\n",
    "nosso padrão. Vamos fingir que podemos passar argumentos para nosso aplicativo. Esses argumentos têm precedência\n",
    "sobre o ambiente e os padrões. Este é um lugar onde um ChainMap pode realmente brilhar. Vejamos um exemplo\n",
    "simples baseado em um da documentação do Python:"
   ]
  },
  {
   "cell_type": "code",
   "execution_count": null,
   "metadata": {},
   "outputs": [],
   "source": []
  },
  {
   "attachments": {},
   "cell_type": "markdown",
   "metadata": {},
   "source": [
    "Vamos quebrar isso um pouco. Aqui importamos o módulo argparse do Python junto com o módulo os .\n",
    "Também importamos ChainMap. Em seguida, temos uma função simples que possui alguns padrões bobos. Eu vi\n",
    "esses padrões usados para alguns roteadores populares. Em seguida, configuramos nosso analisador de argumentos\n",
    "e informamos como lidar com certas opções de linha de comando. Você notará que argparse não fornece uma maneira\n",
    "de obter um objeto de dicionário de seus argumentos, então usamos uma compreensão de dict para extrair o que\n",
    "precisamos. A outra parte interessante aqui é o uso de vars integrados do Python . Se você fosse chamá-lo sem um argumento,\n",
    "Finalmente, tentamos acessar uma das chaves em nosso ChainMap. Quando fizermos isso, o ChainMap irá percorrer\n",
    "cada mapa para ver se aquela chave existe e tem um valor. Em caso afirmativo, o ChainMap retornará o primeiro valor\n",
    "que encontrar que corresponda a essa chave.\n",
    "vars se comportaria como os locais integrados do Python . Mas se você passar um objeto, então vars é o equivalente\n",
    "à propriedade _dict__ do objeto ."
   ]
  },
  {
   "attachments": {},
   "cell_type": "markdown",
   "metadata": {},
   "source": [
    "Em outras palavras, vars(args) é igual a args.__dict__. Por fim, crie nosso ChainMap passando nossos argumentos dlinha de comando (se houver), depois as variáveis de ambiente e, finalmente, os padrões.\n",
    "\n",
    "No final do código, tentamos chamar nossa função, definir uma variável de ambiente e chamá-la novamente.\n",
    "Experimente e você verá que ele imprime admin e, em seguida, teste conforme o esperado. Agora vamos tentar\n",
    "chamar o script com um argumento de linha de comando:"
   ]
  },
  {
   "cell_type": "code",
   "execution_count": null,
   "metadata": {},
   "outputs": [],
   "source": []
  },
  {
   "attachments": {},
   "cell_type": "markdown",
   "metadata": {},
   "source": [
    "Quando fiz isto, recuperei o Mike duas vezes. Isso ocorre porque nosso argumento de linha de comando substitui todo\n",
    "o resto. Não importa que definimos o ambiente porque nosso ChainMap examinará os argumentos da linha de comando\n",
    "antes de qualquer outra coisa."
   ]
  },
  {
   "attachments": {},
   "cell_type": "markdown",
   "metadata": {},
   "source": [
    "Agora que você já sabe como usar o ChainMaps, podemos passar para o Counter!"
   ]
  },
  {
   "attachments": {},
   "cell_type": "markdown",
   "metadata": {},
   "source": [
    "#### Contador"
   ]
  },
  {
   "attachments": {},
   "cell_type": "markdown",
   "metadata": {},
   "source": [
    "O módulo de coleções também nos fornece uma pequena ferramenta que suporta contagens convenientes e rápidas.\n",
    "Essa ferramenta é chamada de Contador. Você pode executá-lo na maioria dos iteráveis. Vamos experimentar com\n",
    "uma corda!"
   ]
  },
  {
   "cell_type": "code",
   "execution_count": null,
   "metadata": {},
   "outputs": [],
   "source": []
  },
  {
   "attachments": {},
   "cell_type": "markdown",
   "metadata": {},
   "source": [
    "Neste exemplo, importamos o Counter das coleções e passamos uma string para ele. Isso retorna um objeto Counter\n",
    "que é uma subclasse do dicionário do Python. Em seguida, executamos o mesmo comando, mas o atribuímos à\n",
    "variável contador para que possamos acessar o dicionário um pouco mais facilmente. Nesse caso, vimos que a letra\n",
    "“u” ocorre três vezes na string de exemplo."
   ]
  },
  {
   "attachments": {},
   "cell_type": "markdown",
   "metadata": {},
   "source": [
    "O contador fornece alguns métodos que podem lhe interessar. Por exemplo, você pode chamar elementos que serão\n",
    "um iterador sobre os elementos que estão no dicionário, mas em uma ordem arbitrária. Você pode pensar nessa\n",
    "função como um “embaralhador”, pois a saída nesse caso é uma versão embaralhada da string."
   ]
  },
  {
   "cell_type": "code",
   "execution_count": null,
   "metadata": {},
   "outputs": [],
   "source": []
  },
  {
   "attachments": {},
   "cell_type": "markdown",
   "metadata": {},
   "source": [
    "Outro método útil é most_common. Você pode perguntar ao Contador quais são os itens mais comuns passando\n",
    "um número que representa quais são os “n” itens mais recorrentes:"
   ]
  },
  {
   "cell_type": "code",
   "execution_count": null,
   "metadata": {},
   "outputs": [],
   "source": []
  },
  {
   "cell_type": "markdown",
   "metadata": {},
   "source": []
  },
  {
   "cell_type": "markdown",
   "metadata": {},
   "source": []
  },
  {
   "cell_type": "markdown",
   "metadata": {},
   "source": []
  },
  {
   "cell_type": "markdown",
   "metadata": {},
   "source": []
  },
  {
   "cell_type": "markdown",
   "metadata": {},
   "source": []
  },
  {
   "cell_type": "markdown",
   "metadata": {},
   "source": []
  },
  {
   "cell_type": "markdown",
   "metadata": {},
   "source": []
  },
  {
   "cell_type": "markdown",
   "metadata": {},
   "source": []
  },
  {
   "cell_type": "markdown",
   "metadata": {},
   "source": []
  },
  {
   "cell_type": "markdown",
   "metadata": {},
   "source": []
  },
  {
   "cell_type": "markdown",
   "metadata": {},
   "source": []
  },
  {
   "cell_type": "markdown",
   "metadata": {},
   "source": []
  },
  {
   "attachments": {},
   "cell_type": "markdown",
   "metadata": {},
   "source": []
  },
  {
   "cell_type": "code",
   "execution_count": null,
   "metadata": {},
   "outputs": [],
   "source": [
    "%reload_ext watermark\n",
    "%watermark -a \"Caique Miranda\" -gu \"caiquemiranda\" -iv"
   ]
  },
  {
   "attachments": {},
   "cell_type": "markdown",
   "metadata": {},
   "source": [
    "### End."
   ]
  }
 ],
 "metadata": {
  "language_info": {
   "name": "python"
  },
  "orig_nbformat": 4
 },
 "nbformat": 4,
 "nbformat_minor": 2
}
