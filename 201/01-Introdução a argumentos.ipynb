{
 "cells": [
  {
   "cell_type": "code",
   "execution_count": null,
   "metadata": {},
   "outputs": [],
   "source": [
    "# Versão da Linguagem Python\n",
    "from platform import python_version\n",
    "print('Versão de Python Neste Jupyter Notebook:', python_version())"
   ]
  },
  {
   "attachments": {},
   "cell_type": "markdown",
   "metadata": {},
   "source": [
    "### Uma introdução ao argumento Analisando usando argparse"
   ]
  },
  {
   "attachments": {},
   "cell_type": "markdown",
   "metadata": {},
   "source": [
    "Você já se perguntou como processar argumentos de linha de comando em Python? Sim, existe um módulo\n",
    "para isso. Chama-se argparse, que é um substituto para optparse. Neste artigo, faremos um rápido tour por\n",
    "este módulo útil. Vamos começar com algo simples!"
   ]
  },
  {
   "attachments": {},
   "cell_type": "markdown",
   "metadata": {},
   "source": [
    "#### Começando"
   ]
  },
  {
   "attachments": {},
   "cell_type": "markdown",
   "metadata": {},
   "source": [
    "Sempre achei que a maneira mais simples de explicar um conceito de codificação é mostrar algum código.\n",
    "Então é isso que vamos fazer. Aqui está um exemplo super simples que não faz muita coisa:"
   ]
  },
  {
   "cell_type": "code",
   "execution_count": null,
   "metadata": {},
   "outputs": [],
   "source": []
  },
  {
   "attachments": {},
   "cell_type": "markdown",
   "metadata": {},
   "source": [
    "Aqui, apenas importamos o argparse, fornecemos uma descrição e configuramos uma seção de uso. A ideia\n",
    "aqui é que, quando você pedir ajuda ao programa que está criando, ele lhe dirá como usá-lo. Nesse caso, ele\n",
    "imprime uma descrição simples, os argumentos opcionais padrão (“-h” nesse caso) e um exemplo de uso."
   ]
  },
  {
   "attachments": {},
   "cell_type": "markdown",
   "metadata": {},
   "source": [
    "Agora vamos tornar este exemplo um pouco mais concreto. Afinal, você normalmente não analisará\n",
    "argumentos da linha de comando. Então, moveremos o código para uma função Python dentro de um arquivo Python:"
   ]
  },
  {
   "attachments": {},
   "cell_type": "markdown",
   "metadata": {},
   "source": [
    "Agora vamos chamar o script na linha de comando:"
   ]
  },
  {
   "cell_type": "code",
   "execution_count": null,
   "metadata": {},
   "outputs": [],
   "source": []
  },
  {
   "attachments": {},
   "cell_type": "markdown",
   "metadata": {},
   "source": [
    "Isso imprimirá o texto de ajuda como vimos anteriormente. Agora vamos aprender como adicionar alguns de nossos\n",
    "próprios argumentos personalizados."
   ]
  },
  {
   "attachments": {},
   "cell_type": "markdown",
   "metadata": {},
   "source": [
    "#### Adicionando Argumentos"
   ]
  },
  {
   "attachments": {},
   "cell_type": "markdown",
   "metadata": {},
   "source": [
    "Vamos escrever algum código que adicione três novos argumentos que nosso analisador possa entender. Adicionaremos\n",
    "um argumento que é necessário e dois que não são. Também veremos como adicionar um tipo padrão e um obrigatório.\n",
    "Aqui está o código:"
   ]
  },
  {
   "cell_type": "code",
   "execution_count": null,
   "metadata": {},
   "outputs": [],
   "source": []
  },
  {
   "attachments": {},
   "cell_type": "markdown",
   "metadata": {},
   "source": [
    "Agora vamos executá-lo algumas vezes para que você possa ver o que acontece:"
   ]
  },
  {
   "cell_type": "code",
   "execution_count": null,
   "metadata": {},
   "outputs": [],
   "source": []
  },
  {
   "attachments": {},
   "cell_type": "markdown",
   "metadata": {},
   "source": [
    "Como você pode ver, se você executar o código sem passar nenhum argumento, receberá um erro. Em seguida, passamos apenas o\n",
    "argumento necessário para que você possa ver quais são os padrões para os outros dois. Em seguida, tentamos passar “texto” para o\n",
    "argumento '-y' e ele é armazenado, então sabemos que não requer um booleano."
   ]
  },
  {
   "attachments": {},
   "cell_type": "markdown",
   "metadata": {},
   "source": [
    "Os dois últimos exemplos mostram o que acontece quando você passa um valor inválido e um válido para o argumento '-z'."
   ]
  },
  {
   "attachments": {},
   "cell_type": "markdown",
   "metadata": {},
   "source": [
    "A propósito, os nomes dos argumentos não precisam ter um caractere de comprimento. Você pode alterar algo mais descritivo, como 'arg1'\n",
    "ou 'simulador' ou o que quiser."
   ]
  },
  {
   "attachments": {},
   "cell_type": "markdown",
   "metadata": {},
   "source": [
    "#### Opções curtas e opções longas"
   ]
  },
  {
   "cell_type": "markdown",
   "metadata": {},
   "source": []
  },
  {
   "cell_type": "markdown",
   "metadata": {},
   "source": []
  },
  {
   "cell_type": "code",
   "execution_count": null,
   "metadata": {},
   "outputs": [],
   "source": [
    "%reload_ext watermark\n",
    "%watermark -a \"Caique Miranda\" -gu \"caiquemiranda\" -iv"
   ]
  },
  {
   "attachments": {},
   "cell_type": "markdown",
   "metadata": {},
   "source": [
    "### End."
   ]
  }
 ],
 "metadata": {
  "language_info": {
   "name": "python"
  },
  "orig_nbformat": 4
 },
 "nbformat": 4,
 "nbformat_minor": 2
}
