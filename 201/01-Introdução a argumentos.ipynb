{
 "cells": [
  {
   "cell_type": "code",
   "execution_count": null,
   "metadata": {},
   "outputs": [],
   "source": [
    "# Versão da Linguagem Python\n",
    "from platform import python_version\n",
    "print('Versão de Python Neste Jupyter Notebook:', python_version())"
   ]
  },
  {
   "attachments": {},
   "cell_type": "markdown",
   "metadata": {},
   "source": [
    "### Uma introdução ao argumento Analisando usando argparse"
   ]
  },
  {
   "attachments": {},
   "cell_type": "markdown",
   "metadata": {},
   "source": [
    "Você já se perguntou como processar argumentos de linha de comando em Python? Sim, existe um módulo para isso. Chama-se argparse, que é um substituto para optparse. Neste artigo, faremos um rápido tour por este módulo útil. Vamos começar com algo simples!"
   ]
  },
  {
   "attachments": {},
   "cell_type": "markdown",
   "metadata": {},
   "source": [
    "#### Começando"
   ]
  },
  {
   "attachments": {},
   "cell_type": "markdown",
   "metadata": {},
   "source": [
    "Sempre achei que a maneira mais simples de explicar um conceito de codificação é mostrar algum código. Então é isso que vamos fazer. Aqui está um exemplo super simples que não faz muita coisa:"
   ]
  },
  {
   "cell_type": "code",
   "execution_count": null,
   "metadata": {},
   "outputs": [],
   "source": []
  },
  {
   "attachments": {},
   "cell_type": "markdown",
   "metadata": {},
   "source": [
    "Aqui, apenas importamos o argparse, fornecemos uma descrição e configuramos uma seção de uso. A ideia aqui é que, quando você pedir ajuda ao programa que está criando, ele lhe dirá como usá-lo. Nesse caso, ele imprime uma descrição simples, os argumentos opcionais padrão (“-h” nesse caso) e um exemplo de uso."
   ]
  },
  {
   "attachments": {},
   "cell_type": "markdown",
   "metadata": {},
   "source": [
    "Agora vamos tornar este exemplo um pouco mais concreto. Afinal, você normalmente não analisará argumentos da linha de comando. Então, moveremos o código para uma função Python dentro de um arquivo Python:"
   ]
  },
  {
   "attachments": {},
   "cell_type": "markdown",
   "metadata": {},
   "source": [
    "Agora vamos chamar o script na linha de comando:"
   ]
  },
  {
   "cell_type": "code",
   "execution_count": null,
   "metadata": {},
   "outputs": [],
   "source": []
  },
  {
   "attachments": {},
   "cell_type": "markdown",
   "metadata": {},
   "source": [
    "Isso imprimirá o texto de ajuda como vimos anteriormente. Agora vamos aprender como adicionar alguns de nossos próprios argumentos personalizados."
   ]
  },
  {
   "attachments": {},
   "cell_type": "markdown",
   "metadata": {},
   "source": [
    "#### Adicionando Argumentos"
   ]
  },
  {
   "attachments": {},
   "cell_type": "markdown",
   "metadata": {},
   "source": [
    "Vamos escrever algum código que adicione três novos argumentos que nosso analisador possa entender. Adicionaremos um argumento que é necessário e dois que não são. Também veremos como adicionar um tipo padrão e um obrigatório. Aqui está o código:"
   ]
  },
  {
   "cell_type": "code",
   "execution_count": null,
   "metadata": {},
   "outputs": [],
   "source": []
  },
  {
   "attachments": {},
   "cell_type": "markdown",
   "metadata": {},
   "source": [
    "Agora vamos executá-lo algumas vezes para que você possa ver o que acontece:"
   ]
  },
  {
   "cell_type": "code",
   "execution_count": null,
   "metadata": {},
   "outputs": [],
   "source": []
  },
  {
   "attachments": {},
   "cell_type": "markdown",
   "metadata": {},
   "source": [
    "Como você pode ver, se você executar o código sem passar nenhum argumento, receberá um erro. Em seguida, passamos apenas o argumento necessário para que você possa ver quais são os padrões para os outros dois. Em seguida, tentamos passar “texto” para o argumento '-y' e ele é armazenado, então sabemos que não requer um booleano."
   ]
  },
  {
   "attachments": {},
   "cell_type": "markdown",
   "metadata": {},
   "source": [
    "Os dois últimos exemplos mostram o que acontece quando você passa um valor inválido e um válido para o argumento '-z'."
   ]
  },
  {
   "attachments": {},
   "cell_type": "markdown",
   "metadata": {},
   "source": [
    "A propósito, os nomes dos argumentos não precisam ter um caractere de comprimento. Você pode alterar algo mais descritivo, como 'arg1' ou 'simulador' ou o que quiser."
   ]
  },
  {
   "attachments": {},
   "cell_type": "markdown",
   "metadata": {},
   "source": [
    "#### Opções curtas e opções longas"
   ]
  },
  {
   "attachments": {},
   "cell_type": "markdown",
   "metadata": {},
   "source": [
    "Vamos dar uma olhada em como podemos usar uma opção curta em vez de uma longa. Na verdade, já estamos usando a opção curta aqui:"
   ]
  },
  {
   "cell_type": "code",
   "execution_count": null,
   "metadata": {},
   "outputs": [],
   "source": []
  },
  {
   "attachments": {},
   "cell_type": "markdown",
   "metadata": {},
   "source": [
    "Se quiséssemos uma opção longa, bastaria adicioná-la logo após a curta. Aqui está um exemplo:"
   ]
  },
  {
   "cell_type": "code",
   "execution_count": null,
   "metadata": {},
   "outputs": [],
   "source": []
  },
  {
   "attachments": {},
   "cell_type": "markdown",
   "metadata": {},
   "source": [
    "Você notará que uma opção longa tem mais de um caractere e deve começar com dois travessões em vez de um."
   ]
  },
  {
   "attachments": {},
   "cell_type": "markdown",
   "metadata": {},
   "source": [
    "#### Opções que entram em conflito"
   ]
  },
  {
   "attachments": {},
   "cell_type": "markdown",
   "metadata": {},
   "source": [
    "O que você faz se tiver opções conflitantes entre si? Um exemplo comum seria executar seu aplicativo no modo detalhado versus o modo silencioso. Você pode executá-lo em qualquer modo, mas não em ambos. Como podemos evitar que o usuário o execute dessa maneira? Na verdade, é muito fácil por meio da função mutually_exclusive_group . Vamos fingir que as opções x e y não podem ser executadas ao mesmo tempo e modificar nosso código de acordo:"
   ]
  },
  {
   "cell_type": "code",
   "execution_count": null,
   "metadata": {},
   "outputs": [],
   "source": []
  },
  {
   "attachments": {},
   "cell_type": "markdown",
   "metadata": {},
   "source": [
    "Você notará que temos que criar um grupo mutuamente exclusivo. Em seguida, adicionamos as opções que precisam ser mutuamente exclusivas para esse grupo. O restante vai para o grupo de analisador regular. Vamos tentar executar o código com as duas opções assim:"
   ]
  },
  {
   "cell_type": "code",
   "execution_count": null,
   "metadata": {},
   "outputs": [],
   "source": []
  },
  {
   "attachments": {},
   "cell_type": "markdown",
   "metadata": {},
   "source": [
    "Ao executar este comando, acabei obtendo a seguinte saída:"
   ]
  },
  {
   "cell_type": "code",
   "execution_count": null,
   "metadata": {},
   "outputs": [],
   "source": []
  },
  {
   "attachments": {},
   "cell_type": "markdown",
   "metadata": {},
   "source": [
    "Obviamente, isso não funcionou e o módulo argparse nos disse o porquê."
   ]
  },
  {
   "attachments": {},
   "cell_type": "markdown",
   "metadata": {},
   "source": [
    "#### Empacotando"
   ]
  },
  {
   "attachments": {},
   "cell_type": "markdown",
   "metadata": {},
   "source": [
    "Agora você sabe como criar o básico de um analisador de argumentos. Existem muitos outros aspectos deste módulo nos quais você pode estar interessado, como definir um nome de destino alternativo para o argumento a ser salvo, usar prefixos diferentes (ou seja, '+' em vez de '-'), criar grupos de argumentos e muito mais . Eu recomendo verificar a documentação para mais detalhes."
   ]
  },
  {
   "cell_type": "code",
   "execution_count": null,
   "metadata": {},
   "outputs": [],
   "source": [
    "%reload_ext watermark\n",
    "%watermark -a \"Caique Miranda\" -gu \"caiquemiranda\" -iv"
   ]
  },
  {
   "attachments": {},
   "cell_type": "markdown",
   "metadata": {},
   "source": [
    "### End."
   ]
  }
 ],
 "metadata": {
  "language_info": {
   "name": "python"
  },
  "orig_nbformat": 4
 },
 "nbformat": 4,
 "nbformat_minor": 2
}
